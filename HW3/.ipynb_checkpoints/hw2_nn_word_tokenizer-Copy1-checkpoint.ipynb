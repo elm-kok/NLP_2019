{
 "cells": [
  {
   "cell_type": "markdown",
   "metadata": {},
   "source": [
    "## Word Tokenizer exercise##\n",
    "\n",
    "In this exercise, you are going to build a set of deep learning models on a (sort of) real world task using Tensorflow and Keras. Tensorflow is a deep learning framwork developed by Google, and Keras is a frontend library built on top of Tensorflow (or Theano, CNTK) to provide an easier way to use standard layers and networks.\n",
    "\n",
    "To complete this exercise, you will need to build deep learning models for word tokenization in Thai (แบ่งเว้นวรรคภาษาไทย) using NECTEC's BEST corpus. You will build one model for each of the following type:\n",
    "- Fully Connected (Feedforward) Neural Network\n",
    "- One-Dimentional Convolution Neural Network (1D-CNN)\n",
    "- Recurrent Neural Network with Gated Recurrent Unit (GRU)\n",
    "\n",
    "and one more model of your choice to achieve the highest score possible.\n",
    "\n",
    "We provide the code for data cleaning and some starter code for keras in this notebook but feel free to modify those parts to suit your needs. You can also complete this exercise using only Tensorflow (without using Keras). Feel free to use additional libraries (e.g. scikit-learn) as long as you have a model for each type mentioned above.\n",
    "\n",
    "This notebook assumes you have already installed Tensorflow and Keras with python3 and had GPU enabled. If you run this exercise on GCloud using the provided disk image you are all set.\n",
    "\n",
    "As a reminder,\n",
    "\n",
    "### Don't forget to shut down your instance on Gcloud when you are not using it ###"
   ]
  },
  {
   "cell_type": "code",
   "execution_count": 1,
   "metadata": {},
   "outputs": [],
   "source": [
    "# Run setup code\n",
    "import os\n",
    "import numpy as np\n",
    "import pandas as pd\n",
    "import matplotlib.pyplot as plt\n",
    "%matplotlib inline"
   ]
  },
  {
   "cell_type": "code",
   "execution_count": 2,
   "metadata": {},
   "outputs": [],
   "source": [
    "# Prepare data\n",
    "# You don't need to run the following code as we already did it for you to give everyone the same dataset\n",
    "# import cattern.data_utils\n",
    "# cattern.data_utils.generate_best_dataset(os.getcwd()+'/data', create_val=True)"
   ]
  },
  {
   "cell_type": "markdown",
   "metadata": {},
   "source": [
    "For simplicity, we are going to build a word tokenization model which is a binary classification model trying to predict whether a character is the begining of the word or not (if it is, then there is a space in front of it) and without using any knowledge about type of character (vowel, number, English character etc.).\n",
    "\n",
    "For example,\n",
    "\n",
    "'แมวดำน่ารักมาก' -> 'แมว ดำ น่า รัก มาก'\n",
    "\n",
    "will have these true labels:\n",
    "\n",
    "[(แ,1), (ม,0), (ว,0) (ด,1), ( ำ,0), (น,1), (-่,0), (า,0), (ร,1), (-ั,0), (ก,0), (ม,1), (า,0), (ก,0)]\n",
    "\n",
    "In this task, we will use only main character you are trying to predict  and the characters that surround it (the context) as features. However, you can imagine that a more complex model will try to include more knowledge about each character into the model. You can do that too if you feel like it."
   ]
  },
  {
   "cell_type": "code",
   "execution_count": 3,
   "metadata": {},
   "outputs": [],
   "source": [
    "# Create a character map\n",
    "CHARS = [\n",
    "  '\\n', ' ', '!', '\"', '#', '$', '%', '&', \"'\", '(', ')', '*', '+',\n",
    "  ',', '-', '.', '/', '0', '1', '2', '3', '4', '5', '6', '7', '8',\n",
    "  '9', ':', ';', '<', '=', '>', '?', '@', 'A', 'B', 'C', 'D', 'E',\n",
    "  'F', 'G', 'H', 'I', 'J', 'K', 'L', 'M', 'N', 'O', 'P', 'Q', 'R',\n",
    "  'S', 'T', 'U', 'V', 'W', 'X', 'Y', 'Z', '[', '\\\\', ']', '^', '_',\n",
    "  'a', 'b', 'c', 'd', 'e', 'f', 'g', 'h', 'i', 'j', 'k', 'l', 'm',\n",
    "  'n', 'o', 'other', 'p', 'q', 'r', 's', 't', 'u', 'v', 'w', 'x', 'y',\n",
    "  'z', '}', '~', 'ก', 'ข', 'ฃ', 'ค', 'ฅ', 'ฆ', 'ง', 'จ', 'ฉ', 'ช',\n",
    "  'ซ', 'ฌ', 'ญ', 'ฎ', 'ฏ', 'ฐ', 'ฑ', 'ฒ', 'ณ', 'ด', 'ต', 'ถ', 'ท',\n",
    "  'ธ', 'น', 'บ', 'ป', 'ผ', 'ฝ', 'พ', 'ฟ', 'ภ', 'ม', 'ย', 'ร', 'ฤ',\n",
    "  'ล', 'ว', 'ศ', 'ษ', 'ส', 'ห', 'ฬ', 'อ', 'ฮ', 'ฯ', 'ะ', 'ั', 'า',\n",
    "  'ำ', 'ิ', 'ี', 'ึ', 'ื', 'ุ', 'ู', 'ฺ', 'เ', 'แ', 'โ', 'ใ', 'ไ',\n",
    "  'ๅ', 'ๆ', '็', '่', '้', '๊', '๋', '์', 'ํ', '๐', '๑', '๒', '๓',\n",
    "  '๔', '๕', '๖', '๗', '๘', '๙', '‘', '’', '\\ufeff'\n",
    "]\n",
    "CHARS_MAP = {v: k for k, v in enumerate(CHARS)}"
   ]
  },
  {
   "cell_type": "code",
   "execution_count": 4,
   "metadata": {},
   "outputs": [],
   "source": [
    "def create_n_gram_df(df, n_pad):\n",
    "  \"\"\"\n",
    "  Given an input dataframe, create a feature dataframe of shifted characters\n",
    "  Input:\n",
    "  df: timeseries of size (N)\n",
    "  n_pad: the number of context. For a given character at position [idx],\n",
    "    character at position [idx-n_pad/2 : idx+n_pad/2] will be used \n",
    "    as features for that character.\n",
    "  \n",
    "  Output:\n",
    "  dataframe of size (N * n_pad) which each row contains the character, \n",
    "    n_pad_2 characters to the left, and n_pad_2 characters to the right\n",
    "    of that character.\n",
    "  \"\"\"\n",
    "  n_pad_2 = int((n_pad - 1)/2)\n",
    "  for i in range(n_pad_2):\n",
    "      df['char-{}'.format(i+1)] = df['char'].shift(i + 1)\n",
    "      df['char{}'.format(i+1)] = df['char'].shift(-i - 1)\n",
    "  return df[n_pad_2: -n_pad_2]"
   ]
  },
  {
   "cell_type": "code",
   "execution_count": 5,
   "metadata": {},
   "outputs": [],
   "source": [
    "def prepare_feature(best_processed_path, option='train'):\n",
    "  \"\"\"\n",
    "  Transform the path to a directory containing processed files \n",
    "  into a feature matrix and output array\n",
    "  Input:\n",
    "  best_processed_path: str, path to a processed version of the BEST dataset\n",
    "  option: str, 'train' or 'test'\n",
    "  \"\"\"\n",
    "  # we use padding equals 21 here to consider 10 characters to the left\n",
    "  # and 10 characters to the right as features for the character in the middle\n",
    "  n_pad = 21\n",
    "  n_pad_2 = int((n_pad - 1)/2)\n",
    "  pad = [{'char': ' ', 'target': True}]\n",
    "  df_pad = pd.DataFrame(pad * n_pad_2)\n",
    "\n",
    "  df = []\n",
    "  # article types in BEST corpus\n",
    "  article_types = ['article', 'encyclopedia', 'news', 'novel']\n",
    "  for article_type in article_types:\n",
    "      df.append(pd.read_csv(os.path.join(best_processed_path, option, 'df_best_{}_{}.csv'.format(article_type, option))))\n",
    "  \n",
    "  df = pd.concat(df)\n",
    "  # pad with empty string feature\n",
    "  df = pd.concat((df_pad, df, df_pad))\n",
    "\n",
    "  # map characters to numbers, use 'other' if not in the predefined character set.\n",
    "  df['char'] = df['char'].map(lambda x: CHARS_MAP.get(x, 80))\n",
    "\n",
    "  # Use nearby characters as features\n",
    "  df_with_context = create_n_gram_df(df, n_pad=n_pad)\n",
    "\n",
    "  char_row = ['char' + str(i + 1) for i in range(n_pad_2)] + \\\n",
    "             ['char-' + str(i + 1) for i in range(n_pad_2)] + ['char']\n",
    "\n",
    "  # convert pandas dataframe to numpy array to feed to the model\n",
    "  x_char = df_with_context[char_row].as_matrix()\n",
    "  y = df_with_context['target'].astype(int).as_matrix()\n",
    "\n",
    "  return x_char, y"
   ]
  },
  {
   "cell_type": "markdown",
   "metadata": {},
   "source": [
    "Before running the following commands, we must inform you that our data is quite large and loading the whole dataset at once will **use a lot of memory (~6 GB after processing and up to ~12GB while processing)**. We expect you to be running this on Google Cloud so that you will not run into this problem. But, if, for any reason, you have to run this on your PC or machine with not enough memory, you might need to write a data generator to process a few entries at a time then feed it to the model while training.\n",
    "\n",
    "For keras, you can use [fit_generator](https://keras.io/getting-started/faq/#how-can-i-use-keras-with-datasets-that-dont-fit-in-memory) to cope with that."
   ]
  },
  {
   "cell_type": "code",
   "execution_count": 6,
   "metadata": {},
   "outputs": [],
   "source": [
    "# Path to the preprocessed data\n",
    "best_processed_path = 'corpora/BEST'"
   ]
  },
  {
   "cell_type": "code",
   "execution_count": 7,
   "metadata": {},
   "outputs": [
    {
     "name": "stderr",
     "output_type": "stream",
     "text": [
      "/home/burin/.env/lib/python3.5/site-packages/ipykernel_launcher.py:36: FutureWarning: Method .as_matrix will be removed in a future version. Use .values instead.\n",
      "/home/burin/.env/lib/python3.5/site-packages/ipykernel_launcher.py:37: FutureWarning: Method .as_matrix will be removed in a future version. Use .values instead.\n"
     ]
    },
    {
     "name": "stdout",
     "output_type": "stream",
     "text": [
      "Training data shape:  (16461637, 21)\n",
      "Training data labels shape:  (16461637,)\n",
      "Validation data shape:  (2035694, 21)\n",
      "Validation data labels shape:  (2035694,)\n",
      "Test data shape:  (2271932, 21)\n",
      "Test data labels shape:  (2271932,)\n"
     ]
    }
   ],
   "source": [
    "# Load preprocessed BEST corpus\n",
    "x_train_char, y_train = prepare_feature(best_processed_path, option='train')\n",
    "x_val_char, y_val = prepare_feature(best_processed_path, option='val')\n",
    "x_test_char, y_test = prepare_feature(best_processed_path, option='test')\n",
    "\n",
    "# As a sanity check, we print out the size of the training, val, and test data.\n",
    "print('Training data shape: ', x_train_char.shape)\n",
    "print('Training data labels shape: ', y_train.shape)\n",
    "print('Validation data shape: ', x_val_char.shape)\n",
    "print('Validation data labels shape: ', y_val.shape)\n",
    "print('Test data shape: ', x_test_char.shape)\n",
    "print('Test data labels shape: ', y_test.shape)"
   ]
  },
  {
   "cell_type": "code",
   "execution_count": 8,
   "metadata": {},
   "outputs": [
    {
     "name": "stdout",
     "output_type": "stream",
     "text": [
      "First 3 features:  [[112. 140. 114. 148. 130. 142.  94. 142. 128. 128.   1.   1.   1.   1.\n",
      "    1.   1.   1.   1.   1.   1.  97.]\n",
      " [140. 114. 148. 130. 142.  94. 142. 128. 128. 141.  97.   1.   1.   1.\n",
      "    1.   1.   1.   1.   1.   1. 112.]\n",
      " [114. 148. 130. 142.  94. 142. 128. 128. 141. 109. 112.  97.   1.   1.\n",
      "    1.   1.   1.   1.   1.   1. 140.]]\n",
      "First 30 class labels [1 0 0 0 0 0 0 0 0 0 0 0 0 0 0 0 0 0 0 0 1 0 0 1 0 0 0 1 0 0]\n"
     ]
    }
   ],
   "source": [
    "# Print some entry from the data to make sure it is the same as what you think.\n",
    "print('First 3 features: ', x_train_char[:3])\n",
    "print('First 30 class labels', y_train[:30])"
   ]
  },
  {
   "cell_type": "code",
   "execution_count": 9,
   "metadata": {},
   "outputs": [
    {
     "name": "stdout",
     "output_type": "stream",
     "text": [
      "ค:  ค ณะตุลาการร\tpred = 1\n",
      "ณ: ค ณ ะตุลาการรั\tpred = 0\n",
      "ะ: คณ ะ ตุลาการรัฐ\tpred = 0\n",
      "ต: คณะ ต ุลาการรัฐธ\tpred = 0\n",
      "ุ: คณะต ุ ลาการรัฐธร\tpred = 0\n",
      "ล: คณะตุ ล าการรัฐธรร\tpred = 0\n",
      "า: คณะตุล า การรัฐธรรม\tpred = 0\n",
      "ก: คณะตุลา ก ารรัฐธรรมน\tpred = 0\n",
      "า: คณะตุลาก า รรัฐธรรมนู\tpred = 0\n",
      "ร: คณะตุลากา ร รัฐธรรมนูญ\tpred = 0\n",
      "ร: คณะตุลาการ ร ัฐธรรมนูญก\tpred = 0\n",
      "ั: ณะตุลาการร ั ฐธรรมนูญกั\tpred = 0\n",
      "ฐ: ะตุลาการรั ฐ ธรรมนูญกับ\tpred = 0\n",
      "ธ: ตุลาการรัฐ ธ รรมนูญกับค\tpred = 0\n",
      "ร: ุลาการรัฐธ ร รมนูญกับคว\tpred = 0\n",
      "ร: ลาการรัฐธร ร มนูญกับควา\tpred = 0\n",
      "ม: าการรัฐธรร ม นูญกับความ\tpred = 0\n",
      "น: การรัฐธรรม น ูญกับความเ\tpred = 0\n",
      "ู: ารรัฐธรรมน ู ญกับความเป\tpred = 0\n",
      "ญ: รรัฐธรรมนู ญ กับความเป็\tpred = 0\n",
      "ก: รัฐธรรมนูญ ก ับความเป็น\tpred = 1\n",
      "ั: ัฐธรรมนูญก ั บความเป็นอ\tpred = 0\n",
      "บ: ฐธรรมนูญกั บ ความเป็นอง\tpred = 0\n",
      "ค: ธรรมนูญกับ ค วามเป็นองค\tpred = 1\n",
      "ว: รรมนูญกับค ว ามเป็นองค์\tpred = 0\n",
      "า: รมนูญกับคว า มเป็นองค์ก\tpred = 0\n",
      "ม: มนูญกับควา ม เป็นองค์กร\tpred = 0\n",
      "เ: นูญกับความ เ ป็นองค์กรต\tpred = 1\n",
      "ป: ูญกับความเ ป ็นองค์กรตุ\tpred = 0\n",
      "็: ญกับความเป ็ นองค์กรตุล\tpred = 0\n"
     ]
    }
   ],
   "source": [
    "#print char of feature 1\n",
    "char = np.array(CHARS)\n",
    "\n",
    "#A function for displaying our features in text\n",
    "def print_features(tfeature,label,index):\n",
    "    feature = np.array(tfeature[index],dtype=int).reshape(21,1)\n",
    "    #Convert to string\n",
    "    char_list = char[feature]\n",
    "    left = ''.join(reversed(char_list[10:20].reshape(10))).replace(\" \", \"\")\n",
    "    center = ''.join(char_list[20])\n",
    "    right =  ''.join(char_list[0:10].reshape(10)).replace(\" \", \"\")\n",
    "    word = ''.join([left,' ',center,' ',right])\n",
    "    print(center + ': ' + word + \"\\tpred = \"+str(label[index]))\n",
    "\n",
    "for ind in range(0,30):\n",
    "    print_features(x_train_char,y_train,ind)"
   ]
  },
  {
   "cell_type": "markdown",
   "metadata": {},
   "source": [
    "Now, you are going to define the model to be used as your classifier. If you are using Keras, please follow the guideline we provide below. We encourage you to use the Keras Funtional API instead of the Sequential model as it is easier to create complex models (and to read your code). You can find more about Keras Functional API on Keras [documentation](https://keras.io/getting-started/functional-api-guide/).\n",
    "\n",
    "You need to create a function that return a model you want and write code that invoke _**model.fit**_ to train your model. For example, your function ***get_nn()*** might looks like this:\n",
    "\n",
    "```python\n",
    "def get_nn():\n",
    "  input1 = Input(...)\n",
    "  ...\n",
    "  # Create your wonderful model.\n",
    "  ...\n",
    "  out = ...\n",
    "  model = Model(inputs=input1, outputs=out)\n",
    "  model.compile(...)\n",
    "return model\n",
    "```\n",
    "\n",
    "Also, beware that complex model requires more time to train and your dataset is already quite large. We tested it with a simple 1-hidden-layered feedforward nueral network and it used ~10 mins to train 1 epoch. It got more than 95% accuracy on validation set after the first epoch, so you should aim for a model with accuracy around 96-98%."
   ]
  },
  {
   "cell_type": "markdown",
   "metadata": {},
   "source": [
    "# Three-Layer Feedforward Neural Networks\n",
    "\n",
    "Below, we provide you the code for creating a 3-layer fully connected neural network in keras. This will also serve as the baseline for your other models. Run the code below while making sure you understand what you are doing. Then, report the results."
   ]
  },
  {
   "cell_type": "code",
   "execution_count": 10,
   "metadata": {},
   "outputs": [
    {
     "name": "stderr",
     "output_type": "stream",
     "text": [
      "Using TensorFlow backend.\n"
     ]
    }
   ],
   "source": [
    "from keras.models import Model\n",
    "from keras.layers import Input, Dense\n",
    "from keras.optimizers import Adam\n",
    "\n",
    "def get_feedforward_nn():\n",
    "  input1 = Input(shape=(21,))\n",
    "  x = Dense(100, activation='relu')(input1)\n",
    "  x = Dense(100, activation='relu')(x)\n",
    "  x = Dense(100, activation='relu')(x)\n",
    "  out = Dense(1, activation='sigmoid')(x)\n",
    "\n",
    "  model = Model(inputs=input1, outputs=out)\n",
    "  model.compile(optimizer=Adam(),\n",
    "                loss='binary_crossentropy',\n",
    "                metrics=['acc'])\n",
    "  return model"
   ]
  },
  {
   "cell_type": "code",
   "execution_count": 11,
   "metadata": {},
   "outputs": [
    {
     "name": "stdout",
     "output_type": "stream",
     "text": [
      "start training\n",
      "train with 3 epochs and 512 batch size\n",
      "Train on 16461637 samples, validate on 2035694 samples\n",
      "Epoch 1/3\n",
      "16461637/16461637 [==============================] - 172s 10us/step - loss: 4.3889 - acc: 0.7277 - val_loss: 4.3902 - val_acc: 0.7276\n",
      "\n",
      "Epoch 00001: val_loss improved from inf to 4.39020, saving model to /data/model_weight_feedforward_nn.h5\n",
      "Epoch 2/3\n",
      "16461637/16461637 [==============================] - 171s 10us/step - loss: 4.3886 - acc: 0.7277 - val_loss: 4.3902 - val_acc: 0.7276\n",
      "\n",
      "Epoch 00002: val_loss did not improve from 4.39020\n",
      "Epoch 3/3\n",
      "16461637/16461637 [==============================] - 170s 10us/step - loss: 4.3886 - acc: 0.7277 - val_loss: 4.3902 - val_acc: 0.7276\n",
      "\n",
      "Epoch 00003: val_loss did not improve from 4.39020\n"
     ]
    }
   ],
   "source": [
    "from keras.callbacks import ModelCheckpoint, TensorBoard\n",
    "\n",
    "# This is called to clear the original model session in order to use TensorBoard\n",
    "from keras import backend as K\n",
    "K.clear_session()\n",
    "\n",
    "# Path to save model parameters\n",
    "weight_path_feedforward_nn='/data/model_weight_feedforward_nn.h5'\n",
    "\n",
    "# Training callbacks list. TensorBoard() write logs for tensorboard GUI. \n",
    "# ModelCheckpoint() writes the resulting model.\n",
    "# Note that writing to disk takes time (longer than model training time). \n",
    "# For other sections, you might not writing any files to disk \n",
    "# or write only the graph for TensorBoard.\n",
    "callbacks_list_feedforward_nn = [\n",
    "        TensorBoard(log_dir='/data/Graph/ff', histogram_freq=1, write_graph=True, write_grads=False),\n",
    "        ModelCheckpoint(\n",
    "            weight_path_feedforward_nn,\n",
    "            save_best_only=True,\n",
    "            save_weights_only=True,\n",
    "            monitor='val_loss',\n",
    "            mode='min',\n",
    "            verbose=1\n",
    "        )\n",
    "  ]\n",
    "\n",
    "print('start training')\n",
    "verbose = 1\n",
    "model_feedforward_nn = get_feedforward_nn()\n",
    "train_params = [(3, 512)]\n",
    "for (epochs, batch_size) in train_params:\n",
    "  print(\"train with {} epochs and {} batch size\".format(epochs, batch_size))\n",
    "  model_feedforward_nn.fit(x_train_char, y_train, epochs=epochs, batch_size=batch_size, verbose=verbose,\n",
    "                           callbacks=callbacks_list_feedforward_nn,\n",
    "                           validation_data=(x_val_char, y_val))"
   ]
  },
  {
   "cell_type": "code",
   "execution_count": 12,
   "metadata": {},
   "outputs": [],
   "source": [
    "################################################################################\n",
    "# In case you want to close the session, you can re-load the model by          #\n",
    "################################################################################\n",
    "# weight_path_feedforward_nn='/data/model_weight_feedforward_nn.h5'\n",
    "# model_feedforward_nn = get_feedforward_nn()\n",
    "# model_feedforward_nn.load_weights(weight_path_feedforward_nn)\n",
    "# model_feedforward_nn._make_predict_function()\n",
    "# model_feedforward_nn.summary()"
   ]
  },
  {
   "cell_type": "code",
   "execution_count": 13,
   "metadata": {},
   "outputs": [],
   "source": [
    "from sklearn.metrics import f1_score,precision_score,recall_score\n",
    "\n",
    "################################################################################\n",
    "# Write a function to evaluate your model. Your function must make prediction  #\n",
    "# using the input model and return f-score, precision, and recall of the model.#\n",
    "# You can make predictions by calling model.predict().                         #\n",
    "################################################################################\n",
    "def evaluate(x_test, y_test, model):\n",
    "  \"\"\"\n",
    "  Evaluate model on the splitted 10 percent testing set.\n",
    "  \"\"\"\n",
    "  y_pred = model.predict(x_test)\n",
    "\n",
    "  #map probability to class\n",
    "  prob_to_class = lambda p: 1 if p[0]>=0.5 else 0\n",
    "  y_pred = np.apply_along_axis(prob_to_class,1,y_pred)\n",
    "    \n",
    "  f1score = f1_score(y_test,y_pred)\n",
    "  precision = precision_score(y_test,y_pred)\n",
    "  recall = recall_score(y_test,y_pred)\n",
    "  return f1score, precision, recall"
   ]
  },
  {
   "cell_type": "code",
   "execution_count": 14,
   "metadata": {},
   "outputs": [
    {
     "name": "stderr",
     "output_type": "stream",
     "text": [
      "/home/burin/.env/lib/python3.5/site-packages/sklearn/metrics/classification.py:1143: UndefinedMetricWarning: F-score is ill-defined and being set to 0.0 due to no predicted samples.\n",
      "  'precision', 'predicted', average, warn_for)\n",
      "/home/burin/.env/lib/python3.5/site-packages/sklearn/metrics/classification.py:1143: UndefinedMetricWarning: Precision is ill-defined and being set to 0.0 due to no predicted samples.\n",
      "  'precision', 'predicted', average, warn_for)\n"
     ]
    },
    {
     "data": {
      "text/plain": [
       "(0.0, 0.0, 0.0)"
      ]
     },
     "execution_count": 14,
     "metadata": {},
     "output_type": "execute_result"
    }
   ],
   "source": [
    "evaluate(x_test_char, y_test, model_feedforward_nn)"
   ]
  },
  {
   "cell_type": "markdown",
   "metadata": {},
   "source": [
    "# Debugging\n",
    "\n",
    "In order to understand what is going on in your model and where the error is, you should try looking at the inputs your model made wrong predictions.\n",
    "\n",
    "In this task, write a function to print the characters on test data that got wrong prediction along with its context of size 10 (from [x-10] to [x+10]). Examine a fews of those and write your assumption on where the model got wrong prediction."
   ]
  },
  {
   "cell_type": "code",
   "execution_count": 15,
   "metadata": {},
   "outputs": [],
   "source": [
    "# TODO#1\n",
    "# Write code to show a few of the errors the models made.\n",
    "import random\n",
    "def debugging(x_test, y_test, model):\n",
    "    tmp=[]\n",
    "    y_pred = model.predict(x_test)\n",
    "    prob_to_class = lambda p: 1 if p[0]>=0.5 else 0\n",
    "    y_pred = np.apply_along_axis(prob_to_class,1,y_pred)\n",
    "    for i in range (len(y_pred)):\n",
    "        if y_pred[i]!=y_test[i]:\n",
    "            #print(context[i],'expect:',trueData[i],'predict:',result[i]);\n",
    "            tmp.append(i)\n",
    "    r = random.randint(0,len(tmp)-11)\n",
    "    print('Wrong prediction randomly 10 samples of',len(tmp),'samples:\\n')\n",
    "    for ind in tmp[r:r+10]:\n",
    "        print_features(x_test,y_pred,ind)\n",
    "    del tmp;\n",
    "pass"
   ]
  },
  {
   "cell_type": "code",
   "execution_count": 16,
   "metadata": {},
   "outputs": [
    {
     "name": "stdout",
     "output_type": "stream",
     "text": [
      "Wrong prediction randomly 10 samples of 633045 samples:\n",
      "\n",
      "เ: คนน้อยกลาย เ ป็นพลังระด\tpred = 0\n",
      "พ: อยกลายเป็น พ ลังระดับโล\tpred = 0\n",
      "ร: ายเป็นพลัง ร ะดับโลกที่\tpred = 0\n",
      "โ: นพลังระดับ โ ลกที่มหาอำ\tpred = 0\n",
      "ท: ังระดับโลก ท ี่มหาอำนาจ\tpred = 0\n",
      "ม: ะดับโลกที่ ม หาอำนาจนึก\tpred = 0\n",
      "น: ี่มหาอำนาจ น ึกไม่ถึงแ\tpred = 0\n",
      "ไ: หาอำนาจนึก ไ ม่ถึงแม้ว\tpred = 0\n",
      "ถ: ำนาจนึกไม่ ถ ึงแม้วันน\tpred = 0\n",
      " : จนึกไม่ถึง   แม้วันนี้จ\tpred = 0\n"
     ]
    }
   ],
   "source": [
    "debugging(x_test_char,y_test,model_feedforward_nn)"
   ]
  },
  {
   "cell_type": "markdown",
   "metadata": {},
   "source": [
    "# Write your answer here\n",
    "\n",
    "**Your answer**: TODO#2\n",
    "\n",
    "Because datasets are based on character not word or surround word. So it can cause mistake of predition of the model trained that datasets. most mistake result in meaning and context."
   ]
  },
  {
   "cell_type": "markdown",
   "metadata": {},
   "source": [
    "# Tensorboard #\n",
    "The code provided also have Tensorboard (a visualization tool that comes with Tensorflow). Note the part that calls it `TensorBoard(log_dir='./Graph/' + graph_name, histogram_freq=1, write_graph=True, write_grads=True)`. This tells Tensorflow to write extra outputs to the `log_dir` which can then be used for visualization.\n",
    "\n",
    "To start tensorboard do\n",
    "```\n",
    "tensorboard --logdir=/full_path_to_your_logs\n",
    "```\n",
    "from the commandline. This will launch tensorboard, you will be able to access it from a web browser by pointint the url to `<instance-ip>:6006`. You will need to enable additional firewall rules in Gcloud for this.\n",
    "\n",
    "In Tensorboard, you will be able to debug your computation graph which can be hard to keep track in code. This is might seem trivial in Keras, but it is very helpful for Tensorflow. You can see a visualization of the computation graph at the `GRAPH` tab. If you see multiple dense layers (more than 4), this is caused by running the code several times without deleting the log dir. Delete the log dir and re-run the code.\n",
    "\n",
    "Next, let's look at the scalars tab, we can see the loss and accuracy on the training and validation set as they change over each epoch. This can be useful to detect overfitting.\n",
    "\n",
    "Another useful tab is the histograms tab (Enable by setting 'write_grads=True'). This plot histograms of the weights, biases, and outputs of each layer. The depth of the histograms show the change over epochs. We can see how the histograms of weights change over the training peroid. This can be used to debug vanishing gradients or getting stuck in local minimas.\n",
    "\n",
    "There are other useful tabs in Tensorboard, you can read about them in the Keras [documentation](https://keras.io/callbacks/#tensorboard) for tensorboard."
   ]
  },
  {
   "cell_type": "markdown",
   "metadata": {},
   "source": [
    "# Tensorboard observation\n",
    "\n",
    "Write your own interpretation of the logs from this example. A simple sentence or two for each tab is sufficient.\n",
    "\n",
    "**Your answer**: TODO#3\n",
    "<img src=\"https://github.com/elm-kok/i3-config/blob/master/png.png?raw=true\">\n",
    "<img src=\"https://github.com/elm-kok/i3-config/blob/master/Screenshot%20from%202019-01-23%2014-38-17.png?raw=true\">\n",
    "\n",
    "I cannot open tensorboard on gloud because code:400 but jupyter-notebook work.\n",
    "in this graph, I found that it isn't overfit after train after 2 epochs because val_loss can continuely go down.\n",
    "for local minimas, in 2 epochs the weights are quite change i don't think it stuck in local minimas."
   ]
  },
  {
   "cell_type": "markdown",
   "metadata": {},
   "source": [
    "# Dropout\n",
    "\n",
    "You might notice that the 3-layered feedforward does not use dropout at all. Now, try adding dropout to the model, run, and report the result again."
   ]
  },
  {
   "cell_type": "code",
   "execution_count": 17,
   "metadata": {},
   "outputs": [],
   "source": [
    "# TODO#4\n",
    "# Write a function that return feedforward model with dropout\n",
    "from keras.layers import Dropout\n",
    "def get_nn_with_dropout():\n",
    "  input1 = Input(shape=(21,))\n",
    "  x = Dense(100, activation='relu')(input1)\n",
    "  x = Dense(100, activation='relu')(x)\n",
    "  x = Dense(100, activation='relu')(x)\n",
    "  x = Dropout(0.5)(x)\n",
    "  out = Dense(1, activation='sigmoid')(x)\n",
    "\n",
    "  model = Model(inputs=input1, outputs=out)\n",
    "  model.compile(optimizer=Adam(),\n",
    "                loss='binary_crossentropy',\n",
    "                metrics=['acc'])\n",
    "  return model"
   ]
  },
  {
   "cell_type": "code",
   "execution_count": 18,
   "metadata": {},
   "outputs": [
    {
     "name": "stdout",
     "output_type": "stream",
     "text": [
      "start training\n",
      "train with 3 epochs and 512 batch size\n",
      "Train on 16461637 samples, validate on 2035694 samples\n",
      "Epoch 1/3\n",
      " - 174s - loss: 0.4131 - acc: 0.8385 - val_loss: 0.3057 - val_acc: 0.8678\n",
      "\n",
      "Epoch 00001: val_loss improved from inf to 0.30570, saving model to /data/model_weight_feedforward_dropout.h5\n",
      "Epoch 2/3\n",
      " - 173s - loss: 0.3103 - acc: 0.8665 - val_loss: 0.2870 - val_acc: 0.8761\n",
      "\n",
      "Epoch 00002: val_loss improved from 0.30570 to 0.28699, saving model to /data/model_weight_feedforward_dropout.h5\n",
      "Epoch 3/3\n",
      " - 173s - loss: 0.2936 - acc: 0.8750 - val_loss: 0.2828 - val_acc: 0.8780\n",
      "\n",
      "Epoch 00003: val_loss improved from 0.28699 to 0.28280, saving model to /data/model_weight_feedforward_dropout.h5\n"
     ]
    }
   ],
   "source": [
    "from keras.callbacks import ModelCheckpoint, TensorBoard\n",
    "\n",
    "# This is called to clear the original model session in order to use TensorBoard\n",
    "from keras import backend as K\n",
    "#K.clear_session()\n",
    "\n",
    "# Path to save model parameters\n",
    "weight_path_feedforward_dropout='/data/model_weight_feedforward_dropout.h5'\n",
    "\n",
    "# Training callbacks list. TensorBoard() write logs for tensorboard GUI. \n",
    "# ModelCheckpoint() writes the resulting model.\n",
    "# Note that writing to disk takes time (longer than model training time). \n",
    "# For other sections, you might not writing any files to disk \n",
    "# or write only the graph for TensorBoard.\n",
    "callbacks_list_feedforward_dropout = [\n",
    "        #TensorBoard(log_dir='/data/Graph/ff_dropout', histogram_freq=1, write_graph=True, write_grads=False),\n",
    "        ModelCheckpoint(\n",
    "            weight_path_feedforward_dropout,\n",
    "            save_best_only=True,\n",
    "            save_weights_only=True,\n",
    "            monitor='val_loss',\n",
    "            mode='min',\n",
    "            verbose=1\n",
    "        )\n",
    "  ]\n",
    "\n",
    "# Train your model\n",
    "print('start training')\n",
    "verbose = 2\n",
    "model_nn_with_dropout = get_nn_with_dropout()\n",
    "# TODO#5\n",
    "# Complete the code to train your model with dropout\n",
    "################################################################################\n",
    "#                            WRITE YOUR CODE BELOW                             #\n",
    "################################################################################\n",
    "train_params = [(3, 512)]\n",
    "for (epochs, batch_size) in train_params:\n",
    "  print(\"train with {} epochs and {} batch size\".format(epochs, batch_size))\n",
    "  model_nn_with_dropout.fit(x_train_char, y_train, epochs=epochs, batch_size=batch_size, verbose=verbose,\n",
    "                           callbacks=callbacks_list_feedforward_dropout,\n",
    "                           validation_data=(x_val_char, y_val))"
   ]
  },
  {
   "cell_type": "code",
   "execution_count": 19,
   "metadata": {},
   "outputs": [
    {
     "name": "stdout",
     "output_type": "stream",
     "text": [
      "_________________________________________________________________\n",
      "Layer (type)                 Output Shape              Param #   \n",
      "=================================================================\n",
      "input_2 (InputLayer)         (None, 21)                0         \n",
      "_________________________________________________________________\n",
      "dense_5 (Dense)              (None, 100)               2200      \n",
      "_________________________________________________________________\n",
      "dense_6 (Dense)              (None, 100)               10100     \n",
      "_________________________________________________________________\n",
      "dense_7 (Dense)              (None, 100)               10100     \n",
      "_________________________________________________________________\n",
      "dropout_1 (Dropout)          (None, 100)               0         \n",
      "_________________________________________________________________\n",
      "dense_8 (Dense)              (None, 1)                 101       \n",
      "=================================================================\n",
      "Total params: 22,501\n",
      "Trainable params: 22,501\n",
      "Non-trainable params: 0\n",
      "_________________________________________________________________\n"
     ]
    }
   ],
   "source": [
    "model_nn_with_dropout.summary()"
   ]
  },
  {
   "cell_type": "code",
   "execution_count": 20,
   "metadata": {},
   "outputs": [
    {
     "data": {
      "text/plain": [
       "(0.7692190481408212, 0.8395909794218996, 0.7097315356728194)"
      ]
     },
     "execution_count": 20,
     "metadata": {},
     "output_type": "execute_result"
    }
   ],
   "source": [
    "evaluate(x_test_char, y_test, model_nn_with_dropout)"
   ]
  },
  {
   "cell_type": "markdown",
   "metadata": {},
   "source": [
    "# Convolution Neural Networks\n",
    "\n",
    "Now, you are going to implement you own 1d-convolution neural networks with the following structure:\n",
    "input -> embedding layer (size 32) -> 1D-convolution layer (100 filters of size 5, strides of 1) -> TimeDistributed (Dense size 5) -> fully-connected layer (size 100) -> output.\n",
    "\n",
    "These parameters are simple guidelines to save your time. You can play with them in the final section.\n",
    "\n",
    "The results should be better than the feedforward model.\n",
    "\n",
    "Embedding layers turn the input from a one-hot vector into better representations via some feature transform (a simple matrix multiply in this case). TimeDistributed is Keras' way of specifying that the layer of the network should be distributed along time (the first dimension) as shown in the picture below.\n",
    "\n",
    "<img src=\"https://raw.githubusercontent.com/ekapolc/nlp_course/master/HW1/images/configuration.png\">\n",
    "\n",
    "Note you need to flatten() before the final fully connected layer because of dimension mis-match.\n",
    "\n",
    "Do consult keras documentation on how to use [embedding layers](https://keras.io/layers/embeddings/) and [1D-cnn](https://keras.io/layers/convolutional/).\n"
   ]
  },
  {
   "cell_type": "code",
   "execution_count": 21,
   "metadata": {},
   "outputs": [],
   "source": [
    "################################################################################\n",
    "# TODO#6:                                                                      #\n",
    "# Write a function that returns keras convolution nueral network model.        #\n",
    "# You can choose any normalization methods, activation function, as well as    #\n",
    "# any hyperparameter the way you want. Your goal is to predict a score         #\n",
    "# between [0,1] for each input whether it is the beginning of the word or not. #\n",
    "#                                                                              #\n",
    "# Hint: You should read keras documentation to see the list of available       #\n",
    "# layers and options you can use.                                              #\n",
    "################################################################################\n",
    "from keras.layers import Conv1D, MaxPooling1D, Embedding, TimeDistributed\n",
    "from keras.layers import Activation, Dropout, Flatten, Dense, Input\n",
    "max_features = len(CHARS)+1\n",
    "max_len = 21\n",
    "def get_conv1d_nn():\n",
    "  input1 = Input(shape=(21,))\n",
    "  x = Embedding(max_features, 32, input_length=max_len)(input1)\n",
    "  x = Conv1D(100, 5, strides = 1, padding='same', activation='relu')(x)\n",
    "  x = TimeDistributed(Dense(5, activation='relu'))(x)\n",
    "  x = Flatten()(x)\n",
    "  x = Dense(100, activation='relu')(x)\n",
    "  out = Dense(1, activation='sigmoid')(x)\n",
    "  \n",
    "  model = Model(inputs=input1, outputs=out)\n",
    "  model.compile(optimizer=Adam(),\n",
    "                loss='binary_crossentropy',\n",
    "                metrics=['acc'])\n",
    "  return model"
   ]
  },
  {
   "cell_type": "code",
   "execution_count": 22,
   "metadata": {},
   "outputs": [
    {
     "name": "stdout",
     "output_type": "stream",
     "text": [
      "start training conv1d\n",
      "_________________________________________________________________\n",
      "Layer (type)                 Output Shape              Param #   \n",
      "=================================================================\n",
      "input_3 (InputLayer)         (None, 21)                0         \n",
      "_________________________________________________________________\n",
      "embedding_1 (Embedding)      (None, 21, 32)            5728      \n",
      "_________________________________________________________________\n",
      "conv1d_1 (Conv1D)            (None, 21, 100)           16100     \n",
      "_________________________________________________________________\n",
      "time_distributed_1 (TimeDist (None, 21, 5)             505       \n",
      "_________________________________________________________________\n",
      "flatten_1 (Flatten)          (None, 105)               0         \n",
      "_________________________________________________________________\n",
      "dense_10 (Dense)             (None, 100)               10600     \n",
      "_________________________________________________________________\n",
      "dense_11 (Dense)             (None, 1)                 101       \n",
      "=================================================================\n",
      "Total params: 33,034\n",
      "Trainable params: 33,034\n",
      "Non-trainable params: 0\n",
      "_________________________________________________________________\n",
      "train with 3 epochs and 512 batch size\n",
      "Train on 16461637 samples, validate on 2035694 samples\n",
      "Epoch 1/3\n",
      " - 304s - loss: 0.0862 - acc: 0.9669 - val_loss: 0.0719 - val_acc: 0.9732\n",
      "\n",
      "Epoch 00001: val_loss improved from inf to 0.07190, saving model to /data/model_conv1d_nn.h5\n",
      "Epoch 2/3\n",
      " - 294s - loss: 0.0627 - acc: 0.9767 - val_loss: 0.0663 - val_acc: 0.9755\n",
      "\n",
      "Epoch 00002: val_loss improved from 0.07190 to 0.06625, saving model to /data/model_conv1d_nn.h5\n",
      "Epoch 3/3\n",
      " - 294s - loss: 0.0568 - acc: 0.9791 - val_loss: 0.0616 - val_acc: 0.9777\n",
      "\n",
      "Epoch 00003: val_loss improved from 0.06625 to 0.06162, saving model to /data/model_conv1d_nn.h5\n"
     ]
    }
   ],
   "source": [
    "################################################################################\n",
    "# TODO#7:                                                                      #\n",
    "# Write code that call model.fit, or model.fit_generator if you have data      #\n",
    "# generator, to train you models. Make sure you have validation_data as an     # \n",
    "# argument and use verbose=2 to generate one log line per epoch. Select your   #\n",
    "# batch size carefully as it will affect your model's ability to converge and  #\n",
    "# time needed for one epoch.                                                   #\n",
    "################################################################################\n",
    "print('start training conv1d')\n",
    "model_conv1d_nn = get_conv1d_nn()\n",
    "################################################################################\n",
    "#                            WRITE YOUR CODE BELOW                             #\n",
    "################################################################################\n",
    "from keras.callbacks import ModelCheckpoint, TensorBoard\n",
    "\n",
    "# This is called to clear the original model session in order to use TensorBoard\n",
    "from keras import backend as K\n",
    "#K.clear_session()\n",
    "\n",
    "# Path to save model parameters\n",
    "weight_path_conv1d_nn='/data/model_conv1d_nn.h5'\n",
    "\n",
    "# Training callbacks list. TensorBoard() write logs for tensorboard GUI. \n",
    "# ModelCheckpoint() writes the resulting model.\n",
    "# Note that writing to disk takes time (longer than model training time). \n",
    "# For other sections, you might not writing any files to disk \n",
    "# or write only the graph for TensorBoard.\n",
    "callbacks_list_conv1d_nn = [\n",
    "        #TensorBoard(log_dir='/data/Graph/ff_conv1d', histogram_freq=1, write_graph=True, write_grads=False),\n",
    "        ModelCheckpoint(\n",
    "            weight_path_conv1d_nn,\n",
    "            save_best_only=True,\n",
    "            save_weights_only=True,\n",
    "            monitor='val_loss',\n",
    "            mode='min',\n",
    "            verbose=1\n",
    "        )\n",
    "  ]\n",
    "verbose = 2\n",
    "batch_size = 512\n",
    "model_conv1d_nn.summary()\n",
    "train_params = [(3, 512)]\n",
    "for (epochs, batch_size) in train_params:\n",
    "  print(\"train with {} epochs and {} batch size\".format(epochs, batch_size))\n",
    "  model_conv1d_nn.fit(x_train_char, y_train, epochs=epochs, batch_size=batch_size, verbose=verbose\n",
    "    ,callbacks=callbacks_list_conv1d_nn, validation_data=(x_val_char, y_val))"
   ]
  },
  {
   "cell_type": "code",
   "execution_count": 23,
   "metadata": {},
   "outputs": [
    {
     "data": {
      "text/plain": [
       "(0.9639128496566173, 0.951289936022373, 0.9768752616322695)"
      ]
     },
     "execution_count": 23,
     "metadata": {},
     "output_type": "execute_result"
    }
   ],
   "source": [
    "evaluate(x_test_char, y_test, model_conv1d_nn)"
   ]
  },
  {
   "cell_type": "markdown",
   "metadata": {},
   "source": [
    "# GRU\n",
    "\n",
    "Implement your GRU model with the following structure: input -> embedding layer (size 32) -> GRU layer (size 32) -> fully-connected layer (size 100) -> output.\n",
    "\n",
    "\n",
    "These parameters are simple guidelines to save your time. You can play with them in the final section.\n",
    "\n",
    "The result should be better than the feedforward model and at least on par with your CNN model.\n",
    "\n",
    "Do consult keras documentation on how to use [embedding layers](https://keras.io/layers/embeddings/) and [GRUs](https://keras.io/layers/recurrent/).\n"
   ]
  },
  {
   "cell_type": "code",
   "execution_count": 24,
   "metadata": {},
   "outputs": [],
   "source": [
    "################################################################################\n",
    "# TODO#8                                                                       #\n",
    "# Write a function that returns keras GRU network moded. You can choose any    #\n",
    "# normalization methods, activation function, as well as any hyperparameter    #\n",
    "# the way you want. Your goal is to predict a score between [0,1] for each     #\n",
    "# input whether it is the beginning of the word or not.                        #\n",
    "#                                                                              #\n",
    "# Hint: You should read keras documentation to see the list of available       #\n",
    "# layers and options you can use.                                              #\n",
    "################################################################################\n",
    "from keras.layers import GRU, Bidirectional\n",
    "def get_gru():\n",
    "  input1 = Input(shape=(21,))\n",
    "  x = Embedding(max_features, 32, input_length=max_len)(input1)\n",
    "  x = GRU(32, activation='tanh')(x)\n",
    "  x = Dense(100, activation='relu')(x)\n",
    "  out = Dense(1, activation='sigmoid')(x)\n",
    "  \n",
    "  model = Model(inputs=input1, outputs=out)\n",
    "  model.compile(optimizer=Adam(),\n",
    "                loss='binary_crossentropy',\n",
    "                metrics=['acc'])\n",
    "  return model"
   ]
  },
  {
   "cell_type": "code",
   "execution_count": 25,
   "metadata": {},
   "outputs": [
    {
     "name": "stdout",
     "output_type": "stream",
     "text": [
      "start training conv1d\n",
      "_________________________________________________________________\n",
      "Layer (type)                 Output Shape              Param #   \n",
      "=================================================================\n",
      "input_4 (InputLayer)         (None, 21)                0         \n",
      "_________________________________________________________________\n",
      "embedding_2 (Embedding)      (None, 21, 32)            5728      \n",
      "_________________________________________________________________\n",
      "gru_1 (GRU)                  (None, 32)                6240      \n",
      "_________________________________________________________________\n",
      "dense_12 (Dense)             (None, 100)               3300      \n",
      "_________________________________________________________________\n",
      "dense_13 (Dense)             (None, 1)                 101       \n",
      "=================================================================\n",
      "Total params: 15,369\n",
      "Trainable params: 15,369\n",
      "Non-trainable params: 0\n",
      "_________________________________________________________________\n",
      "train with 3 epochs and 512 batch size\n",
      "Train on 16461637 samples, validate on 2035694 samples\n",
      "Epoch 1/3\n",
      " - 1477s - loss: 0.1462 - acc: 0.9412 - val_loss: 0.1077 - val_acc: 0.9587\n",
      "\n",
      "Epoch 00001: val_loss improved from inf to 0.10765, saving model to /data/model_gru.h5\n",
      "Epoch 2/3\n",
      " - 1475s - loss: 0.0935 - acc: 0.9639 - val_loss: 0.0862 - val_acc: 0.9673\n",
      "\n",
      "Epoch 00002: val_loss improved from 0.10765 to 0.08620, saving model to /data/model_gru.h5\n",
      "Epoch 3/3\n",
      " - 1489s - loss: 0.0794 - acc: 0.9698 - val_loss: 0.0818 - val_acc: 0.9691\n",
      "\n",
      "Epoch 00003: val_loss improved from 0.08620 to 0.08185, saving model to /data/model_gru.h5\n"
     ]
    }
   ],
   "source": [
    "################################################################################\n",
    "# TODO#9                                                                       #\n",
    "# Write code that call model.fit, or model.fit_generator if you have data      #\n",
    "# generator, to train you models. Make sure you have validation_data as an     # \n",
    "# argument and use verbose=2 to generate one log line per epoch. Select your   #\n",
    "# batch size carefully as it will affect your model's ability to converge and  #\n",
    "# time needed for one epoch.                                                   #\n",
    "################################################################################\n",
    "print('start training conv1d')\n",
    "model_gru = get_gru()\n",
    "################################################################################\n",
    "#                            WRITE YOUR CODE BELOW                             #\n",
    "################################################################################\n",
    "from keras.callbacks import ModelCheckpoint, TensorBoard\n",
    "\n",
    "# This is called to clear the original model session in order to use TensorBoard\n",
    "from keras import backend as K\n",
    "#K.clear_session()\n",
    "\n",
    "# Path to save model parameters\n",
    "weight_path_gru='/data/model_gru.h5'\n",
    "# Training callbacks list. TensorBoard() write logs for tensorboard GUI. \n",
    "# ModelCheckpoint() writes the resulting model.\n",
    "# Note that writing to disk takes time (longer than model training time). \n",
    "# For other sections, you might not writing any files to disk \n",
    "# or write only the graph for TensorBoard.\n",
    "callbacks_list_gru = [\n",
    "        #TensorBoard(log_dir='/data/Graph/ff_gru', histogram_freq=1, write_graph=True, write_grads=False),\n",
    "        ModelCheckpoint(\n",
    "            weight_path_gru,\n",
    "            save_best_only=True,\n",
    "            save_weights_only=True,\n",
    "            monitor='val_loss',\n",
    "            mode='min',\n",
    "            verbose=1\n",
    "        )\n",
    "  ]\n",
    "verbose = 2\n",
    "batch_size = 512\n",
    "model_gru.summary()\n",
    "train_params = [(3, 512)]\n",
    "for (epochs, batch_size) in train_params:\n",
    "  print(\"train with {} epochs and {} batch size\".format(epochs, batch_size))\n",
    "  model_gru.fit(x_train_char, y_train, epochs=epochs, batch_size=batch_size, verbose=verbose\n",
    "    ,callbacks=callbacks_list_gru, validation_data=(x_val_char, y_val))"
   ]
  },
  {
   "cell_type": "code",
   "execution_count": 26,
   "metadata": {},
   "outputs": [
    {
     "data": {
      "text/plain": [
       "(0.9466474594236397, 0.9523507293272029, 0.9410120923473054)"
      ]
     },
     "execution_count": 26,
     "metadata": {},
     "output_type": "execute_result"
    }
   ],
   "source": [
    "evaluate(x_test_char, y_test, model_gru)"
   ]
  },
  {
   "cell_type": "markdown",
   "metadata": {},
   "source": [
    "# Final Section\n",
    "# Keras playground\n",
    "\n",
    "Now, train the best model you can do for this task. You can use any model structure and function available. Remember that trainig time increases with the complexity of the model. You might find TensorBoard helpful in tuning of complicated models.\n",
    "\n",
    "Your model should be better than your CNN or GRU model in the previous sections.\n",
    "\n",
    "Some ideas to try\n",
    "1. Tune the parameters\n",
    "2. Bi-directional GRU\n",
    "3. CNN-GRU model"
   ]
  },
  {
   "cell_type": "code",
   "execution_count": 27,
   "metadata": {},
   "outputs": [],
   "source": [
    "################################################################################\n",
    "# TODO#10                                                                      #\n",
    "# Write a function that returns keras your best model. You can use anything    #\n",
    "# you want. The goal here is to create the best model you can think of.        #\n",
    "# Your model should get f-score more than 97% from calling evaluate().         #\n",
    "#                                                                              #\n",
    "# Hint: You should read keras documentation to see the list of available       #\n",
    "# layers and options you can use.                                              #\n",
    "################################################################################\n",
    "\n",
    "def get_my_best_model():\n",
    "  input1 = Input(shape=(21,))\n",
    "  x = Embedding(max_features, 32, input_length=max_len)(input1)\n",
    "  x = Conv1D(100, 5, strides = 1, padding='same', activation='relu')(x)\n",
    "  x = TimeDistributed(Dense(5, activation='relu'))(x)\n",
    "  x = Dense(100, activation='relu')(x)\n",
    "  x = Bidirectional(GRU(32, activation='tanh'))(x)\n",
    "  x = Dense(100, activation='relu')(x)\n",
    "  x = Dense(100, activation='relu')(x)\n",
    "  out = Dense(1, activation='sigmoid')(x)\n",
    "  \n",
    "  model = Model(inputs=input1, outputs=out)\n",
    "  model.compile(optimizer=Adam(),\n",
    "                loss='binary_crossentropy',\n",
    "                metrics=['acc'])\n",
    "  return model"
   ]
  },
  {
   "cell_type": "code",
   "execution_count": 28,
   "metadata": {},
   "outputs": [
    {
     "name": "stdout",
     "output_type": "stream",
     "text": [
      "start training conv1d\n",
      "_________________________________________________________________\n",
      "Layer (type)                 Output Shape              Param #   \n",
      "=================================================================\n",
      "input_5 (InputLayer)         (None, 21)                0         \n",
      "_________________________________________________________________\n",
      "embedding_3 (Embedding)      (None, 21, 32)            5728      \n",
      "_________________________________________________________________\n",
      "conv1d_2 (Conv1D)            (None, 21, 100)           16100     \n",
      "_________________________________________________________________\n",
      "time_distributed_2 (TimeDist (None, 21, 5)             505       \n",
      "_________________________________________________________________\n",
      "dense_15 (Dense)             (None, 21, 100)           600       \n",
      "_________________________________________________________________\n",
      "bidirectional_1 (Bidirection (None, 64)                25536     \n",
      "_________________________________________________________________\n",
      "dense_16 (Dense)             (None, 100)               6500      \n",
      "_________________________________________________________________\n",
      "dense_17 (Dense)             (None, 100)               10100     \n",
      "_________________________________________________________________\n",
      "dense_18 (Dense)             (None, 1)                 101       \n",
      "=================================================================\n",
      "Total params: 65,170\n",
      "Trainable params: 65,170\n",
      "Non-trainable params: 0\n",
      "_________________________________________________________________\n",
      "train with 3 epochs and 512 batch size\n",
      "Train on 16461637 samples, validate on 2035694 samples\n",
      "Epoch 1/3\n",
      " - 2528s - loss: 0.0962 - acc: 0.9619 - val_loss: 0.0653 - val_acc: 0.9761\n",
      "\n",
      "Epoch 00001: val_loss improved from inf to 0.06525, saving model to /data/model_final.h5\n",
      "Epoch 2/3\n",
      " - 2494s - loss: 0.0557 - acc: 0.9794 - val_loss: 0.0570 - val_acc: 0.9795\n",
      "\n",
      "Epoch 00002: val_loss improved from 0.06525 to 0.05698, saving model to /data/model_final.h5\n",
      "Epoch 3/3\n",
      " - 2463s - loss: 0.0489 - acc: 0.9822 - val_loss: 0.0520 - val_acc: 0.9815\n",
      "\n",
      "Epoch 00003: val_loss improved from 0.05698 to 0.05196, saving model to /data/model_final.h5\n"
     ]
    }
   ],
   "source": [
    "################################################################################\n",
    "# TODO#11                                                                      #\n",
    "# Write code that call model.fit, or model.fit_generator if you have data      #\n",
    "# generator, to train you models. Make sure you have validation_data as an     # \n",
    "# argument and use verbose=2 to generate one log line per epoch. Select your   #\n",
    "# batch size carefully as it will affect your model's ability to converge and  #\n",
    "# time needed for one epoch.                                                   #\n",
    "#                                                                              #\n",
    "# Hint: Read about callbacks_list argument on the documentation. You might     #\n",
    "# find  ReduceLROnPlateau() and ModelCheckpoint() useful for your training     #\n",
    "# process. Feel free to use any other callback function available.             #\n",
    "################################################################################\n",
    "print('start training conv1d')\n",
    "my_best_model = get_my_best_model()\n",
    "################################################################################\n",
    "#                            WRITE YOUR CODE BELOW                             #\n",
    "################################################################################\n",
    "from keras import backend as K\n",
    "from keras.callbacks import ModelCheckpoint, TensorBoard\n",
    "#K.clear_session()\n",
    "weight_path_final='/data/model_final.h5'\n",
    "# Training callbacks list. TensorBoard() write logs for tensorboard GUI. \n",
    "# ModelCheckpoint() writes the resulting model.\n",
    "# Note that writing to disk takes time (longer than model training time). \n",
    "# For other sections, you might not writing any files to disk \n",
    "# or write only the graph for TensorBoard.\n",
    "callbacks_list_final = [\n",
    "        #TensorBoard(log_dir='/data/Graph/ff_gru', histogram_freq=1, write_graph=True, write_grads=False),\n",
    "        ModelCheckpoint(\n",
    "            weight_path_final,\n",
    "            save_best_only=True,\n",
    "            save_weights_only=True,\n",
    "            monitor='val_loss',\n",
    "            mode='min',\n",
    "            verbose=1\n",
    "        )\n",
    "  ]\n",
    "verbose = 2\n",
    "batch_size = 512\n",
    "my_best_model.summary()\n",
    "train_params = [(3, 512)]\n",
    "for (epochs, batch_size) in train_params:\n",
    "  print(\"train with {} epochs and {} batch size\".format(epochs, batch_size))\n",
    "  my_best_model.fit(x_train_char, y_train, epochs=epochs, batch_size=batch_size, verbose=verbose\n",
    "    ,callbacks=callbacks_list_final, validation_data=(x_val_char, y_val))"
   ]
  },
  {
   "cell_type": "code",
   "execution_count": 29,
   "metadata": {},
   "outputs": [
    {
     "data": {
      "text/plain": [
       "(0.969940985399997, 0.9651569088702311, 0.9747727254776517)"
      ]
     },
     "execution_count": 29,
     "metadata": {},
     "output_type": "execute_result"
    }
   ],
   "source": [
    "evaluate(x_test_char, y_test, my_best_model)"
   ]
  },
  {
   "cell_type": "code",
   "execution_count": 34,
   "metadata": {},
   "outputs": [
    {
     "name": "stdout",
     "output_type": "stream",
     "text": [
      "train with 2 epochs and 1024 batch size\n",
      "Train on 16461637 samples, validate on 2035694 samples\n",
      "Epoch 1/2\n",
      " - 1463s - loss: 0.0375 - acc: 0.9868 - val_loss: 0.0437 - val_acc: 0.9848\n",
      "\n",
      "Epoch 00001: val_loss improved from 0.04866 to 0.04372, saving model to /data/model_final.h5\n",
      "Epoch 2/2\n",
      " - 1454s - loss: 0.0364 - acc: 0.9872 - val_loss: 0.0436 - val_acc: 0.9849\n",
      "\n",
      "Epoch 00002: val_loss improved from 0.04372 to 0.04361, saving model to /data/model_final.h5\n"
     ]
    }
   ],
   "source": [
    "train_params = [(2, 1024)]\n",
    "for (epochs, batch_size) in train_params:\n",
    "  print(\"train with {} epochs and {} batch size\".format(epochs, batch_size))\n",
    "  my_best_model.fit(x_train_char, y_train, epochs=epochs, batch_size=batch_size, verbose=verbose\n",
    "    ,callbacks=callbacks_list_final, validation_data=(x_val_char, y_val))"
   ]
  },
  {
   "cell_type": "code",
   "execution_count": 35,
   "metadata": {},
   "outputs": [
    {
     "data": {
      "text/plain": [
       "(0.9759575625509007, 0.97138046347719, 0.9805779999842034)"
      ]
     },
     "execution_count": 35,
     "metadata": {},
     "output_type": "execute_result"
    }
   ],
   "source": [
    "evaluate(x_test_char, y_test, my_best_model)"
   ]
  },
  {
   "cell_type": "code",
   "execution_count": null,
   "metadata": {},
   "outputs": [],
   "source": []
  }
 ],
 "metadata": {
  "kernelspec": {
   "display_name": "Python 3",
   "language": "python",
   "name": "python3"
  },
  "language_info": {
   "codemirror_mode": {
    "name": "ipython",
    "version": 3
   },
   "file_extension": ".py",
   "mimetype": "text/x-python",
   "name": "python",
   "nbconvert_exporter": "python",
   "pygments_lexer": "ipython3",
   "version": "3.6.8"
  }
 },
 "nbformat": 4,
 "nbformat_minor": 2
}
