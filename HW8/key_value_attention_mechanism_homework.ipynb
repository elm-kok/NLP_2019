{
 "cells": [
  {
   "cell_type": "markdown",
   "metadata": {},
   "source": [
    "# Key-Value Attention Mechanism Homework on Keras: Character-level Machine Translation (Many-to-Many, encoder-decoder)\n",
    "\n",
    "In this homework, you will create an MT model with key-value attention mechnism that coverts names of constituency MP candidates in the 2019 Thai general election from Thai script to Roman(Latin) script. E.g. นิยม-->niyom "
   ]
  },
  {
   "cell_type": "code",
   "execution_count": 1,
   "metadata": {},
   "outputs": [
    {
     "name": "stderr",
     "output_type": "stream",
     "text": [
      "Using TensorFlow backend.\n"
     ]
    }
   ],
   "source": [
    "%matplotlib inline\n",
    "from keras.preprocessing.sequence import pad_sequences\n",
    "from keras.layers import Bidirectional, Concatenate, Permute, Dot, Input, LSTM, Multiply\n",
    "from keras.layers import RepeatVector, Dense, Activation, Lambda\n",
    "from keras.optimizers import Adam\n",
    "from keras.utils import to_categorical\n",
    "from keras.models import load_model, Model\n",
    "import keras.backend as K\n",
    "import numpy as np\n",
    "import tensorflow as tf\n",
    "\n",
    "import random"
   ]
  },
  {
   "cell_type": "markdown",
   "metadata": {},
   "source": [
    "## Load Dataset\n",
    "We have generated a toy dataset using names of constituency MP candidates in 2019 Thai General Election from elect.in.th's github(https://github.com/codeforthailand/dataset-election-62-candidates) and tltk (https://pypi.org/project/tltk/) library to convert them into Roman script.\n",
    "\n",
    "<img src=\"https://raw.githubusercontent.com/ekapolc/nlp_2019/master/HW8/images/dataset_diagram.png\" alt=\"Drawing\" style=\"width: 500px;\"/>\n"
   ]
  },
  {
   "cell_type": "code",
   "execution_count": 2,
   "metadata": {},
   "outputs": [],
   "source": [
    "import csv\n",
    "with open('mp_name_th_en.csv') as csvfile:\n",
    "    readCSV = csv.reader(csvfile, delimiter=',')\n",
    "    name_th = []\n",
    "    name_en = []\n",
    "    for row in readCSV:\n",
    "        name_th.append(row[0])\n",
    "        name_en.append(row[1])"
   ]
  },
  {
   "cell_type": "code",
   "execution_count": 3,
   "metadata": {},
   "outputs": [
    {
     "name": "stdout",
     "output_type": "stream",
     "text": [
      "ไกรสีห์ kraisi\n",
      "พัชรี phatri\n",
      "ธีระ thira\n",
      "วุฒิกร wutthikon\n",
      "ไสว sawai\n",
      "สัมภาษณ์  samphat\n",
      "วศิน wasin\n",
      "ทินวัฒน์ thinwat\n",
      "ศักดินัย sakdinai\n",
      "สุรศักดิ์ surasak\n"
     ]
    }
   ],
   "source": [
    "for th, en in zip(name_th[:10],name_en[:10]):\n",
    "    print(th,en)"
   ]
  },
  {
   "cell_type": "markdown",
   "metadata": {},
   "source": [
    "## Task1: Preprocess dataset for Keras (1 point)\n",
    "* 2 dictionaries for indexing (1 for input and another for output)\n",
    "* DON'T FORGET TO INCLUDE special token for padding\n",
    "* DON'T FORGET TO INCLUDE special token for the end of word symbol (output)\n",
    "* Be mindful of your pad_sequences \"padding\" hyperparameter. Choose wisely (post-padding vs pre-padding)"
   ]
  },
  {
   "cell_type": "code",
   "execution_count": 49,
   "metadata": {
    "scrolled": true
   },
   "outputs": [
    {
     "name": "stdout",
     "output_type": "stream",
     "text": [
      "Data size: 10887\n",
      "Vocab size: 66\n",
      "Max input lenght: 20 \n",
      "\n",
      "Output vocab size: 24\n",
      "Max output lenght: 19 \n",
      "\n",
      "[0 0 0 0 0 0 0 0 0 0 0 0 0 1 2 3 4 5 4] kraisi\n",
      "[[1. 0. 0. 0. 0. 0. 0. 0. 0. 0. 0. 0. 0. 0. 0. 0. 0. 0. 0. 0. 0. 0. 0. 0.]\n",
      " [1. 0. 0. 0. 0. 0. 0. 0. 0. 0. 0. 0. 0. 0. 0. 0. 0. 0. 0. 0. 0. 0. 0. 0.]\n",
      " [0. 1. 0. 0. 0. 0. 0. 0. 0. 0. 0. 0. 0. 0. 0. 0. 0. 0. 0. 0. 0. 0. 0. 0.]\n",
      " [0. 0. 1. 0. 0. 0. 0. 0. 0. 0. 0. 0. 0. 0. 0. 0. 0. 0. 0. 0. 0. 0. 0. 0.]\n",
      " [0. 0. 0. 1. 0. 0. 0. 0. 0. 0. 0. 0. 0. 0. 0. 0. 0. 0. 0. 0. 0. 0. 0. 0.]\n",
      " [0. 0. 0. 0. 1. 0. 0. 0. 0. 0. 0. 0. 0. 0. 0. 0. 0. 0. 0. 0. 0. 0. 0. 0.]\n",
      " [0. 0. 0. 0. 0. 1. 0. 0. 0. 0. 0. 0. 0. 0. 0. 0. 0. 0. 0. 0. 0. 0. 0. 0.]\n",
      " [0. 0. 0. 0. 1. 0. 0. 0. 0. 0. 0. 0. 0. 0. 0. 0. 0. 0. 0. 0. 0. 0. 0. 0.]]\n",
      "{0: '<PAD>', 1: 'k', 2: 'r', 3: 'a', 4: 'i', 5: 's', 6: 'p', 7: 'h', 8: 't', 9: 'w', 10: 'u', 11: 'o', 12: 'n', 13: 'm', 14: 'd', 15: 'e', 16: 'c', 17: 'l', 18: 'g', 19: 'y', 20: 'b', 21: 'f', 22: '-'}\n",
      "(10887, 20, 66) (10887, 19, 24)\n"
     ]
    }
   ],
   "source": [
    "#FILL YOUR CODE HERE\n",
    "input_dict = dict()\n",
    "output_dict = dict()\n",
    "input_dict['<PAD>'] = 0\n",
    "output_dict['<PAD>'] = 0\n",
    "\n",
    "rev_input = dict()\n",
    "rev_output = dict()\n",
    "\n",
    "for word in name_th:\n",
    "    for char in word:\n",
    "        if char not in input_dict:\n",
    "            input_dict[char] = len(input_dict)\n",
    "\n",
    "for word in name_en:\n",
    "    for char in word:\n",
    "        if char not in output_dict:\n",
    "            output_dict[char] = len(output_dict)\n",
    "\n",
    "for char in input_dict:\n",
    "    rev_input[input_dict[char]] = char\n",
    "for char in output_dict:\n",
    "    rev_output[output_dict[char]] = char\n",
    "    \n",
    "data_size, vocab_size = len(name_th), len(input_dict)+1 \n",
    "output_vocab_size = len(output_dict)+1\n",
    "input_word2char = []\n",
    "output_word2char = []\n",
    "for word in name_th:\n",
    "    input_word2char.append([w for w in word])\n",
    "for word in name_en:\n",
    "    output_word2char.append([w for w in word])\n",
    "max_len = max([len(i) for i in input_word2char])\n",
    "output_max_len = max([len(i) for i in output_word2char])\n",
    "print('Data size:',data_size)\n",
    "print('Vocab size:',vocab_size)\n",
    "print('Max input lenght:',max_len,'\\n')\n",
    "print('Output vocab size:',output_vocab_size)\n",
    "print('Max output lenght:',output_max_len,'\\n')\n",
    "\n",
    "X = []\n",
    "for word in name_th:\n",
    "    tmp = []\n",
    "    for char in word:\n",
    "        tmp.append(input_dict[char])\n",
    "    X.append(tmp)\n",
    "Y = []\n",
    "for word in name_en:\n",
    "    tmp = []\n",
    "    for char in word:\n",
    "        tmp.append(output_dict[char])\n",
    "    Y.append(tmp)\n",
    "X = pad_sequences(X,maxlen=max_len)\n",
    "Y = pad_sequences(Y,maxlen=output_max_len)\n",
    "\n",
    "print(Y[0],name_en[0])\n",
    "\n",
    "X= to_categorical(X,vocab_size)\n",
    "X=X.reshape(data_size,max_len ,vocab_size)\n",
    "\n",
    "Y= to_categorical(Y,output_vocab_size)\n",
    "Y=Y.reshape(data_size,output_max_len ,output_vocab_size)\n",
    "\n",
    "print(Y[0][-8:])\n",
    "print(rev_output)\n",
    "print(X.shape,Y.shape)\n",
    "\n",
    "m=data_size\n",
    "Tx=max_len\n",
    "Ty=output_max_len"
   ]
  },
  {
   "cell_type": "markdown",
   "metadata": {},
   "source": [
    "# Attention Mechanism\n",
    "## Task 2: Code your own (key-value) attention mechnism (1 point)\n",
    "* PLEASE READ: you DO NOT have to follow all the details in (Daniluk, et al. 2017). You just need to create a key-value attention mechanism where the \"key\" part of the mechanism is used for attention score calculation, and the \"value\" part of the mechanism is used to encode information to create a context vector.  \n",
    "* Define global variables\n",
    "* fill code for one_step_attention function\n",
    "* Hint: use keras.layers.Lambda \n",
    "* HINT: you will probably need more hidden dimmensions than what you've seen in the demo\n"
   ]
  },
  {
   "cell_type": "code",
   "execution_count": 5,
   "metadata": {},
   "outputs": [],
   "source": [
    "from keras.activations import softmax\n",
    "from keras.layers import Lambda\n",
    "def softMaxAxis1(x):\n",
    "    return softmax(x,axis=1)"
   ]
  },
  {
   "cell_type": "code",
   "execution_count": 118,
   "metadata": {},
   "outputs": [],
   "source": [
    "#These are global variables (shared layers)\n",
    "## Fill your code here\n",
    "repeator = RepeatVector(Tx)\n",
    "concatenator = Concatenate(axis=-1)\n",
    "#Attention function###\n",
    "fattn_1 = Dense(100, activation = \"tanh\")\n",
    "fattn_2 = Dense(1, activation = \"relu\")\n",
    "###\n",
    "activator = Activation(softMaxAxis1, name='attention_scores') \n",
    "dotor = Dot(axes = 1)\n",
    "## you are allowed to use code in the demo as your template.  "
   ]
  },
  {
   "cell_type": "code",
   "execution_count": 119,
   "metadata": {},
   "outputs": [
    {
     "data": {
      "text/plain": [
       "<tf.Tensor 'zeros_1:0' shape=(1, 3, 3) dtype=float32>"
      ]
     },
     "execution_count": 119,
     "metadata": {},
     "output_type": "execute_result"
    }
   ],
   "source": [
    "tf.zeros([1,3,3],tf.float32)"
   ]
  },
  {
   "cell_type": "code",
   "execution_count": 120,
   "metadata": {},
   "outputs": [],
   "source": [
    "def one_step_attention(a, s_prev):\n",
    "\n",
    "    #Fill code here\n",
    "    # Repeat the decoder hidden state to concat with encoder hidden states\n",
    "    #key, con = tf.split(a,2,0)\n",
    "    key = a\n",
    "    con = a\n",
    "    s_prev = repeator(s_prev)\n",
    "    concat = concatenator([key,s_prev])\n",
    "    # attention function\n",
    "    e = fattn_1(concat)\n",
    "    energies =fattn_2(e)\n",
    "    # calculate attention_scores (softmax)\n",
    "    attention_scores = activator(energies)\n",
    "    #calculate a context vector\n",
    "    context = dotor([attention_scores,con])\n",
    "\n",
    "    return context"
   ]
  },
  {
   "cell_type": "markdown",
   "metadata": {},
   "source": [
    "## Task3: Create and train your encoder/decoder model here (1 point)\n",
    "* HINT: you will probably need more hidden dimmensions than what you've seen in the demo"
   ]
  },
  {
   "cell_type": "code",
   "execution_count": 121,
   "metadata": {},
   "outputs": [],
   "source": [
    "#FILL CODE HERE\n",
    "n_h = 128 #hidden dimensions for encoder \n",
    "n_s = 64 #hidden dimensions for decoder\n",
    "decoder_LSTM_cell = LSTM(n_s, return_state = True) #decoder_LSTM_cell\n",
    "output_layer = Dense(output_vocab_size, activation=\"softmax\") #softmax output layer"
   ]
  },
  {
   "cell_type": "code",
   "execution_count": 122,
   "metadata": {},
   "outputs": [],
   "source": [
    "#FIT YOUR MODEL HERE\n",
    "def model(Tx, Ty, n_h, n_s, vocab_size, machine_vocab_size):\n",
    "    \"\"\"\n",
    "    Arguments:\n",
    "    Tx -- length of the input sequence\n",
    "    Ty -- length of the output sequence\n",
    "    n_h -- hidden state size of the Bi-LSTM\n",
    "    n_s -- hidden state size of the post-attention LSTM\n",
    "    vocab_size -- size of the input vocab\n",
    "    output_vocab_size -- size of the output vocab\n",
    "\n",
    "    Returns:\n",
    "    model -- Keras model instance\n",
    "    \"\"\"\n",
    "    \n",
    "    # Define the input of your model\n",
    "    X = Input(shape=(Tx, vocab_size))\n",
    "    # Define hidden state and cell state for decoder_LSTM_Cell\n",
    "    s0 = Input(shape=(n_s,), name='s0')\n",
    "    c0 = Input(shape=(n_s,), name='c0')\n",
    "    s = s0\n",
    "    c = c0\n",
    "    \n",
    "    # Initialize empty list of outputs\n",
    "    outputs = list()\n",
    "\n",
    "    #Encoder Bi-LSTM\n",
    "    h = Bidirectional(LSTM(n_h, return_sequences=True),input_shape=(m, Tx, n_h*2))(X)\n",
    "  \n",
    "    #Iterate for Ty steps (Decoding)\n",
    "    for t in range(Ty):\n",
    "    \n",
    "        #Perform one step of the attention mechanism to calculate the context vector at timestep t\n",
    "        context = one_step_attention(h, s)\n",
    "       \n",
    "        # Feed the context vector to the decoder LSTM cell\n",
    "        s, _, c = decoder_LSTM_cell(context,initial_state=[s,c])\n",
    "           \n",
    "        # Pass the decoder hidden output to the output layer (softmax)\n",
    "        out = output_layer(s)\n",
    "        \n",
    "        # Append an output list with the current output\n",
    "        outputs.append(out)\n",
    "    \n",
    "    #Create model instance\n",
    "    model = Model(inputs=[X,s0,c0],outputs=outputs)\n",
    "    \n",
    "    return model"
   ]
  },
  {
   "cell_type": "code",
   "execution_count": 123,
   "metadata": {
    "scrolled": true
   },
   "outputs": [],
   "source": [
    "model = model(Tx, Ty, n_h, n_s, vocab_size, output_vocab_size)"
   ]
  },
  {
   "cell_type": "code",
   "execution_count": 124,
   "metadata": {},
   "outputs": [],
   "source": [
    "opt = Adam(lr= 0.01, decay = 0.01)\n",
    "model.compile(loss='categorical_crossentropy',optimizer=opt,metrics=['accuracy'])"
   ]
  },
  {
   "cell_type": "code",
   "execution_count": 125,
   "metadata": {},
   "outputs": [],
   "source": [
    "s0 = np.zeros((m, n_s))\n",
    "c0 = np.zeros((m, n_s))\n",
    "outputs = list(Y.swapaxes(0,1))"
   ]
  },
  {
   "cell_type": "code",
   "execution_count": 126,
   "metadata": {
    "scrolled": true
   },
   "outputs": [
    {
     "name": "stdout",
     "output_type": "stream",
     "text": [
      "Epoch 1/30\n",
      "10887/10887 [==============================] - 33s 3ms/step - loss: 28.7890 - dense_18_loss: 3.0106 - dense_18_acc: 0.9888 - dense_18_acc_1: 0.9887 - dense_18_acc_2: 0.9880 - dense_18_acc_3: 0.9870 - dense_18_acc_4: 0.9857 - dense_18_acc_5: 0.9814 - dense_18_acc_6: 0.9733 - dense_18_acc_7: 0.9552 - dense_18_acc_8: 0.9179 - dense_18_acc_9: 0.8438 - dense_18_acc_10: 0.7367 - dense_18_acc_11: 0.5857 - dense_18_acc_12: 0.3722 - dense_18_acc_13: 0.1929 - dense_18_acc_14: 0.0736 - dense_18_acc_15: 0.0398 - dense_18_acc_16: 0.0090 - dense_18_acc_17: 0.0555 - dense_18_acc_18: 0.0209\n",
      "Epoch 2/30\n",
      "10887/10887 [==============================] - 14s 1ms/step - loss: 21.1731 - dense_18_loss: 2.4323 - dense_18_acc: 0.9998 - dense_18_acc_1: 0.9997 - dense_18_acc_2: 0.9990 - dense_18_acc_3: 0.9981 - dense_18_acc_4: 0.9967 - dense_18_acc_5: 0.9924 - dense_18_acc_6: 0.9841 - dense_18_acc_7: 0.9667 - dense_18_acc_8: 0.9346 - dense_18_acc_9: 0.8689 - dense_18_acc_10: 0.7661 - dense_18_acc_11: 0.6238 - dense_18_acc_12: 0.4288 - dense_18_acc_13: 0.2788 - dense_18_acc_14: 0.2031 - dense_18_acc_15: 0.2224 - dense_18_acc_16: 0.0701 - dense_18_acc_17: 0.3354 - dense_18_acc_18: 0.1362\n",
      "Epoch 3/30\n",
      "10887/10887 [==============================] - 14s 1ms/step - loss: 20.4632 - dense_18_loss: 2.2782 - dense_18_acc: 0.9998 - dense_18_acc_1: 0.9997 - dense_18_acc_2: 0.9990 - dense_18_acc_3: 0.9981 - dense_18_acc_4: 0.9967 - dense_18_acc_5: 0.9926 - dense_18_acc_6: 0.9844 - dense_18_acc_7: 0.9668 - dense_18_acc_8: 0.9357 - dense_18_acc_9: 0.8709 - dense_18_acc_10: 0.7672 - dense_18_acc_11: 0.6272 - dense_18_acc_12: 0.4347 - dense_18_acc_13: 0.2891 - dense_18_acc_14: 0.2080 - dense_18_acc_15: 0.2279 - dense_18_acc_16: 0.0755 - dense_18_acc_17: 0.3194 - dense_18_acc_18: 0.2013\n",
      "Epoch 4/30\n",
      "10887/10887 [==============================] - 14s 1ms/step - loss: 19.8907 - dense_18_loss: 2.1946 - dense_18_acc: 0.9998 - dense_18_acc_1: 0.9997 - dense_18_acc_2: 0.9990 - dense_18_acc_3: 0.9981 - dense_18_acc_4: 0.9967 - dense_18_acc_5: 0.9925 - dense_18_acc_6: 0.9846 - dense_18_acc_7: 0.9672 - dense_18_acc_8: 0.9353 - dense_18_acc_9: 0.8718 - dense_18_acc_10: 0.7695 - dense_18_acc_11: 0.6304 - dense_18_acc_12: 0.4445 - dense_18_acc_13: 0.2930 - dense_18_acc_14: 0.2024 - dense_18_acc_15: 0.2210 - dense_18_acc_16: 0.1314 - dense_18_acc_17: 0.2613 - dense_18_acc_18: 0.2439\n",
      "Epoch 5/30\n",
      "10887/10887 [==============================] - 14s 1ms/step - loss: 19.5493 - dense_18_loss: 2.1593 - dense_18_acc: 0.9998 - dense_18_acc_1: 0.9997 - dense_18_acc_2: 0.9990 - dense_18_acc_3: 0.9981 - dense_18_acc_4: 0.9967 - dense_18_acc_5: 0.9925 - dense_18_acc_6: 0.9845 - dense_18_acc_7: 0.9671 - dense_18_acc_8: 0.9365 - dense_18_acc_9: 0.8736 - dense_18_acc_10: 0.7735 - dense_18_acc_11: 0.6318 - dense_18_acc_12: 0.4518 - dense_18_acc_13: 0.2914 - dense_18_acc_14: 0.2011 - dense_18_acc_15: 0.2057 - dense_18_acc_16: 0.1776 - dense_18_acc_17: 0.2654 - dense_18_acc_18: 0.2340\n",
      "Epoch 6/30\n",
      "10887/10887 [==============================] - 14s 1ms/step - loss: 19.1702 - dense_18_loss: 2.0996 - dense_18_acc: 0.9996 - dense_18_acc_1: 0.9995 - dense_18_acc_2: 0.9990 - dense_18_acc_3: 0.9981 - dense_18_acc_4: 0.9967 - dense_18_acc_5: 0.9927 - dense_18_acc_6: 0.9845 - dense_18_acc_7: 0.9671 - dense_18_acc_8: 0.9375 - dense_18_acc_9: 0.8743 - dense_18_acc_10: 0.7745 - dense_18_acc_11: 0.6347 - dense_18_acc_12: 0.4550 - dense_18_acc_13: 0.2961 - dense_18_acc_14: 0.1957 - dense_18_acc_15: 0.2208 - dense_18_acc_16: 0.1924 - dense_18_acc_17: 0.2966 - dense_18_acc_18: 0.2429\n",
      "Epoch 7/30\n",
      "10887/10887 [==============================] - 14s 1ms/step - loss: 18.7095 - dense_18_loss: 1.9995 - dense_18_acc: 0.9997 - dense_18_acc_1: 0.9996 - dense_18_acc_2: 0.9990 - dense_18_acc_3: 0.9981 - dense_18_acc_4: 0.9966 - dense_18_acc_5: 0.9926 - dense_18_acc_6: 0.9848 - dense_18_acc_7: 0.9672 - dense_18_acc_8: 0.9365 - dense_18_acc_9: 0.8744 - dense_18_acc_10: 0.7779 - dense_18_acc_11: 0.6324 - dense_18_acc_12: 0.4616 - dense_18_acc_13: 0.3061 - dense_18_acc_14: 0.2012 - dense_18_acc_15: 0.2131 - dense_18_acc_16: 0.2098 - dense_18_acc_17: 0.3130 - dense_18_acc_18: 0.2666\n",
      "Epoch 8/30\n",
      "10887/10887 [==============================] - 14s 1ms/step - loss: 18.1980 - dense_18_loss: 1.9081 - dense_18_acc: 0.9997 - dense_18_acc_1: 0.9996 - dense_18_acc_2: 0.9990 - dense_18_acc_3: 0.9981 - dense_18_acc_4: 0.9969 - dense_18_acc_5: 0.9924 - dense_18_acc_6: 0.9845 - dense_18_acc_7: 0.9674 - dense_18_acc_8: 0.9374 - dense_18_acc_9: 0.8762 - dense_18_acc_10: 0.7792 - dense_18_acc_11: 0.6341 - dense_18_acc_12: 0.4712 - dense_18_acc_13: 0.3168 - dense_18_acc_14: 0.2095 - dense_18_acc_15: 0.2210 - dense_18_acc_16: 0.2230 - dense_18_acc_17: 0.3241 - dense_18_acc_18: 0.2995\n",
      "Epoch 9/30\n",
      "10887/10887 [==============================] - 14s 1ms/step - loss: 17.8046 - dense_18_loss: 1.8559 - dense_18_acc: 0.9997 - dense_18_acc_1: 0.9996 - dense_18_acc_2: 0.9990 - dense_18_acc_3: 0.9981 - dense_18_acc_4: 0.9968 - dense_18_acc_5: 0.9929 - dense_18_acc_6: 0.9844 - dense_18_acc_7: 0.9675 - dense_18_acc_8: 0.9381 - dense_18_acc_9: 0.8766 - dense_18_acc_10: 0.7756 - dense_18_acc_11: 0.6335 - dense_18_acc_12: 0.4798 - dense_18_acc_13: 0.3234 - dense_18_acc_14: 0.2118 - dense_18_acc_15: 0.2409 - dense_18_acc_16: 0.2211 - dense_18_acc_17: 0.3497 - dense_18_acc_18: 0.3065\n",
      "Epoch 10/30\n",
      "10887/10887 [==============================] - 14s 1ms/step - loss: 17.5241 - dense_18_loss: 1.8240 - dense_18_acc: 0.9997 - dense_18_acc_1: 0.9996 - dense_18_acc_2: 0.9990 - dense_18_acc_3: 0.9981 - dense_18_acc_4: 0.9968 - dense_18_acc_5: 0.9923 - dense_18_acc_6: 0.9844 - dense_18_acc_7: 0.9672 - dense_18_acc_8: 0.9372 - dense_18_acc_9: 0.8779 - dense_18_acc_10: 0.7807 - dense_18_acc_11: 0.6388 - dense_18_acc_12: 0.4888 - dense_18_acc_13: 0.3380 - dense_18_acc_14: 0.2173 - dense_18_acc_15: 0.2415 - dense_18_acc_16: 0.2274 - dense_18_acc_17: 0.3614 - dense_18_acc_18: 0.3175\n",
      "Epoch 11/30\n",
      "10887/10887 [==============================] - 14s 1ms/step - loss: 17.2810 - dense_18_loss: 1.7937 - dense_18_acc: 0.9997 - dense_18_acc_1: 0.9996 - dense_18_acc_2: 0.9990 - dense_18_acc_3: 0.9981 - dense_18_acc_4: 0.9969 - dense_18_acc_5: 0.9925 - dense_18_acc_6: 0.9847 - dense_18_acc_7: 0.9672 - dense_18_acc_8: 0.9373 - dense_18_acc_9: 0.8773 - dense_18_acc_10: 0.7818 - dense_18_acc_11: 0.6398 - dense_18_acc_12: 0.4961 - dense_18_acc_13: 0.3470 - dense_18_acc_14: 0.2228 - dense_18_acc_15: 0.2493 - dense_18_acc_16: 0.2377 - dense_18_acc_17: 0.3616 - dense_18_acc_18: 0.3322\n",
      "Epoch 12/30\n",
      "10887/10887 [==============================] - 14s 1ms/step - loss: 17.0635 - dense_18_loss: 1.7544 - dense_18_acc: 0.9997 - dense_18_acc_1: 0.9996 - dense_18_acc_2: 0.9990 - dense_18_acc_3: 0.9982 - dense_18_acc_4: 0.9968 - dense_18_acc_5: 0.9922 - dense_18_acc_6: 0.9844 - dense_18_acc_7: 0.9678 - dense_18_acc_8: 0.9380 - dense_18_acc_9: 0.8771 - dense_18_acc_10: 0.7822 - dense_18_acc_11: 0.6452 - dense_18_acc_12: 0.5045 - dense_18_acc_13: 0.3606 - dense_18_acc_14: 0.2372 - dense_18_acc_15: 0.2599 - dense_18_acc_16: 0.2486 - dense_18_acc_17: 0.3524 - dense_18_acc_18: 0.3603\n",
      "Epoch 13/30\n",
      "10887/10887 [==============================] - 15s 1ms/step - loss: 16.8747 - dense_18_loss: 1.7194 - dense_18_acc: 0.9997 - dense_18_acc_1: 0.9996 - dense_18_acc_2: 0.9990 - dense_18_acc_3: 0.9981 - dense_18_acc_4: 0.9968 - dense_18_acc_5: 0.9923 - dense_18_acc_6: 0.9846 - dense_18_acc_7: 0.9678 - dense_18_acc_8: 0.9358 - dense_18_acc_9: 0.8791 - dense_18_acc_10: 0.7851 - dense_18_acc_11: 0.6526 - dense_18_acc_12: 0.5052 - dense_18_acc_13: 0.3711 - dense_18_acc_14: 0.2553 - dense_18_acc_15: 0.2708 - dense_18_acc_16: 0.2642 - dense_18_acc_17: 0.3533 - dense_18_acc_18: 0.3831\n",
      "Epoch 14/30\n"
     ]
    },
    {
     "name": "stdout",
     "output_type": "stream",
     "text": [
      "10887/10887 [==============================] - 15s 1ms/step - loss: 16.6727 - dense_18_loss: 1.6862 - dense_18_acc: 0.9997 - dense_18_acc_1: 0.9996 - dense_18_acc_2: 0.9990 - dense_18_acc_3: 0.9982 - dense_18_acc_4: 0.9967 - dense_18_acc_5: 0.9924 - dense_18_acc_6: 0.9847 - dense_18_acc_7: 0.9685 - dense_18_acc_8: 0.9364 - dense_18_acc_9: 0.8809 - dense_18_acc_10: 0.7879 - dense_18_acc_11: 0.6566 - dense_18_acc_12: 0.5166 - dense_18_acc_13: 0.3747 - dense_18_acc_14: 0.2700 - dense_18_acc_15: 0.2736 - dense_18_acc_16: 0.2702 - dense_18_acc_17: 0.3607 - dense_18_acc_18: 0.3936\n",
      "Epoch 15/30\n",
      "10887/10887 [==============================] - 15s 1ms/step - loss: 16.4315 - dense_18_loss: 1.6501 - dense_18_acc: 0.9997 - dense_18_acc_1: 0.9996 - dense_18_acc_2: 0.9990 - dense_18_acc_3: 0.9981 - dense_18_acc_4: 0.9968 - dense_18_acc_5: 0.9920 - dense_18_acc_6: 0.9848 - dense_18_acc_7: 0.9682 - dense_18_acc_8: 0.9376 - dense_18_acc_9: 0.8826 - dense_18_acc_10: 0.7901 - dense_18_acc_11: 0.6631 - dense_18_acc_12: 0.5239 - dense_18_acc_13: 0.3864 - dense_18_acc_14: 0.2856 - dense_18_acc_15: 0.2814 - dense_18_acc_16: 0.2870 - dense_18_acc_17: 0.3582 - dense_18_acc_18: 0.4020\n",
      "Epoch 16/30\n",
      "10887/10887 [==============================] - 14s 1ms/step - loss: 16.2356 - dense_18_loss: 1.6179 - dense_18_acc: 0.9997 - dense_18_acc_1: 0.9996 - dense_18_acc_2: 0.9990 - dense_18_acc_3: 0.9982 - dense_18_acc_4: 0.9969 - dense_18_acc_5: 0.9922 - dense_18_acc_6: 0.9844 - dense_18_acc_7: 0.9680 - dense_18_acc_8: 0.9379 - dense_18_acc_9: 0.8830 - dense_18_acc_10: 0.7923 - dense_18_acc_11: 0.6673 - dense_18_acc_12: 0.5306 - dense_18_acc_13: 0.3931 - dense_18_acc_14: 0.2953 - dense_18_acc_15: 0.2859 - dense_18_acc_16: 0.2949 - dense_18_acc_17: 0.3702 - dense_18_acc_18: 0.4121\n",
      "Epoch 17/30\n",
      "10887/10887 [==============================] - 14s 1ms/step - loss: 16.0254 - dense_18_loss: 1.5855 - dense_18_acc: 0.9997 - dense_18_acc_1: 0.9996 - dense_18_acc_2: 0.9990 - dense_18_acc_3: 0.9982 - dense_18_acc_4: 0.9968 - dense_18_acc_5: 0.9922 - dense_18_acc_6: 0.9855 - dense_18_acc_7: 0.9690 - dense_18_acc_8: 0.9397 - dense_18_acc_9: 0.8848 - dense_18_acc_10: 0.7979 - dense_18_acc_11: 0.6762 - dense_18_acc_12: 0.5381 - dense_18_acc_13: 0.4030 - dense_18_acc_14: 0.3084 - dense_18_acc_15: 0.2874 - dense_18_acc_16: 0.3002 - dense_18_acc_17: 0.3817 - dense_18_acc_18: 0.4172\n",
      "Epoch 18/30\n",
      "10887/10887 [==============================] - 14s 1ms/step - loss: 15.7869 - dense_18_loss: 1.5503 - dense_18_acc: 0.9997 - dense_18_acc_1: 0.9996 - dense_18_acc_2: 0.9990 - dense_18_acc_3: 0.9983 - dense_18_acc_4: 0.9969 - dense_18_acc_5: 0.9921 - dense_18_acc_6: 0.9849 - dense_18_acc_7: 0.9691 - dense_18_acc_8: 0.9388 - dense_18_acc_9: 0.8861 - dense_18_acc_10: 0.8007 - dense_18_acc_11: 0.6834 - dense_18_acc_12: 0.5414 - dense_18_acc_13: 0.4145 - dense_18_acc_14: 0.3230 - dense_18_acc_15: 0.2919 - dense_18_acc_16: 0.3126 - dense_18_acc_17: 0.3834 - dense_18_acc_18: 0.4337\n",
      "Epoch 19/30\n",
      "10887/10887 [==============================] - 14s 1ms/step - loss: 15.6135 - dense_18_loss: 1.5173 - dense_18_acc: 0.9997 - dense_18_acc_1: 0.9996 - dense_18_acc_2: 0.9990 - dense_18_acc_3: 0.9983 - dense_18_acc_4: 0.9969 - dense_18_acc_5: 0.9922 - dense_18_acc_6: 0.9848 - dense_18_acc_7: 0.9695 - dense_18_acc_8: 0.9397 - dense_18_acc_9: 0.8879 - dense_18_acc_10: 0.8048 - dense_18_acc_11: 0.6856 - dense_18_acc_12: 0.5446 - dense_18_acc_13: 0.4191 - dense_18_acc_14: 0.3248 - dense_18_acc_15: 0.2939 - dense_18_acc_16: 0.3181 - dense_18_acc_17: 0.3916 - dense_18_acc_18: 0.4512\n",
      "Epoch 20/30\n",
      "10887/10887 [==============================] - 14s 1ms/step - loss: 15.3804 - dense_18_loss: 1.4892 - dense_18_acc: 0.9997 - dense_18_acc_1: 0.9996 - dense_18_acc_2: 0.9990 - dense_18_acc_3: 0.9983 - dense_18_acc_4: 0.9970 - dense_18_acc_5: 0.9920 - dense_18_acc_6: 0.9855 - dense_18_acc_7: 0.9697 - dense_18_acc_8: 0.9405 - dense_18_acc_9: 0.8893 - dense_18_acc_10: 0.8084 - dense_18_acc_11: 0.6883 - dense_18_acc_12: 0.5575 - dense_18_acc_13: 0.4310 - dense_18_acc_14: 0.3351 - dense_18_acc_15: 0.3038 - dense_18_acc_16: 0.3305 - dense_18_acc_17: 0.3978 - dense_18_acc_18: 0.4673\n",
      "Epoch 21/30\n",
      "10887/10887 [==============================] - 15s 1ms/step - loss: 15.1759 - dense_18_loss: 1.4629 - dense_18_acc: 0.9997 - dense_18_acc_1: 0.9996 - dense_18_acc_2: 0.9990 - dense_18_acc_3: 0.9983 - dense_18_acc_4: 0.9971 - dense_18_acc_5: 0.9925 - dense_18_acc_6: 0.9857 - dense_18_acc_7: 0.9690 - dense_18_acc_8: 0.9397 - dense_18_acc_9: 0.8895 - dense_18_acc_10: 0.8112 - dense_18_acc_11: 0.6970 - dense_18_acc_12: 0.5610 - dense_18_acc_13: 0.4342 - dense_18_acc_14: 0.3324 - dense_18_acc_15: 0.3072 - dense_18_acc_16: 0.3370 - dense_18_acc_17: 0.4074 - dense_18_acc_18: 0.4775\n",
      "Epoch 22/30\n",
      "10887/10887 [==============================] - 17s 2ms/step - loss: 14.9945 - dense_18_loss: 1.4395 - dense_18_acc: 0.9997 - dense_18_acc_1: 0.9996 - dense_18_acc_2: 0.9990 - dense_18_acc_3: 0.9982 - dense_18_acc_4: 0.9969 - dense_18_acc_5: 0.9925 - dense_18_acc_6: 0.9859 - dense_18_acc_7: 0.9694 - dense_18_acc_8: 0.9399 - dense_18_acc_9: 0.8898 - dense_18_acc_10: 0.8113 - dense_18_acc_11: 0.6980 - dense_18_acc_12: 0.5681 - dense_18_acc_13: 0.4354 - dense_18_acc_14: 0.3409 - dense_18_acc_15: 0.3123 - dense_18_acc_16: 0.3412 - dense_18_acc_17: 0.4173 - dense_18_acc_18: 0.4887\n",
      "Epoch 23/30\n",
      "10887/10887 [==============================] - 18s 2ms/step - loss: 14.8031 - dense_18_loss: 1.4163 - dense_18_acc: 0.9997 - dense_18_acc_1: 0.9996 - dense_18_acc_2: 0.9990 - dense_18_acc_3: 0.9983 - dense_18_acc_4: 0.9968 - dense_18_acc_5: 0.9924 - dense_18_acc_6: 0.9856 - dense_18_acc_7: 0.9685 - dense_18_acc_8: 0.9401 - dense_18_acc_9: 0.8894 - dense_18_acc_10: 0.8145 - dense_18_acc_11: 0.7025 - dense_18_acc_12: 0.5729 - dense_18_acc_13: 0.4425 - dense_18_acc_14: 0.3442 - dense_18_acc_15: 0.3188 - dense_18_acc_16: 0.3467 - dense_18_acc_17: 0.4232 - dense_18_acc_18: 0.5028\n",
      "Epoch 24/30\n",
      "10887/10887 [==============================] - 18s 2ms/step - loss: 14.6148 - dense_18_loss: 1.3940 - dense_18_acc: 0.9997 - dense_18_acc_1: 0.9996 - dense_18_acc_2: 0.9990 - dense_18_acc_3: 0.9983 - dense_18_acc_4: 0.9971 - dense_18_acc_5: 0.9922 - dense_18_acc_6: 0.9857 - dense_18_acc_7: 0.9700 - dense_18_acc_8: 0.9391 - dense_18_acc_9: 0.8904 - dense_18_acc_10: 0.8175 - dense_18_acc_11: 0.7074 - dense_18_acc_12: 0.5772 - dense_18_acc_13: 0.4478 - dense_18_acc_14: 0.3478 - dense_18_acc_15: 0.3262 - dense_18_acc_16: 0.3521 - dense_18_acc_17: 0.4358 - dense_18_acc_18: 0.5136\n",
      "Epoch 25/30\n",
      "10887/10887 [==============================] - 15s 1ms/step - loss: 14.4460 - dense_18_loss: 1.3720 - dense_18_acc: 0.9997 - dense_18_acc_1: 0.9996 - dense_18_acc_2: 0.9990 - dense_18_acc_3: 0.9983 - dense_18_acc_4: 0.9971 - dense_18_acc_5: 0.9920 - dense_18_acc_6: 0.9859 - dense_18_acc_7: 0.9699 - dense_18_acc_8: 0.9397 - dense_18_acc_9: 0.8921 - dense_18_acc_10: 0.8207 - dense_18_acc_11: 0.7089 - dense_18_acc_12: 0.5794 - dense_18_acc_13: 0.4526 - dense_18_acc_14: 0.3543 - dense_18_acc_15: 0.3321 - dense_18_acc_16: 0.3600 - dense_18_acc_17: 0.4370 - dense_18_acc_18: 0.5311\n",
      "Epoch 26/30\n",
      "10887/10887 [==============================] - 15s 1ms/step - loss: 14.3090 - dense_18_loss: 1.3458 - dense_18_acc: 0.9997 - dense_18_acc_1: 0.9996 - dense_18_acc_2: 0.9990 - dense_18_acc_3: 0.9983 - dense_18_acc_4: 0.9971 - dense_18_acc_5: 0.9921 - dense_18_acc_6: 0.9859 - dense_18_acc_7: 0.9701 - dense_18_acc_8: 0.9390 - dense_18_acc_9: 0.8917 - dense_18_acc_10: 0.8205 - dense_18_acc_11: 0.7085 - dense_18_acc_12: 0.5788 - dense_18_acc_13: 0.4560 - dense_18_acc_14: 0.3591 - dense_18_acc_15: 0.3366 - dense_18_acc_16: 0.3620 - dense_18_acc_17: 0.4423 - dense_18_acc_18: 0.5423\n",
      "Epoch 27/30\n"
     ]
    },
    {
     "name": "stdout",
     "output_type": "stream",
     "text": [
      "10887/10887 [==============================] - 15s 1ms/step - loss: 14.1463 - dense_18_loss: 1.3226 - dense_18_acc: 0.9997 - dense_18_acc_1: 0.9996 - dense_18_acc_2: 0.9990 - dense_18_acc_3: 0.9983 - dense_18_acc_4: 0.9970 - dense_18_acc_5: 0.9927 - dense_18_acc_6: 0.9861 - dense_18_acc_7: 0.9704 - dense_18_acc_8: 0.9408 - dense_18_acc_9: 0.8935 - dense_18_acc_10: 0.8209 - dense_18_acc_11: 0.7138 - dense_18_acc_12: 0.5830 - dense_18_acc_13: 0.4617 - dense_18_acc_14: 0.3636 - dense_18_acc_15: 0.3439 - dense_18_acc_16: 0.3692 - dense_18_acc_17: 0.4469 - dense_18_acc_18: 0.5594\n",
      "Epoch 28/30\n",
      "10887/10887 [==============================] - 15s 1ms/step - loss: 13.9834 - dense_18_loss: 1.2971 - dense_18_acc: 0.9997 - dense_18_acc_1: 0.9996 - dense_18_acc_2: 0.9990 - dense_18_acc_3: 0.9983 - dense_18_acc_4: 0.9969 - dense_18_acc_5: 0.9923 - dense_18_acc_6: 0.9860 - dense_18_acc_7: 0.9706 - dense_18_acc_8: 0.9410 - dense_18_acc_9: 0.8931 - dense_18_acc_10: 0.8249 - dense_18_acc_11: 0.7173 - dense_18_acc_12: 0.5867 - dense_18_acc_13: 0.4693 - dense_18_acc_14: 0.3690 - dense_18_acc_15: 0.3501 - dense_18_acc_16: 0.3729 - dense_18_acc_17: 0.4495 - dense_18_acc_18: 0.5690\n",
      "Epoch 29/30\n",
      "10887/10887 [==============================] - 15s 1ms/step - loss: 13.8388 - dense_18_loss: 1.2783 - dense_18_acc: 0.9997 - dense_18_acc_1: 0.9996 - dense_18_acc_2: 0.9990 - dense_18_acc_3: 0.9983 - dense_18_acc_4: 0.9971 - dense_18_acc_5: 0.9925 - dense_18_acc_6: 0.9853 - dense_18_acc_7: 0.9709 - dense_18_acc_8: 0.9426 - dense_18_acc_9: 0.8946 - dense_18_acc_10: 0.8273 - dense_18_acc_11: 0.7198 - dense_18_acc_12: 0.5940 - dense_18_acc_13: 0.4730 - dense_18_acc_14: 0.3748 - dense_18_acc_15: 0.3559 - dense_18_acc_16: 0.3794 - dense_18_acc_17: 0.4521 - dense_18_acc_18: 0.5747\n",
      "Epoch 30/30\n",
      "10887/10887 [==============================] - 15s 1ms/step - loss: 13.6952 - dense_18_loss: 1.2575 - dense_18_acc: 0.9997 - dense_18_acc_1: 0.9996 - dense_18_acc_2: 0.9990 - dense_18_acc_3: 0.9984 - dense_18_acc_4: 0.9970 - dense_18_acc_5: 0.9923 - dense_18_acc_6: 0.9859 - dense_18_acc_7: 0.9710 - dense_18_acc_8: 0.9425 - dense_18_acc_9: 0.8969 - dense_18_acc_10: 0.8269 - dense_18_acc_11: 0.7236 - dense_18_acc_12: 0.5958 - dense_18_acc_13: 0.4828 - dense_18_acc_14: 0.3795 - dense_18_acc_15: 0.3577 - dense_18_acc_16: 0.3854 - dense_18_acc_17: 0.4594 - dense_18_acc_18: 0.5912\n"
     ]
    },
    {
     "data": {
      "text/plain": [
       "<keras.callbacks.History at 0x7f89b085ae10>"
      ]
     },
     "execution_count": 126,
     "metadata": {},
     "output_type": "execute_result"
    }
   ],
   "source": [
    "model.fit([X, s0, c0], outputs, epochs=30, batch_size=120)"
   ]
  },
  {
   "cell_type": "code",
   "execution_count": 129,
   "metadata": {
    "scrolled": true
   },
   "outputs": [
    {
     "name": "stdout",
     "output_type": "stream",
     "text": [
      "Epoch 1/30\n",
      "10887/10887 [==============================] - 10s 893us/step - loss: 13.5591 - dense_18_loss: 1.2419 - dense_18_acc: 0.9997 - dense_18_acc_1: 0.9996 - dense_18_acc_2: 0.9990 - dense_18_acc_3: 0.9984 - dense_18_acc_4: 0.9970 - dense_18_acc_5: 0.9925 - dense_18_acc_6: 0.9857 - dense_18_acc_7: 0.9712 - dense_18_acc_8: 0.9433 - dense_18_acc_9: 0.8962 - dense_18_acc_10: 0.8302 - dense_18_acc_11: 0.7283 - dense_18_acc_12: 0.6011 - dense_18_acc_13: 0.4862 - dense_18_acc_14: 0.3818 - dense_18_acc_15: 0.3716 - dense_18_acc_16: 0.3923 - dense_18_acc_17: 0.4663 - dense_18_acc_18: 0.5945\n",
      "Epoch 2/30\n",
      "10887/10887 [==============================] - 13s 1ms/step - loss: 13.4082 - dense_18_loss: 1.2176 - dense_18_acc: 0.9997 - dense_18_acc_1: 0.9996 - dense_18_acc_2: 0.9990 - dense_18_acc_3: 0.9984 - dense_18_acc_4: 0.9970 - dense_18_acc_5: 0.9923 - dense_18_acc_6: 0.9863 - dense_18_acc_7: 0.9714 - dense_18_acc_8: 0.9445 - dense_18_acc_9: 0.8994 - dense_18_acc_10: 0.8337 - dense_18_acc_11: 0.7312 - dense_18_acc_12: 0.6037 - dense_18_acc_13: 0.4911 - dense_18_acc_14: 0.3880 - dense_18_acc_15: 0.3767 - dense_18_acc_16: 0.4007 - dense_18_acc_17: 0.4725 - dense_18_acc_18: 0.6108\n",
      "Epoch 3/30\n",
      "10887/10887 [==============================] - 18s 2ms/step - loss: 13.2791 - dense_18_loss: 1.2001 - dense_18_acc: 0.9997 - dense_18_acc_1: 0.9996 - dense_18_acc_2: 0.9990 - dense_18_acc_3: 0.9984 - dense_18_acc_4: 0.9968 - dense_18_acc_5: 0.9926 - dense_18_acc_6: 0.9862 - dense_18_acc_7: 0.9712 - dense_18_acc_8: 0.9439 - dense_18_acc_9: 0.8991 - dense_18_acc_10: 0.8340 - dense_18_acc_11: 0.7332 - dense_18_acc_12: 0.6080 - dense_18_acc_13: 0.4955 - dense_18_acc_14: 0.3932 - dense_18_acc_15: 0.3810 - dense_18_acc_16: 0.4039 - dense_18_acc_17: 0.4796 - dense_18_acc_18: 0.6082\n",
      "Epoch 4/30\n",
      "10887/10887 [==============================] - 15s 1ms/step - loss: 13.1626 - dense_18_loss: 1.1813 - dense_18_acc: 0.9997 - dense_18_acc_1: 0.9996 - dense_18_acc_2: 0.9990 - dense_18_acc_3: 0.9984 - dense_18_acc_4: 0.9969 - dense_18_acc_5: 0.9923 - dense_18_acc_6: 0.9854 - dense_18_acc_7: 0.9709 - dense_18_acc_8: 0.9452 - dense_18_acc_9: 0.8996 - dense_18_acc_10: 0.8352 - dense_18_acc_11: 0.7348 - dense_18_acc_12: 0.6099 - dense_18_acc_13: 0.5031 - dense_18_acc_14: 0.3962 - dense_18_acc_15: 0.3854 - dense_18_acc_16: 0.4098 - dense_18_acc_17: 0.4834 - dense_18_acc_18: 0.6220\n",
      "Epoch 5/30\n",
      "10887/10887 [==============================] - 14s 1ms/step - loss: 13.0675 - dense_18_loss: 1.1638 - dense_18_acc: 0.9997 - dense_18_acc_1: 0.9996 - dense_18_acc_2: 0.9990 - dense_18_acc_3: 0.9983 - dense_18_acc_4: 0.9968 - dense_18_acc_5: 0.9925 - dense_18_acc_6: 0.9862 - dense_18_acc_7: 0.9708 - dense_18_acc_8: 0.9458 - dense_18_acc_9: 0.9001 - dense_18_acc_10: 0.8359 - dense_18_acc_11: 0.7365 - dense_18_acc_12: 0.6119 - dense_18_acc_13: 0.5042 - dense_18_acc_14: 0.4005 - dense_18_acc_15: 0.3875 - dense_18_acc_16: 0.4138 - dense_18_acc_17: 0.4856 - dense_18_acc_18: 0.6185\n",
      "Epoch 6/30\n",
      "10887/10887 [==============================] - 15s 1ms/step - loss: 12.9618 - dense_18_loss: 1.1532 - dense_18_acc: 0.9997 - dense_18_acc_1: 0.9996 - dense_18_acc_2: 0.9990 - dense_18_acc_3: 0.9984 - dense_18_acc_4: 0.9968 - dense_18_acc_5: 0.9927 - dense_18_acc_6: 0.9859 - dense_18_acc_7: 0.9710 - dense_18_acc_8: 0.9455 - dense_18_acc_9: 0.9004 - dense_18_acc_10: 0.8373 - dense_18_acc_11: 0.7379 - dense_18_acc_12: 0.6127 - dense_18_acc_13: 0.5090 - dense_18_acc_14: 0.4076 - dense_18_acc_15: 0.3943 - dense_18_acc_16: 0.4176 - dense_18_acc_17: 0.4976 - dense_18_acc_18: 0.6227\n",
      "Epoch 7/30\n",
      "10887/10887 [==============================] - 16s 1ms/step - loss: 12.8294 - dense_18_loss: 1.1299 - dense_18_acc: 0.9997 - dense_18_acc_1: 0.9996 - dense_18_acc_2: 0.9990 - dense_18_acc_3: 0.9985 - dense_18_acc_4: 0.9970 - dense_18_acc_5: 0.9924 - dense_18_acc_6: 0.9859 - dense_18_acc_7: 0.9711 - dense_18_acc_8: 0.9456 - dense_18_acc_9: 0.9005 - dense_18_acc_10: 0.8407 - dense_18_acc_11: 0.7417 - dense_18_acc_12: 0.6206 - dense_18_acc_13: 0.5093 - dense_18_acc_14: 0.4109 - dense_18_acc_15: 0.3991 - dense_18_acc_16: 0.4194 - dense_18_acc_17: 0.4988 - dense_18_acc_18: 0.6348\n",
      "Epoch 8/30\n",
      "10887/10887 [==============================] - 14s 1ms/step - loss: 12.7056 - dense_18_loss: 1.1112 - dense_18_acc: 0.9997 - dense_18_acc_1: 0.9996 - dense_18_acc_2: 0.9990 - dense_18_acc_3: 0.9983 - dense_18_acc_4: 0.9968 - dense_18_acc_5: 0.9926 - dense_18_acc_6: 0.9859 - dense_18_acc_7: 0.9719 - dense_18_acc_8: 0.9471 - dense_18_acc_9: 0.9025 - dense_18_acc_10: 0.8399 - dense_18_acc_11: 0.7446 - dense_18_acc_12: 0.6205 - dense_18_acc_13: 0.5151 - dense_18_acc_14: 0.4161 - dense_18_acc_15: 0.4059 - dense_18_acc_16: 0.4260 - dense_18_acc_17: 0.5072 - dense_18_acc_18: 0.6419\n",
      "Epoch 9/30\n",
      "10887/10887 [==============================] - 15s 1ms/step - loss: 12.6348 - dense_18_loss: 1.1007 - dense_18_acc: 0.9997 - dense_18_acc_1: 0.9996 - dense_18_acc_2: 0.9990 - dense_18_acc_3: 0.9985 - dense_18_acc_4: 0.9969 - dense_18_acc_5: 0.9927 - dense_18_acc_6: 0.9859 - dense_18_acc_7: 0.9712 - dense_18_acc_8: 0.9469 - dense_18_acc_9: 0.9032 - dense_18_acc_10: 0.8421 - dense_18_acc_11: 0.7466 - dense_18_acc_12: 0.6258 - dense_18_acc_13: 0.5190 - dense_18_acc_14: 0.4175 - dense_18_acc_15: 0.4117 - dense_18_acc_16: 0.4296 - dense_18_acc_17: 0.5100 - dense_18_acc_18: 0.6451\n",
      "Epoch 10/30\n",
      "10887/10887 [==============================] - 14s 1ms/step - loss: 12.5053 - dense_18_loss: 1.0828 - dense_18_acc: 0.9997 - dense_18_acc_1: 0.9996 - dense_18_acc_2: 0.9990 - dense_18_acc_3: 0.9985 - dense_18_acc_4: 0.9969 - dense_18_acc_5: 0.9925 - dense_18_acc_6: 0.9858 - dense_18_acc_7: 0.9713 - dense_18_acc_8: 0.9466 - dense_18_acc_9: 0.9049 - dense_18_acc_10: 0.8443 - dense_18_acc_11: 0.7485 - dense_18_acc_12: 0.6270 - dense_18_acc_13: 0.5242 - dense_18_acc_14: 0.4236 - dense_18_acc_15: 0.4128 - dense_18_acc_16: 0.4354 - dense_18_acc_17: 0.5146 - dense_18_acc_18: 0.6540\n",
      "Epoch 11/30\n",
      "10887/10887 [==============================] - 14s 1ms/step - loss: 12.4250 - dense_18_loss: 1.0694 - dense_18_acc: 0.9997 - dense_18_acc_1: 0.9996 - dense_18_acc_2: 0.9990 - dense_18_acc_3: 0.9984 - dense_18_acc_4: 0.9970 - dense_18_acc_5: 0.9927 - dense_18_acc_6: 0.9863 - dense_18_acc_7: 0.9711 - dense_18_acc_8: 0.9465 - dense_18_acc_9: 0.9042 - dense_18_acc_10: 0.8439 - dense_18_acc_11: 0.7487 - dense_18_acc_12: 0.6287 - dense_18_acc_13: 0.5281 - dense_18_acc_14: 0.4259 - dense_18_acc_15: 0.4192 - dense_18_acc_16: 0.4406 - dense_18_acc_17: 0.5232 - dense_18_acc_18: 0.6576\n",
      "Epoch 12/30\n",
      "10887/10887 [==============================] - 15s 1ms/step - loss: 12.3196 - dense_18_loss: 1.0532 - dense_18_acc: 0.9997 - dense_18_acc_1: 0.9996 - dense_18_acc_2: 0.9990 - dense_18_acc_3: 0.9984 - dense_18_acc_4: 0.9970 - dense_18_acc_5: 0.9927 - dense_18_acc_6: 0.9859 - dense_18_acc_7: 0.9712 - dense_18_acc_8: 0.9465 - dense_18_acc_9: 0.9066 - dense_18_acc_10: 0.8459 - dense_18_acc_11: 0.7517 - dense_18_acc_12: 0.6319 - dense_18_acc_13: 0.5312 - dense_18_acc_14: 0.4299 - dense_18_acc_15: 0.4219 - dense_18_acc_16: 0.4448 - dense_18_acc_17: 0.5223 - dense_18_acc_18: 0.6620\n",
      "Epoch 13/30\n",
      "10887/10887 [==============================] - 15s 1ms/step - loss: 12.2337 - dense_18_loss: 1.0417 - dense_18_acc: 0.9997 - dense_18_acc_1: 0.9996 - dense_18_acc_2: 0.9990 - dense_18_acc_3: 0.9984 - dense_18_acc_4: 0.9970 - dense_18_acc_5: 0.9928 - dense_18_acc_6: 0.9862 - dense_18_acc_7: 0.9714 - dense_18_acc_8: 0.9474 - dense_18_acc_9: 0.9073 - dense_18_acc_10: 0.8469 - dense_18_acc_11: 0.7541 - dense_18_acc_12: 0.6344 - dense_18_acc_13: 0.5352 - dense_18_acc_14: 0.4361 - dense_18_acc_15: 0.4281 - dense_18_acc_16: 0.4491 - dense_18_acc_17: 0.5295 - dense_18_acc_18: 0.6702\n",
      "Epoch 14/30\n"
     ]
    },
    {
     "name": "stdout",
     "output_type": "stream",
     "text": [
      "10887/10887 [==============================] - 14s 1ms/step - loss: 12.1475 - dense_18_loss: 1.0258 - dense_18_acc: 0.9997 - dense_18_acc_1: 0.9996 - dense_18_acc_2: 0.9990 - dense_18_acc_3: 0.9984 - dense_18_acc_4: 0.9968 - dense_18_acc_5: 0.9928 - dense_18_acc_6: 0.9862 - dense_18_acc_7: 0.9711 - dense_18_acc_8: 0.9473 - dense_18_acc_9: 0.9095 - dense_18_acc_10: 0.8501 - dense_18_acc_11: 0.7536 - dense_18_acc_12: 0.6395 - dense_18_acc_13: 0.5349 - dense_18_acc_14: 0.4360 - dense_18_acc_15: 0.4346 - dense_18_acc_16: 0.4538 - dense_18_acc_17: 0.5322 - dense_18_acc_18: 0.6765\n",
      "Epoch 15/30\n",
      "10887/10887 [==============================] - 14s 1ms/step - loss: 12.0624 - dense_18_loss: 1.0155 - dense_18_acc: 0.9997 - dense_18_acc_1: 0.9996 - dense_18_acc_2: 0.9990 - dense_18_acc_3: 0.9984 - dense_18_acc_4: 0.9969 - dense_18_acc_5: 0.9926 - dense_18_acc_6: 0.9859 - dense_18_acc_7: 0.9705 - dense_18_acc_8: 0.9476 - dense_18_acc_9: 0.9071 - dense_18_acc_10: 0.8498 - dense_18_acc_11: 0.7546 - dense_18_acc_12: 0.6375 - dense_18_acc_13: 0.5389 - dense_18_acc_14: 0.4390 - dense_18_acc_15: 0.4441 - dense_18_acc_16: 0.4607 - dense_18_acc_17: 0.5365 - dense_18_acc_18: 0.6810\n",
      "Epoch 16/30\n",
      "10887/10887 [==============================] - 14s 1ms/step - loss: 11.9800 - dense_18_loss: 1.0032 - dense_18_acc: 0.9997 - dense_18_acc_1: 0.9996 - dense_18_acc_2: 0.9990 - dense_18_acc_3: 0.9984 - dense_18_acc_4: 0.9970 - dense_18_acc_5: 0.9931 - dense_18_acc_6: 0.9865 - dense_18_acc_7: 0.9706 - dense_18_acc_8: 0.9473 - dense_18_acc_9: 0.9085 - dense_18_acc_10: 0.8500 - dense_18_acc_11: 0.7565 - dense_18_acc_12: 0.6434 - dense_18_acc_13: 0.5438 - dense_18_acc_14: 0.4464 - dense_18_acc_15: 0.4472 - dense_18_acc_16: 0.4665 - dense_18_acc_17: 0.5434 - dense_18_acc_18: 0.6871\n",
      "Epoch 17/30\n",
      "10887/10887 [==============================] - 14s 1ms/step - loss: 11.9101 - dense_18_loss: 0.9923 - dense_18_acc: 0.9997 - dense_18_acc_1: 0.9996 - dense_18_acc_2: 0.9990 - dense_18_acc_3: 0.9984 - dense_18_acc_4: 0.9971 - dense_18_acc_5: 0.9929 - dense_18_acc_6: 0.9864 - dense_18_acc_7: 0.9707 - dense_18_acc_8: 0.9472 - dense_18_acc_9: 0.9099 - dense_18_acc_10: 0.8489 - dense_18_acc_11: 0.7569 - dense_18_acc_12: 0.6450 - dense_18_acc_13: 0.5454 - dense_18_acc_14: 0.4467 - dense_18_acc_15: 0.4493 - dense_18_acc_16: 0.4745 - dense_18_acc_17: 0.5460 - dense_18_acc_18: 0.6884\n",
      "Epoch 18/30\n",
      "10887/10887 [==============================] - 14s 1ms/step - loss: 11.8235 - dense_18_loss: 0.9791 - dense_18_acc: 0.9997 - dense_18_acc_1: 0.9996 - dense_18_acc_2: 0.9990 - dense_18_acc_3: 0.9984 - dense_18_acc_4: 0.9971 - dense_18_acc_5: 0.9930 - dense_18_acc_6: 0.9864 - dense_18_acc_7: 0.9718 - dense_18_acc_8: 0.9479 - dense_18_acc_9: 0.9092 - dense_18_acc_10: 0.8499 - dense_18_acc_11: 0.7601 - dense_18_acc_12: 0.6462 - dense_18_acc_13: 0.5483 - dense_18_acc_14: 0.4530 - dense_18_acc_15: 0.4612 - dense_18_acc_16: 0.4779 - dense_18_acc_17: 0.5509 - dense_18_acc_18: 0.6944\n",
      "Epoch 19/30\n",
      "10887/10887 [==============================] - 15s 1ms/step - loss: 11.7457 - dense_18_loss: 0.9694 - dense_18_acc: 0.9997 - dense_18_acc_1: 0.9996 - dense_18_acc_2: 0.9990 - dense_18_acc_3: 0.9984 - dense_18_acc_4: 0.9970 - dense_18_acc_5: 0.9929 - dense_18_acc_6: 0.9861 - dense_18_acc_7: 0.9715 - dense_18_acc_8: 0.9479 - dense_18_acc_9: 0.9122 - dense_18_acc_10: 0.8518 - dense_18_acc_11: 0.7604 - dense_18_acc_12: 0.6474 - dense_18_acc_13: 0.5490 - dense_18_acc_14: 0.4580 - dense_18_acc_15: 0.4645 - dense_18_acc_16: 0.4837 - dense_18_acc_17: 0.5568 - dense_18_acc_18: 0.7005\n",
      "Epoch 20/30\n",
      "10887/10887 [==============================] - 15s 1ms/step - loss: 11.6458 - dense_18_loss: 0.9519 - dense_18_acc: 0.9997 - dense_18_acc_1: 0.9996 - dense_18_acc_2: 0.9990 - dense_18_acc_3: 0.9984 - dense_18_acc_4: 0.9971 - dense_18_acc_5: 0.9932 - dense_18_acc_6: 0.9863 - dense_18_acc_7: 0.9710 - dense_18_acc_8: 0.9481 - dense_18_acc_9: 0.9103 - dense_18_acc_10: 0.8535 - dense_18_acc_11: 0.7627 - dense_18_acc_12: 0.6530 - dense_18_acc_13: 0.5548 - dense_18_acc_14: 0.4611 - dense_18_acc_15: 0.4712 - dense_18_acc_16: 0.4899 - dense_18_acc_17: 0.5630 - dense_18_acc_18: 0.7095\n",
      "Epoch 21/30\n",
      "10887/10887 [==============================] - 14s 1ms/step - loss: 11.5848 - dense_18_loss: 0.9434 - dense_18_acc: 0.9997 - dense_18_acc_1: 0.9996 - dense_18_acc_2: 0.9990 - dense_18_acc_3: 0.9984 - dense_18_acc_4: 0.9969 - dense_18_acc_5: 0.9928 - dense_18_acc_6: 0.9862 - dense_18_acc_7: 0.9714 - dense_18_acc_8: 0.9488 - dense_18_acc_9: 0.9112 - dense_18_acc_10: 0.8531 - dense_18_acc_11: 0.7634 - dense_18_acc_12: 0.6539 - dense_18_acc_13: 0.5573 - dense_18_acc_14: 0.4624 - dense_18_acc_15: 0.4742 - dense_18_acc_16: 0.4973 - dense_18_acc_17: 0.5601 - dense_18_acc_18: 0.7110\n",
      "Epoch 22/30\n",
      "10887/10887 [==============================] - 15s 1ms/step - loss: 11.5380 - dense_18_loss: 0.9346 - dense_18_acc: 0.9997 - dense_18_acc_1: 0.9996 - dense_18_acc_2: 0.9990 - dense_18_acc_3: 0.9984 - dense_18_acc_4: 0.9971 - dense_18_acc_5: 0.9932 - dense_18_acc_6: 0.9865 - dense_18_acc_7: 0.9716 - dense_18_acc_8: 0.9493 - dense_18_acc_9: 0.9119 - dense_18_acc_10: 0.8558 - dense_18_acc_11: 0.7632 - dense_18_acc_12: 0.6524 - dense_18_acc_13: 0.5566 - dense_18_acc_14: 0.4651 - dense_18_acc_15: 0.4808 - dense_18_acc_16: 0.5000 - dense_18_acc_17: 0.5650 - dense_18_acc_18: 0.7190\n",
      "Epoch 23/30\n",
      "10887/10887 [==============================] - 15s 1ms/step - loss: 11.4613 - dense_18_loss: 0.9248 - dense_18_acc: 0.9997 - dense_18_acc_1: 0.9996 - dense_18_acc_2: 0.9990 - dense_18_acc_3: 0.9984 - dense_18_acc_4: 0.9971 - dense_18_acc_5: 0.9930 - dense_18_acc_6: 0.9861 - dense_18_acc_7: 0.9713 - dense_18_acc_8: 0.9493 - dense_18_acc_9: 0.9127 - dense_18_acc_10: 0.8552 - dense_18_acc_11: 0.7649 - dense_18_acc_12: 0.6552 - dense_18_acc_13: 0.5596 - dense_18_acc_14: 0.4709 - dense_18_acc_15: 0.4846 - dense_18_acc_16: 0.5056 - dense_18_acc_17: 0.5692 - dense_18_acc_18: 0.7234\n",
      "Epoch 24/30\n",
      "10887/10887 [==============================] - 16s 1ms/step - loss: 11.3877 - dense_18_loss: 0.9133 - dense_18_acc: 0.9997 - dense_18_acc_1: 0.9996 - dense_18_acc_2: 0.9990 - dense_18_acc_3: 0.9984 - dense_18_acc_4: 0.9969 - dense_18_acc_5: 0.9928 - dense_18_acc_6: 0.9867 - dense_18_acc_7: 0.9717 - dense_18_acc_8: 0.9492 - dense_18_acc_9: 0.9124 - dense_18_acc_10: 0.8550 - dense_18_acc_11: 0.7675 - dense_18_acc_12: 0.6555 - dense_18_acc_13: 0.5594 - dense_18_acc_14: 0.4736 - dense_18_acc_15: 0.4875 - dense_18_acc_16: 0.5095 - dense_18_acc_17: 0.5732 - dense_18_acc_18: 0.7259\n",
      "Epoch 25/30\n",
      "10887/10887 [==============================] - 15s 1ms/step - loss: 11.2934 - dense_18_loss: 0.8972 - dense_18_acc: 0.9997 - dense_18_acc_1: 0.9996 - dense_18_acc_2: 0.9990 - dense_18_acc_3: 0.9984 - dense_18_acc_4: 0.9969 - dense_18_acc_5: 0.9932 - dense_18_acc_6: 0.9867 - dense_18_acc_7: 0.9724 - dense_18_acc_8: 0.9498 - dense_18_acc_9: 0.9141 - dense_18_acc_10: 0.8584 - dense_18_acc_11: 0.7688 - dense_18_acc_12: 0.6628 - dense_18_acc_13: 0.5633 - dense_18_acc_14: 0.4808 - dense_18_acc_15: 0.4932 - dense_18_acc_16: 0.5187 - dense_18_acc_17: 0.5787 - dense_18_acc_18: 0.7349\n",
      "Epoch 26/30\n",
      "10887/10887 [==============================] - 14s 1ms/step - loss: 11.2234 - dense_18_loss: 0.8882 - dense_18_acc: 0.9997 - dense_18_acc_1: 0.9996 - dense_18_acc_2: 0.9990 - dense_18_acc_3: 0.9984 - dense_18_acc_4: 0.9970 - dense_18_acc_5: 0.9929 - dense_18_acc_6: 0.9870 - dense_18_acc_7: 0.9729 - dense_18_acc_8: 0.9510 - dense_18_acc_9: 0.9145 - dense_18_acc_10: 0.8563 - dense_18_acc_11: 0.7684 - dense_18_acc_12: 0.6657 - dense_18_acc_13: 0.5648 - dense_18_acc_14: 0.4854 - dense_18_acc_15: 0.5009 - dense_18_acc_16: 0.5239 - dense_18_acc_17: 0.5863 - dense_18_acc_18: 0.7390\n",
      "Epoch 27/30\n"
     ]
    },
    {
     "name": "stdout",
     "output_type": "stream",
     "text": [
      "10887/10887 [==============================] - 14s 1ms/step - loss: 11.1718 - dense_18_loss: 0.8785 - dense_18_acc: 0.9997 - dense_18_acc_1: 0.9996 - dense_18_acc_2: 0.9990 - dense_18_acc_3: 0.9984 - dense_18_acc_4: 0.9970 - dense_18_acc_5: 0.9932 - dense_18_acc_6: 0.9869 - dense_18_acc_7: 0.9728 - dense_18_acc_8: 0.9504 - dense_18_acc_9: 0.9158 - dense_18_acc_10: 0.8575 - dense_18_acc_11: 0.7700 - dense_18_acc_12: 0.6624 - dense_18_acc_13: 0.5634 - dense_18_acc_14: 0.4863 - dense_18_acc_15: 0.5020 - dense_18_acc_16: 0.5274 - dense_18_acc_17: 0.5868 - dense_18_acc_18: 0.7417\n",
      "Epoch 28/30\n",
      "10887/10887 [==============================] - 14s 1ms/step - loss: 11.1017 - dense_18_loss: 0.8670 - dense_18_acc: 0.9997 - dense_18_acc_1: 0.9996 - dense_18_acc_2: 0.9990 - dense_18_acc_3: 0.9984 - dense_18_acc_4: 0.9969 - dense_18_acc_5: 0.9930 - dense_18_acc_6: 0.9868 - dense_18_acc_7: 0.9730 - dense_18_acc_8: 0.9501 - dense_18_acc_9: 0.9150 - dense_18_acc_10: 0.8585 - dense_18_acc_11: 0.7710 - dense_18_acc_12: 0.6649 - dense_18_acc_13: 0.5686 - dense_18_acc_14: 0.4883 - dense_18_acc_15: 0.5049 - dense_18_acc_16: 0.5311 - dense_18_acc_17: 0.5913 - dense_18_acc_18: 0.7496\n",
      "Epoch 29/30\n",
      "10887/10887 [==============================] - 14s 1ms/step - loss: 11.0315 - dense_18_loss: 0.8577 - dense_18_acc: 0.9997 - dense_18_acc_1: 0.9996 - dense_18_acc_2: 0.9990 - dense_18_acc_3: 0.9984 - dense_18_acc_4: 0.9970 - dense_18_acc_5: 0.9931 - dense_18_acc_6: 0.9870 - dense_18_acc_7: 0.9724 - dense_18_acc_8: 0.9499 - dense_18_acc_9: 0.9159 - dense_18_acc_10: 0.8594 - dense_18_acc_11: 0.7751 - dense_18_acc_12: 0.6680 - dense_18_acc_13: 0.5690 - dense_18_acc_14: 0.4950 - dense_18_acc_15: 0.5101 - dense_18_acc_16: 0.5349 - dense_18_acc_17: 0.5976 - dense_18_acc_18: 0.7576\n",
      "Epoch 30/30\n",
      "10887/10887 [==============================] - 15s 1ms/step - loss: 10.9701 - dense_18_loss: 0.8480 - dense_18_acc: 0.9997 - dense_18_acc_1: 0.9996 - dense_18_acc_2: 0.9990 - dense_18_acc_3: 0.9984 - dense_18_acc_4: 0.9971 - dense_18_acc_5: 0.9931 - dense_18_acc_6: 0.9871 - dense_18_acc_7: 0.9734 - dense_18_acc_8: 0.9504 - dense_18_acc_9: 0.9159 - dense_18_acc_10: 0.8598 - dense_18_acc_11: 0.7732 - dense_18_acc_12: 0.6702 - dense_18_acc_13: 0.5727 - dense_18_acc_14: 0.4972 - dense_18_acc_15: 0.5134 - dense_18_acc_16: 0.5374 - dense_18_acc_17: 0.5969 - dense_18_acc_18: 0.7589\n"
     ]
    },
    {
     "data": {
      "text/plain": [
       "<keras.callbacks.History at 0x7f89adb43f60>"
      ]
     },
     "execution_count": 129,
     "metadata": {},
     "output_type": "execute_result"
    }
   ],
   "source": [
    "model.fit([X, s0, c0], outputs, epochs=30, batch_size=120)"
   ]
  },
  {
   "cell_type": "code",
   "execution_count": 132,
   "metadata": {
    "scrolled": true
   },
   "outputs": [
    {
     "name": "stdout",
     "output_type": "stream",
     "text": [
      "Epoch 1/50\n",
      "10887/10887 [==============================] - 10s 882us/step - loss: 10.9033 - dense_18_loss: 0.8396 - dense_18_acc: 0.9997 - dense_18_acc_1: 0.9996 - dense_18_acc_2: 0.9990 - dense_18_acc_3: 0.9984 - dense_18_acc_4: 0.9968 - dense_18_acc_5: 0.9931 - dense_18_acc_6: 0.9870 - dense_18_acc_7: 0.9732 - dense_18_acc_8: 0.9502 - dense_18_acc_9: 0.9175 - dense_18_acc_10: 0.8596 - dense_18_acc_11: 0.7760 - dense_18_acc_12: 0.6738 - dense_18_acc_13: 0.5746 - dense_18_acc_14: 0.5003 - dense_18_acc_15: 0.5192 - dense_18_acc_16: 0.5424 - dense_18_acc_17: 0.6073 - dense_18_acc_18: 0.7624\n",
      "Epoch 2/50\n",
      "10887/10887 [==============================] - 13s 1ms/step - loss: 10.8399 - dense_18_loss: 0.8291 - dense_18_acc: 0.9997 - dense_18_acc_1: 0.9996 - dense_18_acc_2: 0.9990 - dense_18_acc_3: 0.9984 - dense_18_acc_4: 0.9969 - dense_18_acc_5: 0.9931 - dense_18_acc_6: 0.9871 - dense_18_acc_7: 0.9735 - dense_18_acc_8: 0.9511 - dense_18_acc_9: 0.9189 - dense_18_acc_10: 0.8613 - dense_18_acc_11: 0.7778 - dense_18_acc_12: 0.6752 - dense_18_acc_13: 0.5735 - dense_18_acc_14: 0.5014 - dense_18_acc_15: 0.5230 - dense_18_acc_16: 0.5474 - dense_18_acc_17: 0.6074 - dense_18_acc_18: 0.7696\n",
      "Epoch 3/50\n",
      "10887/10887 [==============================] - 14s 1ms/step - loss: 10.7783 - dense_18_loss: 0.8190 - dense_18_acc: 0.9997 - dense_18_acc_1: 0.9996 - dense_18_acc_2: 0.9990 - dense_18_acc_3: 0.9984 - dense_18_acc_4: 0.9971 - dense_18_acc_5: 0.9931 - dense_18_acc_6: 0.9870 - dense_18_acc_7: 0.9740 - dense_18_acc_8: 0.9513 - dense_18_acc_9: 0.9187 - dense_18_acc_10: 0.8601 - dense_18_acc_11: 0.7772 - dense_18_acc_12: 0.6770 - dense_18_acc_13: 0.5776 - dense_18_acc_14: 0.5081 - dense_18_acc_15: 0.5292 - dense_18_acc_16: 0.5505 - dense_18_acc_17: 0.6126 - dense_18_acc_18: 0.7709\n",
      "Epoch 4/50\n",
      "10887/10887 [==============================] - 14s 1ms/step - loss: 10.7291 - dense_18_loss: 0.8130 - dense_18_acc: 0.9997 - dense_18_acc_1: 0.9996 - dense_18_acc_2: 0.9990 - dense_18_acc_3: 0.9984 - dense_18_acc_4: 0.9971 - dense_18_acc_5: 0.9933 - dense_18_acc_6: 0.9870 - dense_18_acc_7: 0.9744 - dense_18_acc_8: 0.9511 - dense_18_acc_9: 0.9186 - dense_18_acc_10: 0.8613 - dense_18_acc_11: 0.7778 - dense_18_acc_12: 0.6763 - dense_18_acc_13: 0.5778 - dense_18_acc_14: 0.5126 - dense_18_acc_15: 0.5331 - dense_18_acc_16: 0.5545 - dense_18_acc_17: 0.6168 - dense_18_acc_18: 0.7721\n",
      "Epoch 5/50\n",
      "10887/10887 [==============================] - 14s 1ms/step - loss: 10.6902 - dense_18_loss: 0.8063 - dense_18_acc: 0.9997 - dense_18_acc_1: 0.9996 - dense_18_acc_2: 0.9990 - dense_18_acc_3: 0.9984 - dense_18_acc_4: 0.9970 - dense_18_acc_5: 0.9934 - dense_18_acc_6: 0.9874 - dense_18_acc_7: 0.9737 - dense_18_acc_8: 0.9519 - dense_18_acc_9: 0.9201 - dense_18_acc_10: 0.8630 - dense_18_acc_11: 0.7768 - dense_18_acc_12: 0.6766 - dense_18_acc_13: 0.5755 - dense_18_acc_14: 0.5136 - dense_18_acc_15: 0.5332 - dense_18_acc_16: 0.5535 - dense_18_acc_17: 0.6206 - dense_18_acc_18: 0.7716\n",
      "Epoch 6/50\n",
      "10887/10887 [==============================] - 14s 1ms/step - loss: 10.6138 - dense_18_loss: 0.7957 - dense_18_acc: 0.9997 - dense_18_acc_1: 0.9996 - dense_18_acc_2: 0.9990 - dense_18_acc_3: 0.9984 - dense_18_acc_4: 0.9971 - dense_18_acc_5: 0.9932 - dense_18_acc_6: 0.9875 - dense_18_acc_7: 0.9737 - dense_18_acc_8: 0.9521 - dense_18_acc_9: 0.9206 - dense_18_acc_10: 0.8626 - dense_18_acc_11: 0.7796 - dense_18_acc_12: 0.6790 - dense_18_acc_13: 0.5820 - dense_18_acc_14: 0.5183 - dense_18_acc_15: 0.5382 - dense_18_acc_16: 0.5565 - dense_18_acc_17: 0.6222 - dense_18_acc_18: 0.7805\n",
      "Epoch 7/50\n",
      "10887/10887 [==============================] - 14s 1ms/step - loss: 10.5877 - dense_18_loss: 0.7924 - dense_18_acc: 0.9997 - dense_18_acc_1: 0.9996 - dense_18_acc_2: 0.9990 - dense_18_acc_3: 0.9984 - dense_18_acc_4: 0.9970 - dense_18_acc_5: 0.9931 - dense_18_acc_6: 0.9877 - dense_18_acc_7: 0.9729 - dense_18_acc_8: 0.9517 - dense_18_acc_9: 0.9212 - dense_18_acc_10: 0.8620 - dense_18_acc_11: 0.7823 - dense_18_acc_12: 0.6785 - dense_18_acc_13: 0.5800 - dense_18_acc_14: 0.5179 - dense_18_acc_15: 0.5412 - dense_18_acc_16: 0.5579 - dense_18_acc_17: 0.6265 - dense_18_acc_18: 0.7772\n",
      "Epoch 8/50\n",
      "10887/10887 [==============================] - 15s 1ms/step - loss: 10.5058 - dense_18_loss: 0.7810 - dense_18_acc: 0.9997 - dense_18_acc_1: 0.9996 - dense_18_acc_2: 0.9990 - dense_18_acc_3: 0.9984 - dense_18_acc_4: 0.9971 - dense_18_acc_5: 0.9934 - dense_18_acc_6: 0.9879 - dense_18_acc_7: 0.9742 - dense_18_acc_8: 0.9519 - dense_18_acc_9: 0.9209 - dense_18_acc_10: 0.8634 - dense_18_acc_11: 0.7807 - dense_18_acc_12: 0.6820 - dense_18_acc_13: 0.5834 - dense_18_acc_14: 0.5281 - dense_18_acc_15: 0.5468 - dense_18_acc_16: 0.5622 - dense_18_acc_17: 0.6320 - dense_18_acc_18: 0.7848\n",
      "Epoch 9/50\n",
      "10887/10887 [==============================] - 14s 1ms/step - loss: 10.4529 - dense_18_loss: 0.7716 - dense_18_acc: 0.9997 - dense_18_acc_1: 0.9996 - dense_18_acc_2: 0.9990 - dense_18_acc_3: 0.9984 - dense_18_acc_4: 0.9971 - dense_18_acc_5: 0.9934 - dense_18_acc_6: 0.9875 - dense_18_acc_7: 0.9739 - dense_18_acc_8: 0.9522 - dense_18_acc_9: 0.9224 - dense_18_acc_10: 0.8641 - dense_18_acc_11: 0.7815 - dense_18_acc_12: 0.6833 - dense_18_acc_13: 0.5847 - dense_18_acc_14: 0.5282 - dense_18_acc_15: 0.5478 - dense_18_acc_16: 0.5698 - dense_18_acc_17: 0.6383 - dense_18_acc_18: 0.7862\n",
      "Epoch 10/50\n",
      "10887/10887 [==============================] - 14s 1ms/step - loss: 10.3996 - dense_18_loss: 0.7671 - dense_18_acc: 0.9997 - dense_18_acc_1: 0.9996 - dense_18_acc_2: 0.9990 - dense_18_acc_3: 0.9984 - dense_18_acc_4: 0.9971 - dense_18_acc_5: 0.9934 - dense_18_acc_6: 0.9872 - dense_18_acc_7: 0.9742 - dense_18_acc_8: 0.9526 - dense_18_acc_9: 0.9226 - dense_18_acc_10: 0.8640 - dense_18_acc_11: 0.7839 - dense_18_acc_12: 0.6851 - dense_18_acc_13: 0.5873 - dense_18_acc_14: 0.5317 - dense_18_acc_15: 0.5491 - dense_18_acc_16: 0.5681 - dense_18_acc_17: 0.6377 - dense_18_acc_18: 0.7861\n",
      "Epoch 11/50\n",
      "10887/10887 [==============================] - 14s 1ms/step - loss: 10.3448 - dense_18_loss: 0.7592 - dense_18_acc: 0.9997 - dense_18_acc_1: 0.9996 - dense_18_acc_2: 0.9990 - dense_18_acc_3: 0.9984 - dense_18_acc_4: 0.9970 - dense_18_acc_5: 0.9932 - dense_18_acc_6: 0.9879 - dense_18_acc_7: 0.9740 - dense_18_acc_8: 0.9533 - dense_18_acc_9: 0.9230 - dense_18_acc_10: 0.8641 - dense_18_acc_11: 0.7829 - dense_18_acc_12: 0.6871 - dense_18_acc_13: 0.5880 - dense_18_acc_14: 0.5359 - dense_18_acc_15: 0.5550 - dense_18_acc_16: 0.5720 - dense_18_acc_17: 0.6447 - dense_18_acc_18: 0.7913\n",
      "Epoch 12/50\n",
      "10887/10887 [==============================] - 14s 1ms/step - loss: 10.2961 - dense_18_loss: 0.7510 - dense_18_acc: 0.9997 - dense_18_acc_1: 0.9996 - dense_18_acc_2: 0.9990 - dense_18_acc_3: 0.9984 - dense_18_acc_4: 0.9970 - dense_18_acc_5: 0.9930 - dense_18_acc_6: 0.9878 - dense_18_acc_7: 0.9741 - dense_18_acc_8: 0.9541 - dense_18_acc_9: 0.9219 - dense_18_acc_10: 0.8653 - dense_18_acc_11: 0.7858 - dense_18_acc_12: 0.6885 - dense_18_acc_13: 0.5882 - dense_18_acc_14: 0.5389 - dense_18_acc_15: 0.5574 - dense_18_acc_16: 0.5786 - dense_18_acc_17: 0.6468 - dense_18_acc_18: 0.7954\n",
      "Epoch 13/50\n",
      "10887/10887 [==============================] - 14s 1ms/step - loss: 10.2608 - dense_18_loss: 0.7459 - dense_18_acc: 0.9997 - dense_18_acc_1: 0.9996 - dense_18_acc_2: 0.9990 - dense_18_acc_3: 0.9984 - dense_18_acc_4: 0.9971 - dense_18_acc_5: 0.9933 - dense_18_acc_6: 0.9873 - dense_18_acc_7: 0.9742 - dense_18_acc_8: 0.9530 - dense_18_acc_9: 0.9219 - dense_18_acc_10: 0.8653 - dense_18_acc_11: 0.7850 - dense_18_acc_12: 0.6870 - dense_18_acc_13: 0.5936 - dense_18_acc_14: 0.5397 - dense_18_acc_15: 0.5555 - dense_18_acc_16: 0.5777 - dense_18_acc_17: 0.6490 - dense_18_acc_18: 0.7945\n",
      "Epoch 14/50\n"
     ]
    },
    {
     "name": "stdout",
     "output_type": "stream",
     "text": [
      "10887/10887 [==============================] - 15s 1ms/step - loss: 10.1958 - dense_18_loss: 0.7359 - dense_18_acc: 0.9997 - dense_18_acc_1: 0.9996 - dense_18_acc_2: 0.9990 - dense_18_acc_3: 0.9984 - dense_18_acc_4: 0.9971 - dense_18_acc_5: 0.9934 - dense_18_acc_6: 0.9879 - dense_18_acc_7: 0.9733 - dense_18_acc_8: 0.9542 - dense_18_acc_9: 0.9228 - dense_18_acc_10: 0.8653 - dense_18_acc_11: 0.7876 - dense_18_acc_12: 0.6904 - dense_18_acc_13: 0.5922 - dense_18_acc_14: 0.5457 - dense_18_acc_15: 0.5597 - dense_18_acc_16: 0.5843 - dense_18_acc_17: 0.6540 - dense_18_acc_18: 0.8008\n",
      "Epoch 15/50\n",
      "10887/10887 [==============================] - 14s 1ms/step - loss: 10.1679 - dense_18_loss: 0.7351 - dense_18_acc: 0.9997 - dense_18_acc_1: 0.9996 - dense_18_acc_2: 0.9990 - dense_18_acc_3: 0.9984 - dense_18_acc_4: 0.9970 - dense_18_acc_5: 0.9933 - dense_18_acc_6: 0.9878 - dense_18_acc_7: 0.9744 - dense_18_acc_8: 0.9540 - dense_18_acc_9: 0.9230 - dense_18_acc_10: 0.8653 - dense_18_acc_11: 0.7873 - dense_18_acc_12: 0.6922 - dense_18_acc_13: 0.5958 - dense_18_acc_14: 0.5483 - dense_18_acc_15: 0.5641 - dense_18_acc_16: 0.5840 - dense_18_acc_17: 0.6575 - dense_18_acc_18: 0.7974\n",
      "Epoch 16/50\n",
      "10887/10887 [==============================] - 14s 1ms/step - loss: 10.1337 - dense_18_loss: 0.7304 - dense_18_acc: 0.9997 - dense_18_acc_1: 0.9996 - dense_18_acc_2: 0.9990 - dense_18_acc_3: 0.9984 - dense_18_acc_4: 0.9970 - dense_18_acc_5: 0.9935 - dense_18_acc_6: 0.9882 - dense_18_acc_7: 0.9748 - dense_18_acc_8: 0.9541 - dense_18_acc_9: 0.9222 - dense_18_acc_10: 0.8664 - dense_18_acc_11: 0.7878 - dense_18_acc_12: 0.6921 - dense_18_acc_13: 0.5970 - dense_18_acc_14: 0.5483 - dense_18_acc_15: 0.5659 - dense_18_acc_16: 0.5830 - dense_18_acc_17: 0.6569 - dense_18_acc_18: 0.8011\n",
      "Epoch 17/50\n",
      "10887/10887 [==============================] - 14s 1ms/step - loss: 10.0632 - dense_18_loss: 0.7207 - dense_18_acc: 0.9997 - dense_18_acc_1: 0.9996 - dense_18_acc_2: 0.9990 - dense_18_acc_3: 0.9984 - dense_18_acc_4: 0.9971 - dense_18_acc_5: 0.9934 - dense_18_acc_6: 0.9879 - dense_18_acc_7: 0.9743 - dense_18_acc_8: 0.9542 - dense_18_acc_9: 0.9230 - dense_18_acc_10: 0.8654 - dense_18_acc_11: 0.7902 - dense_18_acc_12: 0.6950 - dense_18_acc_13: 0.5970 - dense_18_acc_14: 0.5530 - dense_18_acc_15: 0.5699 - dense_18_acc_16: 0.5900 - dense_18_acc_17: 0.6665 - dense_18_acc_18: 0.8067\n",
      "Epoch 18/50\n",
      "10887/10887 [==============================] - 15s 1ms/step - loss: 10.0268 - dense_18_loss: 0.7157 - dense_18_acc: 0.9997 - dense_18_acc_1: 0.9996 - dense_18_acc_2: 0.9990 - dense_18_acc_3: 0.9983 - dense_18_acc_4: 0.9971 - dense_18_acc_5: 0.9934 - dense_18_acc_6: 0.9877 - dense_18_acc_7: 0.9749 - dense_18_acc_8: 0.9548 - dense_18_acc_9: 0.9233 - dense_18_acc_10: 0.8666 - dense_18_acc_11: 0.7886 - dense_18_acc_12: 0.6932 - dense_18_acc_13: 0.5998 - dense_18_acc_14: 0.5573 - dense_18_acc_15: 0.5726 - dense_18_acc_16: 0.5921 - dense_18_acc_17: 0.6674 - dense_18_acc_18: 0.8046\n",
      "Epoch 19/50\n",
      "10887/10887 [==============================] - 14s 1ms/step - loss: 9.9889 - dense_18_loss: 0.7089 - dense_18_acc: 0.9997 - dense_18_acc_1: 0.9996 - dense_18_acc_2: 0.9990 - dense_18_acc_3: 0.9983 - dense_18_acc_4: 0.9970 - dense_18_acc_5: 0.9935 - dense_18_acc_6: 0.9881 - dense_18_acc_7: 0.9748 - dense_18_acc_8: 0.9542 - dense_18_acc_9: 0.9245 - dense_18_acc_10: 0.8661 - dense_18_acc_11: 0.7917 - dense_18_acc_12: 0.6960 - dense_18_acc_13: 0.5998 - dense_18_acc_14: 0.5596 - dense_18_acc_15: 0.5734 - dense_18_acc_16: 0.5933 - dense_18_acc_17: 0.6703 - dense_18_acc_18: 0.8052\n",
      "Epoch 20/50\n",
      "10887/10887 [==============================] - 14s 1ms/step - loss: 9.9389 - dense_18_loss: 0.7046 - dense_18_acc: 0.9997 - dense_18_acc_1: 0.9996 - dense_18_acc_2: 0.9990 - dense_18_acc_3: 0.9984 - dense_18_acc_4: 0.9972 - dense_18_acc_5: 0.9934 - dense_18_acc_6: 0.9880 - dense_18_acc_7: 0.9748 - dense_18_acc_8: 0.9552 - dense_18_acc_9: 0.9223 - dense_18_acc_10: 0.8670 - dense_18_acc_11: 0.7908 - dense_18_acc_12: 0.6980 - dense_18_acc_13: 0.6037 - dense_18_acc_14: 0.5602 - dense_18_acc_15: 0.5766 - dense_18_acc_16: 0.5998 - dense_18_acc_17: 0.6719 - dense_18_acc_18: 0.8067\n",
      "Epoch 21/50\n",
      "10887/10887 [==============================] - 16s 1ms/step - loss: 9.8951 - dense_18_loss: 0.6970 - dense_18_acc: 0.9997 - dense_18_acc_1: 0.9996 - dense_18_acc_2: 0.9990 - dense_18_acc_3: 0.9984 - dense_18_acc_4: 0.9970 - dense_18_acc_5: 0.9936 - dense_18_acc_6: 0.9878 - dense_18_acc_7: 0.9755 - dense_18_acc_8: 0.9553 - dense_18_acc_9: 0.9237 - dense_18_acc_10: 0.8664 - dense_18_acc_11: 0.7908 - dense_18_acc_12: 0.6962 - dense_18_acc_13: 0.6030 - dense_18_acc_14: 0.5629 - dense_18_acc_15: 0.5763 - dense_18_acc_16: 0.5998 - dense_18_acc_17: 0.6786 - dense_18_acc_18: 0.8094\n",
      "Epoch 22/50\n",
      "10887/10887 [==============================] - 17s 2ms/step - loss: 9.8381 - dense_18_loss: 0.6916 - dense_18_acc: 0.9997 - dense_18_acc_1: 0.9996 - dense_18_acc_2: 0.9990 - dense_18_acc_3: 0.9983 - dense_18_acc_4: 0.9971 - dense_18_acc_5: 0.9936 - dense_18_acc_6: 0.9882 - dense_18_acc_7: 0.9758 - dense_18_acc_8: 0.9550 - dense_18_acc_9: 0.9246 - dense_18_acc_10: 0.8690 - dense_18_acc_11: 0.7932 - dense_18_acc_12: 0.7013 - dense_18_acc_13: 0.6071 - dense_18_acc_14: 0.5675 - dense_18_acc_15: 0.5801 - dense_18_acc_16: 0.6023 - dense_18_acc_17: 0.6809 - dense_18_acc_18: 0.8139\n",
      "Epoch 23/50\n",
      "10887/10887 [==============================] - 16s 1ms/step - loss: 9.8197 - dense_18_loss: 0.6874 - dense_18_acc: 0.9997 - dense_18_acc_1: 0.9996 - dense_18_acc_2: 0.9990 - dense_18_acc_3: 0.9984 - dense_18_acc_4: 0.9971 - dense_18_acc_5: 0.9936 - dense_18_acc_6: 0.9880 - dense_18_acc_7: 0.9757 - dense_18_acc_8: 0.9566 - dense_18_acc_9: 0.9255 - dense_18_acc_10: 0.8673 - dense_18_acc_11: 0.7934 - dense_18_acc_12: 0.6989 - dense_18_acc_13: 0.6046 - dense_18_acc_14: 0.5648 - dense_18_acc_15: 0.5818 - dense_18_acc_16: 0.6066 - dense_18_acc_17: 0.6841 - dense_18_acc_18: 0.8125\n",
      "Epoch 24/50\n",
      "10887/10887 [==============================] - 17s 2ms/step - loss: 9.7712 - dense_18_loss: 0.6813 - dense_18_acc: 0.9997 - dense_18_acc_1: 0.9996 - dense_18_acc_2: 0.9990 - dense_18_acc_3: 0.9984 - dense_18_acc_4: 0.9970 - dense_18_acc_5: 0.9937 - dense_18_acc_6: 0.9882 - dense_18_acc_7: 0.9753 - dense_18_acc_8: 0.9563 - dense_18_acc_9: 0.9254 - dense_18_acc_10: 0.8687 - dense_18_acc_11: 0.7964 - dense_18_acc_12: 0.7029 - dense_18_acc_13: 0.6093 - dense_18_acc_14: 0.5703 - dense_18_acc_15: 0.5838 - dense_18_acc_16: 0.6090 - dense_18_acc_17: 0.6860 - dense_18_acc_18: 0.8173\n",
      "Epoch 25/50\n",
      "10887/10887 [==============================] - 17s 2ms/step - loss: 9.7183 - dense_18_loss: 0.6759 - dense_18_acc: 0.9997 - dense_18_acc_1: 0.9996 - dense_18_acc_2: 0.9990 - dense_18_acc_3: 0.9984 - dense_18_acc_4: 0.9969 - dense_18_acc_5: 0.9935 - dense_18_acc_6: 0.9885 - dense_18_acc_7: 0.9755 - dense_18_acc_8: 0.9567 - dense_18_acc_9: 0.9256 - dense_18_acc_10: 0.8688 - dense_18_acc_11: 0.7975 - dense_18_acc_12: 0.7034 - dense_18_acc_13: 0.6096 - dense_18_acc_14: 0.5699 - dense_18_acc_15: 0.5846 - dense_18_acc_16: 0.6117 - dense_18_acc_17: 0.6918 - dense_18_acc_18: 0.8174\n",
      "Epoch 26/50\n",
      "10887/10887 [==============================] - 17s 2ms/step - loss: 9.6896 - dense_18_loss: 0.6702 - dense_18_acc: 0.9997 - dense_18_acc_1: 0.9996 - dense_18_acc_2: 0.9990 - dense_18_acc_3: 0.9983 - dense_18_acc_4: 0.9971 - dense_18_acc_5: 0.9934 - dense_18_acc_6: 0.9882 - dense_18_acc_7: 0.9758 - dense_18_acc_8: 0.9568 - dense_18_acc_9: 0.9246 - dense_18_acc_10: 0.8702 - dense_18_acc_11: 0.7943 - dense_18_acc_12: 0.7018 - dense_18_acc_13: 0.6109 - dense_18_acc_14: 0.5730 - dense_18_acc_15: 0.5863 - dense_18_acc_16: 0.6138 - dense_18_acc_17: 0.6947 - dense_18_acc_18: 0.8167\n",
      "Epoch 27/50\n"
     ]
    },
    {
     "name": "stdout",
     "output_type": "stream",
     "text": [
      "10887/10887 [==============================] - 17s 2ms/step - loss: 9.6486 - dense_18_loss: 0.6654 - dense_18_acc: 0.9997 - dense_18_acc_1: 0.9996 - dense_18_acc_2: 0.9991 - dense_18_acc_3: 0.9984 - dense_18_acc_4: 0.9970 - dense_18_acc_5: 0.9936 - dense_18_acc_6: 0.9881 - dense_18_acc_7: 0.9755 - dense_18_acc_8: 0.9563 - dense_18_acc_9: 0.9263 - dense_18_acc_10: 0.8696 - dense_18_acc_11: 0.7971 - dense_18_acc_12: 0.7052 - dense_18_acc_13: 0.6135 - dense_18_acc_14: 0.5748 - dense_18_acc_15: 0.5897 - dense_18_acc_16: 0.6179 - dense_18_acc_17: 0.6978 - dense_18_acc_18: 0.8185\n",
      "Epoch 28/50\n",
      "10887/10887 [==============================] - 14s 1ms/step - loss: 9.6195 - dense_18_loss: 0.6618 - dense_18_acc: 0.9997 - dense_18_acc_1: 0.9996 - dense_18_acc_2: 0.9991 - dense_18_acc_3: 0.9984 - dense_18_acc_4: 0.9972 - dense_18_acc_5: 0.9934 - dense_18_acc_6: 0.9882 - dense_18_acc_7: 0.9754 - dense_18_acc_8: 0.9561 - dense_18_acc_9: 0.9261 - dense_18_acc_10: 0.8691 - dense_18_acc_11: 0.7989 - dense_18_acc_12: 0.7052 - dense_18_acc_13: 0.6137 - dense_18_acc_14: 0.5710 - dense_18_acc_15: 0.5914 - dense_18_acc_16: 0.6204 - dense_18_acc_17: 0.6975 - dense_18_acc_18: 0.8200\n",
      "Epoch 29/50\n",
      "10887/10887 [==============================] - 16s 1ms/step - loss: 9.5718 - dense_18_loss: 0.6559 - dense_18_acc: 0.9997 - dense_18_acc_1: 0.9996 - dense_18_acc_2: 0.9990 - dense_18_acc_3: 0.9984 - dense_18_acc_4: 0.9972 - dense_18_acc_5: 0.9936 - dense_18_acc_6: 0.9889 - dense_18_acc_7: 0.9764 - dense_18_acc_8: 0.9558 - dense_18_acc_9: 0.9261 - dense_18_acc_10: 0.8709 - dense_18_acc_11: 0.8015 - dense_18_acc_12: 0.7084 - dense_18_acc_13: 0.6158 - dense_18_acc_14: 0.5772 - dense_18_acc_15: 0.5906 - dense_18_acc_16: 0.6194 - dense_18_acc_17: 0.7068 - dense_18_acc_18: 0.8202\n",
      "Epoch 30/50\n",
      "10887/10887 [==============================] - 15s 1ms/step - loss: 9.5339 - dense_18_loss: 0.6520 - dense_18_acc: 0.9997 - dense_18_acc_1: 0.9996 - dense_18_acc_2: 0.9991 - dense_18_acc_3: 0.9983 - dense_18_acc_4: 0.9969 - dense_18_acc_5: 0.9934 - dense_18_acc_6: 0.9884 - dense_18_acc_7: 0.9758 - dense_18_acc_8: 0.9573 - dense_18_acc_9: 0.9264 - dense_18_acc_10: 0.8701 - dense_18_acc_11: 0.8015 - dense_18_acc_12: 0.7081 - dense_18_acc_13: 0.6192 - dense_18_acc_14: 0.5791 - dense_18_acc_15: 0.5955 - dense_18_acc_16: 0.6238 - dense_18_acc_17: 0.7059 - dense_18_acc_18: 0.8230\n",
      "Epoch 31/50\n",
      "10887/10887 [==============================] - 17s 2ms/step - loss: 9.5042 - dense_18_loss: 0.6491 - dense_18_acc: 0.9997 - dense_18_acc_1: 0.9996 - dense_18_acc_2: 0.9990 - dense_18_acc_3: 0.9984 - dense_18_acc_4: 0.9971 - dense_18_acc_5: 0.9936 - dense_18_acc_6: 0.9886 - dense_18_acc_7: 0.9760 - dense_18_acc_8: 0.9569 - dense_18_acc_9: 0.9270 - dense_18_acc_10: 0.8694 - dense_18_acc_11: 0.8027 - dense_18_acc_12: 0.7112 - dense_18_acc_13: 0.6177 - dense_18_acc_14: 0.5794 - dense_18_acc_15: 0.5919 - dense_18_acc_16: 0.6271 - dense_18_acc_17: 0.7079 - dense_18_acc_18: 0.8241\n",
      "Epoch 32/50\n",
      "10887/10887 [==============================] - 17s 2ms/step - loss: 9.4608 - dense_18_loss: 0.6429 - dense_18_acc: 0.9997 - dense_18_acc_1: 0.9996 - dense_18_acc_2: 0.9991 - dense_18_acc_3: 0.9984 - dense_18_acc_4: 0.9971 - dense_18_acc_5: 0.9936 - dense_18_acc_6: 0.9887 - dense_18_acc_7: 0.9766 - dense_18_acc_8: 0.9574 - dense_18_acc_9: 0.9271 - dense_18_acc_10: 0.8709 - dense_18_acc_11: 0.8048 - dense_18_acc_12: 0.7112 - dense_18_acc_13: 0.6174 - dense_18_acc_14: 0.5825 - dense_18_acc_15: 0.5971 - dense_18_acc_16: 0.6277 - dense_18_acc_17: 0.7136 - dense_18_acc_18: 0.8250\n",
      "Epoch 33/50\n",
      "10887/10887 [==============================] - 16s 1ms/step - loss: 9.4315 - dense_18_loss: 0.6396 - dense_18_acc: 0.9997 - dense_18_acc_1: 0.9996 - dense_18_acc_2: 0.9991 - dense_18_acc_3: 0.9984 - dense_18_acc_4: 0.9970 - dense_18_acc_5: 0.9928 - dense_18_acc_6: 0.9882 - dense_18_acc_7: 0.9769 - dense_18_acc_8: 0.9578 - dense_18_acc_9: 0.9266 - dense_18_acc_10: 0.8716 - dense_18_acc_11: 0.8029 - dense_18_acc_12: 0.7122 - dense_18_acc_13: 0.6202 - dense_18_acc_14: 0.5828 - dense_18_acc_15: 0.5994 - dense_18_acc_16: 0.6294 - dense_18_acc_17: 0.7163 - dense_18_acc_18: 0.8256\n",
      "Epoch 34/50\n",
      "10887/10887 [==============================] - 16s 1ms/step - loss: 9.4065 - dense_18_loss: 0.6363 - dense_18_acc: 0.9997 - dense_18_acc_1: 0.9996 - dense_18_acc_2: 0.9991 - dense_18_acc_3: 0.9983 - dense_18_acc_4: 0.9970 - dense_18_acc_5: 0.9932 - dense_18_acc_6: 0.9885 - dense_18_acc_7: 0.9757 - dense_18_acc_8: 0.9571 - dense_18_acc_9: 0.9269 - dense_18_acc_10: 0.8716 - dense_18_acc_11: 0.8028 - dense_18_acc_12: 0.7112 - dense_18_acc_13: 0.6178 - dense_18_acc_14: 0.5833 - dense_18_acc_15: 0.6003 - dense_18_acc_16: 0.6292 - dense_18_acc_17: 0.7178 - dense_18_acc_18: 0.8241\n",
      "Epoch 35/50\n",
      "10887/10887 [==============================] - 14s 1ms/step - loss: 9.3601 - dense_18_loss: 0.6315 - dense_18_acc: 0.9997 - dense_18_acc_1: 0.9996 - dense_18_acc_2: 0.9991 - dense_18_acc_3: 0.9983 - dense_18_acc_4: 0.9970 - dense_18_acc_5: 0.9933 - dense_18_acc_6: 0.9884 - dense_18_acc_7: 0.9758 - dense_18_acc_8: 0.9587 - dense_18_acc_9: 0.9271 - dense_18_acc_10: 0.8716 - dense_18_acc_11: 0.8040 - dense_18_acc_12: 0.7129 - dense_18_acc_13: 0.6216 - dense_18_acc_14: 0.5845 - dense_18_acc_15: 0.6044 - dense_18_acc_16: 0.6350 - dense_18_acc_17: 0.7207 - dense_18_acc_18: 0.8271\n",
      "Epoch 36/50\n",
      "10887/10887 [==============================] - 14s 1ms/step - loss: 9.3315 - dense_18_loss: 0.6270 - dense_18_acc: 0.9997 - dense_18_acc_1: 0.9996 - dense_18_acc_2: 0.9991 - dense_18_acc_3: 0.9984 - dense_18_acc_4: 0.9972 - dense_18_acc_5: 0.9936 - dense_18_acc_6: 0.9884 - dense_18_acc_7: 0.9759 - dense_18_acc_8: 0.9577 - dense_18_acc_9: 0.9282 - dense_18_acc_10: 0.8718 - dense_18_acc_11: 0.8045 - dense_18_acc_12: 0.7143 - dense_18_acc_13: 0.6250 - dense_18_acc_14: 0.5858 - dense_18_acc_15: 0.6026 - dense_18_acc_16: 0.6338 - dense_18_acc_17: 0.7232 - dense_18_acc_18: 0.8292\n",
      "Epoch 37/50\n",
      "10887/10887 [==============================] - 15s 1ms/step - loss: 9.3022 - dense_18_loss: 0.6246 - dense_18_acc: 0.9997 - dense_18_acc_1: 0.9996 - dense_18_acc_2: 0.9990 - dense_18_acc_3: 0.9983 - dense_18_acc_4: 0.9972 - dense_18_acc_5: 0.9934 - dense_18_acc_6: 0.9887 - dense_18_acc_7: 0.9761 - dense_18_acc_8: 0.9577 - dense_18_acc_9: 0.9269 - dense_18_acc_10: 0.8738 - dense_18_acc_11: 0.8033 - dense_18_acc_12: 0.7146 - dense_18_acc_13: 0.6231 - dense_18_acc_14: 0.5895 - dense_18_acc_15: 0.6071 - dense_18_acc_16: 0.6344 - dense_18_acc_17: 0.7274 - dense_18_acc_18: 0.8291\n",
      "Epoch 38/50\n",
      "10887/10887 [==============================] - 17s 2ms/step - loss: 9.2579 - dense_18_loss: 0.6195 - dense_18_acc: 0.9997 - dense_18_acc_1: 0.9996 - dense_18_acc_2: 0.9991 - dense_18_acc_3: 0.9983 - dense_18_acc_4: 0.9970 - dense_18_acc_5: 0.9934 - dense_18_acc_6: 0.9885 - dense_18_acc_7: 0.9763 - dense_18_acc_8: 0.9580 - dense_18_acc_9: 0.9281 - dense_18_acc_10: 0.8733 - dense_18_acc_11: 0.8053 - dense_18_acc_12: 0.7167 - dense_18_acc_13: 0.6279 - dense_18_acc_14: 0.5905 - dense_18_acc_15: 0.6085 - dense_18_acc_16: 0.6393 - dense_18_acc_17: 0.7290 - dense_18_acc_18: 0.8320\n",
      "Epoch 39/50\n",
      "10887/10887 [==============================] - 15s 1ms/step - loss: 9.2262 - dense_18_loss: 0.6172 - dense_18_acc: 0.9997 - dense_18_acc_1: 0.9996 - dense_18_acc_2: 0.9991 - dense_18_acc_3: 0.9984 - dense_18_acc_4: 0.9969 - dense_18_acc_5: 0.9933 - dense_18_acc_6: 0.9885 - dense_18_acc_7: 0.9760 - dense_18_acc_8: 0.9582 - dense_18_acc_9: 0.9289 - dense_18_acc_10: 0.8751 - dense_18_acc_11: 0.8083 - dense_18_acc_12: 0.7166 - dense_18_acc_13: 0.6247 - dense_18_acc_14: 0.5913 - dense_18_acc_15: 0.6105 - dense_18_acc_16: 0.6397 - dense_18_acc_17: 0.7317 - dense_18_acc_18: 0.8309\n",
      "Epoch 40/50\n"
     ]
    },
    {
     "name": "stdout",
     "output_type": "stream",
     "text": [
      "10887/10887 [==============================] - 14s 1ms/step - loss: 9.2003 - dense_18_loss: 0.6125 - dense_18_acc: 0.9997 - dense_18_acc_1: 0.9996 - dense_18_acc_2: 0.9991 - dense_18_acc_3: 0.9983 - dense_18_acc_4: 0.9971 - dense_18_acc_5: 0.9932 - dense_18_acc_6: 0.9882 - dense_18_acc_7: 0.9763 - dense_18_acc_8: 0.9582 - dense_18_acc_9: 0.9280 - dense_18_acc_10: 0.8732 - dense_18_acc_11: 0.8076 - dense_18_acc_12: 0.7166 - dense_18_acc_13: 0.6274 - dense_18_acc_14: 0.5913 - dense_18_acc_15: 0.6127 - dense_18_acc_16: 0.6398 - dense_18_acc_17: 0.7318 - dense_18_acc_18: 0.8339\n",
      "Epoch 41/50\n",
      "10887/10887 [==============================] - 14s 1ms/step - loss: 9.1713 - dense_18_loss: 0.6088 - dense_18_acc: 0.9997 - dense_18_acc_1: 0.9996 - dense_18_acc_2: 0.9991 - dense_18_acc_3: 0.9983 - dense_18_acc_4: 0.9969 - dense_18_acc_5: 0.9932 - dense_18_acc_6: 0.9884 - dense_18_acc_7: 0.9766 - dense_18_acc_8: 0.9587 - dense_18_acc_9: 0.9287 - dense_18_acc_10: 0.8732 - dense_18_acc_11: 0.8090 - dense_18_acc_12: 0.7186 - dense_18_acc_13: 0.6264 - dense_18_acc_14: 0.5931 - dense_18_acc_15: 0.6123 - dense_18_acc_16: 0.6432 - dense_18_acc_17: 0.7345 - dense_18_acc_18: 0.8351\n",
      "Epoch 42/50\n",
      "10887/10887 [==============================] - 14s 1ms/step - loss: 9.1379 - dense_18_loss: 0.6028 - dense_18_acc: 0.9997 - dense_18_acc_1: 0.9996 - dense_18_acc_2: 0.9991 - dense_18_acc_3: 0.9984 - dense_18_acc_4: 0.9969 - dense_18_acc_5: 0.9935 - dense_18_acc_6: 0.9887 - dense_18_acc_7: 0.9766 - dense_18_acc_8: 0.9582 - dense_18_acc_9: 0.9286 - dense_18_acc_10: 0.8743 - dense_18_acc_11: 0.8071 - dense_18_acc_12: 0.7198 - dense_18_acc_13: 0.6291 - dense_18_acc_14: 0.5938 - dense_18_acc_15: 0.6132 - dense_18_acc_16: 0.6436 - dense_18_acc_17: 0.7367 - dense_18_acc_18: 0.8365\n",
      "Epoch 43/50\n",
      "10887/10887 [==============================] - 14s 1ms/step - loss: 9.1023 - dense_18_loss: 0.6024 - dense_18_acc: 0.9997 - dense_18_acc_1: 0.9996 - dense_18_acc_2: 0.9991 - dense_18_acc_3: 0.9983 - dense_18_acc_4: 0.9970 - dense_18_acc_5: 0.9935 - dense_18_acc_6: 0.9890 - dense_18_acc_7: 0.9765 - dense_18_acc_8: 0.9580 - dense_18_acc_9: 0.9290 - dense_18_acc_10: 0.8736 - dense_18_acc_11: 0.8085 - dense_18_acc_12: 0.7189 - dense_18_acc_13: 0.6291 - dense_18_acc_14: 0.5972 - dense_18_acc_15: 0.6181 - dense_18_acc_16: 0.6476 - dense_18_acc_17: 0.7391 - dense_18_acc_18: 0.8347\n",
      "Epoch 44/50\n",
      "10887/10887 [==============================] - 14s 1ms/step - loss: 9.0792 - dense_18_loss: 0.5987 - dense_18_acc: 0.9997 - dense_18_acc_1: 0.9996 - dense_18_acc_2: 0.9991 - dense_18_acc_3: 0.9983 - dense_18_acc_4: 0.9969 - dense_18_acc_5: 0.9936 - dense_18_acc_6: 0.9889 - dense_18_acc_7: 0.9760 - dense_18_acc_8: 0.9589 - dense_18_acc_9: 0.9314 - dense_18_acc_10: 0.8751 - dense_18_acc_11: 0.8104 - dense_18_acc_12: 0.7220 - dense_18_acc_13: 0.6311 - dense_18_acc_14: 0.5940 - dense_18_acc_15: 0.6172 - dense_18_acc_16: 0.6463 - dense_18_acc_17: 0.7413 - dense_18_acc_18: 0.8379\n",
      "Epoch 45/50\n",
      "10887/10887 [==============================] - 14s 1ms/step - loss: 9.0542 - dense_18_loss: 0.5966 - dense_18_acc: 0.9997 - dense_18_acc_1: 0.9996 - dense_18_acc_2: 0.9991 - dense_18_acc_3: 0.9982 - dense_18_acc_4: 0.9971 - dense_18_acc_5: 0.9932 - dense_18_acc_6: 0.9890 - dense_18_acc_7: 0.9768 - dense_18_acc_8: 0.9579 - dense_18_acc_9: 0.9298 - dense_18_acc_10: 0.8738 - dense_18_acc_11: 0.8099 - dense_18_acc_12: 0.7209 - dense_18_acc_13: 0.6316 - dense_18_acc_14: 0.5989 - dense_18_acc_15: 0.6181 - dense_18_acc_16: 0.6501 - dense_18_acc_17: 0.7399 - dense_18_acc_18: 0.8405\n",
      "Epoch 46/50\n",
      "10887/10887 [==============================] - 14s 1ms/step - loss: 9.0155 - dense_18_loss: 0.5897 - dense_18_acc: 0.9997 - dense_18_acc_1: 0.9996 - dense_18_acc_2: 0.9991 - dense_18_acc_3: 0.9983 - dense_18_acc_4: 0.9971 - dense_18_acc_5: 0.9936 - dense_18_acc_6: 0.9888 - dense_18_acc_7: 0.9765 - dense_18_acc_8: 0.9591 - dense_18_acc_9: 0.9306 - dense_18_acc_10: 0.8745 - dense_18_acc_11: 0.8101 - dense_18_acc_12: 0.7226 - dense_18_acc_13: 0.6324 - dense_18_acc_14: 0.5980 - dense_18_acc_15: 0.6235 - dense_18_acc_16: 0.6521 - dense_18_acc_17: 0.7444 - dense_18_acc_18: 0.8409\n",
      "Epoch 47/50\n",
      "10887/10887 [==============================] - 14s 1ms/step - loss: 9.0070 - dense_18_loss: 0.5914 - dense_18_acc: 0.9997 - dense_18_acc_1: 0.9996 - dense_18_acc_2: 0.9991 - dense_18_acc_3: 0.9983 - dense_18_acc_4: 0.9971 - dense_18_acc_5: 0.9936 - dense_18_acc_6: 0.9883 - dense_18_acc_7: 0.9763 - dense_18_acc_8: 0.9597 - dense_18_acc_9: 0.9294 - dense_18_acc_10: 0.8738 - dense_18_acc_11: 0.8094 - dense_18_acc_12: 0.7200 - dense_18_acc_13: 0.6327 - dense_18_acc_14: 0.5984 - dense_18_acc_15: 0.6242 - dense_18_acc_16: 0.6535 - dense_18_acc_17: 0.7475 - dense_18_acc_18: 0.8398\n",
      "Epoch 48/50\n",
      "10887/10887 [==============================] - 14s 1ms/step - loss: 8.9729 - dense_18_loss: 0.5850 - dense_18_acc: 0.9997 - dense_18_acc_1: 0.9996 - dense_18_acc_2: 0.9991 - dense_18_acc_3: 0.9983 - dense_18_acc_4: 0.9969 - dense_18_acc_5: 0.9934 - dense_18_acc_6: 0.9885 - dense_18_acc_7: 0.9767 - dense_18_acc_8: 0.9600 - dense_18_acc_9: 0.9308 - dense_18_acc_10: 0.8766 - dense_18_acc_11: 0.8097 - dense_18_acc_12: 0.7216 - dense_18_acc_13: 0.6346 - dense_18_acc_14: 0.6018 - dense_18_acc_15: 0.6254 - dense_18_acc_16: 0.6543 - dense_18_acc_17: 0.7482 - dense_18_acc_18: 0.8417\n",
      "Epoch 49/50\n",
      "10887/10887 [==============================] - 14s 1ms/step - loss: 8.9333 - dense_18_loss: 0.5826 - dense_18_acc: 0.9997 - dense_18_acc_1: 0.9996 - dense_18_acc_2: 0.9992 - dense_18_acc_3: 0.9983 - dense_18_acc_4: 0.9970 - dense_18_acc_5: 0.9937 - dense_18_acc_6: 0.9891 - dense_18_acc_7: 0.9770 - dense_18_acc_8: 0.9593 - dense_18_acc_9: 0.9306 - dense_18_acc_10: 0.8747 - dense_18_acc_11: 0.8102 - dense_18_acc_12: 0.7242 - dense_18_acc_13: 0.6343 - dense_18_acc_14: 0.6030 - dense_18_acc_15: 0.6263 - dense_18_acc_16: 0.6571 - dense_18_acc_17: 0.7494 - dense_18_acc_18: 0.8421\n",
      "Epoch 50/50\n",
      "10887/10887 [==============================] - 14s 1ms/step - loss: 8.9022 - dense_18_loss: 0.5769 - dense_18_acc: 0.9997 - dense_18_acc_1: 0.9996 - dense_18_acc_2: 0.9991 - dense_18_acc_3: 0.9983 - dense_18_acc_4: 0.9969 - dense_18_acc_5: 0.9933 - dense_18_acc_6: 0.9887 - dense_18_acc_7: 0.9766 - dense_18_acc_8: 0.9600 - dense_18_acc_9: 0.9315 - dense_18_acc_10: 0.8756 - dense_18_acc_11: 0.8132 - dense_18_acc_12: 0.7241 - dense_18_acc_13: 0.6361 - dense_18_acc_14: 0.6040 - dense_18_acc_15: 0.6318 - dense_18_acc_16: 0.6594 - dense_18_acc_17: 0.7524 - dense_18_acc_18: 0.8464\n"
     ]
    },
    {
     "data": {
      "text/plain": [
       "<keras.callbacks.History at 0x7f899ebfe710>"
      ]
     },
     "execution_count": 132,
     "metadata": {},
     "output_type": "execute_result"
    }
   ],
   "source": [
    "model.fit([X, s0, c0], outputs, epochs=50, batch_size=120)"
   ]
  },
  {
   "cell_type": "code",
   "execution_count": 133,
   "metadata": {},
   "outputs": [
    {
     "name": "stdout",
     "output_type": "stream",
     "text": [
      "Epoch 1/30\n",
      "10887/10887 [==============================] - 14s 1ms/step - loss: 8.8810 - dense_18_loss: 0.5783 - dense_18_acc: 0.9997 - dense_18_acc_1: 0.9996 - dense_18_acc_2: 0.9992 - dense_18_acc_3: 0.9983 - dense_18_acc_4: 0.9970 - dense_18_acc_5: 0.9930 - dense_18_acc_6: 0.9890 - dense_18_acc_7: 0.9762 - dense_18_acc_8: 0.9586 - dense_18_acc_9: 0.9312 - dense_18_acc_10: 0.8769 - dense_18_acc_11: 0.8112 - dense_18_acc_12: 0.7255 - dense_18_acc_13: 0.6380 - dense_18_acc_14: 0.6045 - dense_18_acc_15: 0.6290 - dense_18_acc_16: 0.6601 - dense_18_acc_17: 0.7545 - dense_18_acc_18: 0.8427\n",
      "Epoch 2/30\n",
      "10887/10887 [==============================] - 14s 1ms/step - loss: 8.8515 - dense_18_loss: 0.5722 - dense_18_acc: 0.9997 - dense_18_acc_1: 0.9996 - dense_18_acc_2: 0.9991 - dense_18_acc_3: 0.9983 - dense_18_acc_4: 0.9971 - dense_18_acc_5: 0.9934 - dense_18_acc_6: 0.9883 - dense_18_acc_7: 0.9771 - dense_18_acc_8: 0.9594 - dense_18_acc_9: 0.9320 - dense_18_acc_10: 0.8758 - dense_18_acc_11: 0.8146 - dense_18_acc_12: 0.7273 - dense_18_acc_13: 0.6383 - dense_18_acc_14: 0.6007 - dense_18_acc_15: 0.6308 - dense_18_acc_16: 0.6618 - dense_18_acc_17: 0.7565 - dense_18_acc_18: 0.8467\n",
      "Epoch 3/30\n",
      "10887/10887 [==============================] - 14s 1ms/step - loss: 8.8255 - dense_18_loss: 0.5694 - dense_18_acc: 0.9997 - dense_18_acc_1: 0.9996 - dense_18_acc_2: 0.9991 - dense_18_acc_3: 0.9983 - dense_18_acc_4: 0.9971 - dense_18_acc_5: 0.9934 - dense_18_acc_6: 0.9883 - dense_18_acc_7: 0.9765 - dense_18_acc_8: 0.9602 - dense_18_acc_9: 0.9312 - dense_18_acc_10: 0.8777 - dense_18_acc_11: 0.8135 - dense_18_acc_12: 0.7275 - dense_18_acc_13: 0.6383 - dense_18_acc_14: 0.6073 - dense_18_acc_15: 0.6308 - dense_18_acc_16: 0.6620 - dense_18_acc_17: 0.7580 - dense_18_acc_18: 0.8465\n",
      "Epoch 4/30\n",
      "10887/10887 [==============================] - 14s 1ms/step - loss: 8.8109 - dense_18_loss: 0.5680 - dense_18_acc: 0.9997 - dense_18_acc_1: 0.9996 - dense_18_acc_2: 0.9991 - dense_18_acc_3: 0.9983 - dense_18_acc_4: 0.9971 - dense_18_acc_5: 0.9938 - dense_18_acc_6: 0.9894 - dense_18_acc_7: 0.9769 - dense_18_acc_8: 0.9591 - dense_18_acc_9: 0.9304 - dense_18_acc_10: 0.8753 - dense_18_acc_11: 0.8124 - dense_18_acc_12: 0.7273 - dense_18_acc_13: 0.6364 - dense_18_acc_14: 0.6070 - dense_18_acc_15: 0.6304 - dense_18_acc_16: 0.6644 - dense_18_acc_17: 0.7596 - dense_18_acc_18: 0.8466\n",
      "Epoch 5/30\n",
      "10887/10887 [==============================] - 14s 1ms/step - loss: 8.7945 - dense_18_loss: 0.5673 - dense_18_acc: 0.9997 - dense_18_acc_1: 0.9996 - dense_18_acc_2: 0.9992 - dense_18_acc_3: 0.9983 - dense_18_acc_4: 0.9970 - dense_18_acc_5: 0.9937 - dense_18_acc_6: 0.9891 - dense_18_acc_7: 0.9765 - dense_18_acc_8: 0.9601 - dense_18_acc_9: 0.9324 - dense_18_acc_10: 0.8771 - dense_18_acc_11: 0.8134 - dense_18_acc_12: 0.7282 - dense_18_acc_13: 0.6369 - dense_18_acc_14: 0.6051 - dense_18_acc_15: 0.6326 - dense_18_acc_16: 0.6657 - dense_18_acc_17: 0.7594 - dense_18_acc_18: 0.8476\n",
      "Epoch 6/30\n",
      "10887/10887 [==============================] - 14s 1ms/step - loss: 8.7587 - dense_18_loss: 0.5611 - dense_18_acc: 0.9997 - dense_18_acc_1: 0.9996 - dense_18_acc_2: 0.9992 - dense_18_acc_3: 0.9983 - dense_18_acc_4: 0.9972 - dense_18_acc_5: 0.9934 - dense_18_acc_6: 0.9889 - dense_18_acc_7: 0.9762 - dense_18_acc_8: 0.9597 - dense_18_acc_9: 0.9309 - dense_18_acc_10: 0.8787 - dense_18_acc_11: 0.8143 - dense_18_acc_12: 0.7281 - dense_18_acc_13: 0.6399 - dense_18_acc_14: 0.6110 - dense_18_acc_15: 0.6351 - dense_18_acc_16: 0.6677 - dense_18_acc_17: 0.7633 - dense_18_acc_18: 0.8499\n",
      "Epoch 7/30\n",
      "10887/10887 [==============================] - 14s 1ms/step - loss: 8.7214 - dense_18_loss: 0.5567 - dense_18_acc: 0.9997 - dense_18_acc_1: 0.9996 - dense_18_acc_2: 0.9992 - dense_18_acc_3: 0.9983 - dense_18_acc_4: 0.9971 - dense_18_acc_5: 0.9936 - dense_18_acc_6: 0.9890 - dense_18_acc_7: 0.9769 - dense_18_acc_8: 0.9598 - dense_18_acc_9: 0.9329 - dense_18_acc_10: 0.8775 - dense_18_acc_11: 0.8154 - dense_18_acc_12: 0.7310 - dense_18_acc_13: 0.6416 - dense_18_acc_14: 0.6088 - dense_18_acc_15: 0.6370 - dense_18_acc_16: 0.6693 - dense_18_acc_17: 0.7657 - dense_18_acc_18: 0.8524\n",
      "Epoch 8/30\n",
      "10887/10887 [==============================] - 14s 1ms/step - loss: 8.6993 - dense_18_loss: 0.5556 - dense_18_acc: 0.9997 - dense_18_acc_1: 0.9996 - dense_18_acc_2: 0.9992 - dense_18_acc_3: 0.9983 - dense_18_acc_4: 0.9971 - dense_18_acc_5: 0.9935 - dense_18_acc_6: 0.9889 - dense_18_acc_7: 0.9765 - dense_18_acc_8: 0.9600 - dense_18_acc_9: 0.9329 - dense_18_acc_10: 0.8790 - dense_18_acc_11: 0.8153 - dense_18_acc_12: 0.7308 - dense_18_acc_13: 0.6423 - dense_18_acc_14: 0.6099 - dense_18_acc_15: 0.6364 - dense_18_acc_16: 0.6703 - dense_18_acc_17: 0.7674 - dense_18_acc_18: 0.8518\n",
      "Epoch 9/30\n",
      "10887/10887 [==============================] - 14s 1ms/step - loss: 8.6849 - dense_18_loss: 0.5516 - dense_18_acc: 0.9997 - dense_18_acc_1: 0.9996 - dense_18_acc_2: 0.9992 - dense_18_acc_3: 0.9983 - dense_18_acc_4: 0.9970 - dense_18_acc_5: 0.9937 - dense_18_acc_6: 0.9892 - dense_18_acc_7: 0.9775 - dense_18_acc_8: 0.9605 - dense_18_acc_9: 0.9323 - dense_18_acc_10: 0.8791 - dense_18_acc_11: 0.8169 - dense_18_acc_12: 0.7311 - dense_18_acc_13: 0.6415 - dense_18_acc_14: 0.6118 - dense_18_acc_15: 0.6378 - dense_18_acc_16: 0.6716 - dense_18_acc_17: 0.7675 - dense_18_acc_18: 0.8550\n",
      "Epoch 10/30\n",
      "10887/10887 [==============================] - 14s 1ms/step - loss: 8.6647 - dense_18_loss: 0.5517 - dense_18_acc: 0.9997 - dense_18_acc_1: 0.9996 - dense_18_acc_2: 0.9992 - dense_18_acc_3: 0.9982 - dense_18_acc_4: 0.9971 - dense_18_acc_5: 0.9934 - dense_18_acc_6: 0.9894 - dense_18_acc_7: 0.9773 - dense_18_acc_8: 0.9600 - dense_18_acc_9: 0.9323 - dense_18_acc_10: 0.8775 - dense_18_acc_11: 0.8146 - dense_18_acc_12: 0.7329 - dense_18_acc_13: 0.6421 - dense_18_acc_14: 0.6145 - dense_18_acc_15: 0.6386 - dense_18_acc_16: 0.6712 - dense_18_acc_17: 0.7695 - dense_18_acc_18: 0.8529\n",
      "Epoch 11/30\n",
      "10887/10887 [==============================] - 14s 1ms/step - loss: 8.6305 - dense_18_loss: 0.5458 - dense_18_acc: 0.9997 - dense_18_acc_1: 0.9996 - dense_18_acc_2: 0.9992 - dense_18_acc_3: 0.9983 - dense_18_acc_4: 0.9970 - dense_18_acc_5: 0.9937 - dense_18_acc_6: 0.9891 - dense_18_acc_7: 0.9771 - dense_18_acc_8: 0.9597 - dense_18_acc_9: 0.9325 - dense_18_acc_10: 0.8793 - dense_18_acc_11: 0.8163 - dense_18_acc_12: 0.7309 - dense_18_acc_13: 0.6423 - dense_18_acc_14: 0.6127 - dense_18_acc_15: 0.6410 - dense_18_acc_16: 0.6733 - dense_18_acc_17: 0.7702 - dense_18_acc_18: 0.8553\n",
      "Epoch 12/30\n",
      "10887/10887 [==============================] - 14s 1ms/step - loss: 8.6093 - dense_18_loss: 0.5442 - dense_18_acc: 0.9997 - dense_18_acc_1: 0.9996 - dense_18_acc_2: 0.9992 - dense_18_acc_3: 0.9983 - dense_18_acc_4: 0.9971 - dense_18_acc_5: 0.9936 - dense_18_acc_6: 0.9889 - dense_18_acc_7: 0.9764 - dense_18_acc_8: 0.9610 - dense_18_acc_9: 0.9325 - dense_18_acc_10: 0.8793 - dense_18_acc_11: 0.8179 - dense_18_acc_12: 0.7322 - dense_18_acc_13: 0.6445 - dense_18_acc_14: 0.6136 - dense_18_acc_15: 0.6391 - dense_18_acc_16: 0.6726 - dense_18_acc_17: 0.7733 - dense_18_acc_18: 0.8540\n",
      "Epoch 13/30\n",
      "10887/10887 [==============================] - 14s 1ms/step - loss: 8.5826 - dense_18_loss: 0.5420 - dense_18_acc: 0.9997 - dense_18_acc_1: 0.9996 - dense_18_acc_2: 0.9992 - dense_18_acc_3: 0.9983 - dense_18_acc_4: 0.9972 - dense_18_acc_5: 0.9936 - dense_18_acc_6: 0.9890 - dense_18_acc_7: 0.9767 - dense_18_acc_8: 0.9610 - dense_18_acc_9: 0.9316 - dense_18_acc_10: 0.8794 - dense_18_acc_11: 0.8174 - dense_18_acc_12: 0.7346 - dense_18_acc_13: 0.6454 - dense_18_acc_14: 0.6150 - dense_18_acc_15: 0.6411 - dense_18_acc_16: 0.6767 - dense_18_acc_17: 0.7726 - dense_18_acc_18: 0.8580\n",
      "Epoch 14/30\n"
     ]
    },
    {
     "name": "stdout",
     "output_type": "stream",
     "text": [
      "10887/10887 [==============================] - 14s 1ms/step - loss: 8.5610 - dense_18_loss: 0.5384 - dense_18_acc: 0.9997 - dense_18_acc_1: 0.9996 - dense_18_acc_2: 0.9992 - dense_18_acc_3: 0.9983 - dense_18_acc_4: 0.9970 - dense_18_acc_5: 0.9938 - dense_18_acc_6: 0.9889 - dense_18_acc_7: 0.9766 - dense_18_acc_8: 0.9598 - dense_18_acc_9: 0.9329 - dense_18_acc_10: 0.8802 - dense_18_acc_11: 0.8178 - dense_18_acc_12: 0.7349 - dense_18_acc_13: 0.6461 - dense_18_acc_14: 0.6162 - dense_18_acc_15: 0.6457 - dense_18_acc_16: 0.6763 - dense_18_acc_17: 0.7759 - dense_18_acc_18: 0.8592\n",
      "Epoch 15/30\n",
      "10887/10887 [==============================] - 14s 1ms/step - loss: 8.5418 - dense_18_loss: 0.5369 - dense_18_acc: 0.9997 - dense_18_acc_1: 0.9996 - dense_18_acc_2: 0.9992 - dense_18_acc_3: 0.9983 - dense_18_acc_4: 0.9971 - dense_18_acc_5: 0.9937 - dense_18_acc_6: 0.9888 - dense_18_acc_7: 0.9767 - dense_18_acc_8: 0.9612 - dense_18_acc_9: 0.9340 - dense_18_acc_10: 0.8808 - dense_18_acc_11: 0.8196 - dense_18_acc_12: 0.7345 - dense_18_acc_13: 0.6456 - dense_18_acc_14: 0.6178 - dense_18_acc_15: 0.6454 - dense_18_acc_16: 0.6805 - dense_18_acc_17: 0.7770 - dense_18_acc_18: 0.8574\n",
      "Epoch 16/30\n",
      "10887/10887 [==============================] - 14s 1ms/step - loss: 8.5241 - dense_18_loss: 0.5355 - dense_18_acc: 0.9997 - dense_18_acc_1: 0.9996 - dense_18_acc_2: 0.9992 - dense_18_acc_3: 0.9983 - dense_18_acc_4: 0.9970 - dense_18_acc_5: 0.9939 - dense_18_acc_6: 0.9894 - dense_18_acc_7: 0.9772 - dense_18_acc_8: 0.9599 - dense_18_acc_9: 0.9340 - dense_18_acc_10: 0.8805 - dense_18_acc_11: 0.8191 - dense_18_acc_12: 0.7356 - dense_18_acc_13: 0.6462 - dense_18_acc_14: 0.6181 - dense_18_acc_15: 0.6432 - dense_18_acc_16: 0.6783 - dense_18_acc_17: 0.7744 - dense_18_acc_18: 0.8577\n",
      "Epoch 17/30\n",
      "10887/10887 [==============================] - 14s 1ms/step - loss: 8.5115 - dense_18_loss: 0.5344 - dense_18_acc: 0.9997 - dense_18_acc_1: 0.9996 - dense_18_acc_2: 0.9992 - dense_18_acc_3: 0.9983 - dense_18_acc_4: 0.9971 - dense_18_acc_5: 0.9938 - dense_18_acc_6: 0.9893 - dense_18_acc_7: 0.9771 - dense_18_acc_8: 0.9602 - dense_18_acc_9: 0.9338 - dense_18_acc_10: 0.8816 - dense_18_acc_11: 0.8174 - dense_18_acc_12: 0.7346 - dense_18_acc_13: 0.6479 - dense_18_acc_14: 0.6161 - dense_18_acc_15: 0.6472 - dense_18_acc_16: 0.6801 - dense_18_acc_17: 0.7764 - dense_18_acc_18: 0.8576\n",
      "Epoch 18/30\n",
      "10887/10887 [==============================] - 14s 1ms/step - loss: 8.4833 - dense_18_loss: 0.5306 - dense_18_acc: 0.9997 - dense_18_acc_1: 0.9996 - dense_18_acc_2: 0.9992 - dense_18_acc_3: 0.9984 - dense_18_acc_4: 0.9971 - dense_18_acc_5: 0.9937 - dense_18_acc_6: 0.9893 - dense_18_acc_7: 0.9769 - dense_18_acc_8: 0.9605 - dense_18_acc_9: 0.9340 - dense_18_acc_10: 0.8811 - dense_18_acc_11: 0.8195 - dense_18_acc_12: 0.7352 - dense_18_acc_13: 0.6490 - dense_18_acc_14: 0.6195 - dense_18_acc_15: 0.6445 - dense_18_acc_16: 0.6822 - dense_18_acc_17: 0.7799 - dense_18_acc_18: 0.8589\n",
      "Epoch 19/30\n",
      "10887/10887 [==============================] - 14s 1ms/step - loss: 8.4647 - dense_18_loss: 0.5295 - dense_18_acc: 0.9997 - dense_18_acc_1: 0.9996 - dense_18_acc_2: 0.9992 - dense_18_acc_3: 0.9983 - dense_18_acc_4: 0.9969 - dense_18_acc_5: 0.9938 - dense_18_acc_6: 0.9891 - dense_18_acc_7: 0.9776 - dense_18_acc_8: 0.9611 - dense_18_acc_9: 0.9334 - dense_18_acc_10: 0.8817 - dense_18_acc_11: 0.8196 - dense_18_acc_12: 0.7380 - dense_18_acc_13: 0.6474 - dense_18_acc_14: 0.6177 - dense_18_acc_15: 0.6436 - dense_18_acc_16: 0.6828 - dense_18_acc_17: 0.7807 - dense_18_acc_18: 0.8580\n",
      "Epoch 20/30\n",
      "10887/10887 [==============================] - 14s 1ms/step - loss: 8.4377 - dense_18_loss: 0.5240 - dense_18_acc: 0.9997 - dense_18_acc_1: 0.9996 - dense_18_acc_2: 0.9992 - dense_18_acc_3: 0.9983 - dense_18_acc_4: 0.9970 - dense_18_acc_5: 0.9939 - dense_18_acc_6: 0.9893 - dense_18_acc_7: 0.9771 - dense_18_acc_8: 0.9611 - dense_18_acc_9: 0.9335 - dense_18_acc_10: 0.8831 - dense_18_acc_11: 0.8190 - dense_18_acc_12: 0.7366 - dense_18_acc_13: 0.6503 - dense_18_acc_14: 0.6204 - dense_18_acc_15: 0.6463 - dense_18_acc_16: 0.6861 - dense_18_acc_17: 0.7821 - dense_18_acc_18: 0.8603\n",
      "Epoch 21/30\n",
      "10887/10887 [==============================] - 14s 1ms/step - loss: 8.4121 - dense_18_loss: 0.5232 - dense_18_acc: 0.9997 - dense_18_acc_1: 0.9996 - dense_18_acc_2: 0.9992 - dense_18_acc_3: 0.9983 - dense_18_acc_4: 0.9971 - dense_18_acc_5: 0.9939 - dense_18_acc_6: 0.9897 - dense_18_acc_7: 0.9772 - dense_18_acc_8: 0.9608 - dense_18_acc_9: 0.9347 - dense_18_acc_10: 0.8810 - dense_18_acc_11: 0.8204 - dense_18_acc_12: 0.7372 - dense_18_acc_13: 0.6513 - dense_18_acc_14: 0.6224 - dense_18_acc_15: 0.6493 - dense_18_acc_16: 0.6849 - dense_18_acc_17: 0.7825 - dense_18_acc_18: 0.8633\n",
      "Epoch 22/30\n",
      "10887/10887 [==============================] - 14s 1ms/step - loss: 8.4019 - dense_18_loss: 0.5227 - dense_18_acc: 0.9997 - dense_18_acc_1: 0.9996 - dense_18_acc_2: 0.9992 - dense_18_acc_3: 0.9983 - dense_18_acc_4: 0.9970 - dense_18_acc_5: 0.9938 - dense_18_acc_6: 0.9892 - dense_18_acc_7: 0.9769 - dense_18_acc_8: 0.9621 - dense_18_acc_9: 0.9342 - dense_18_acc_10: 0.8812 - dense_18_acc_11: 0.8196 - dense_18_acc_12: 0.7378 - dense_18_acc_13: 0.6499 - dense_18_acc_14: 0.6214 - dense_18_acc_15: 0.6471 - dense_18_acc_16: 0.6862 - dense_18_acc_17: 0.7833 - dense_18_acc_18: 0.8613\n",
      "Epoch 23/30\n",
      "10887/10887 [==============================] - 14s 1ms/step - loss: 8.3761 - dense_18_loss: 0.5181 - dense_18_acc: 0.9997 - dense_18_acc_1: 0.9996 - dense_18_acc_2: 0.9992 - dense_18_acc_3: 0.9983 - dense_18_acc_4: 0.9970 - dense_18_acc_5: 0.9938 - dense_18_acc_6: 0.9894 - dense_18_acc_7: 0.9773 - dense_18_acc_8: 0.9608 - dense_18_acc_9: 0.9339 - dense_18_acc_10: 0.8819 - dense_18_acc_11: 0.8203 - dense_18_acc_12: 0.7405 - dense_18_acc_13: 0.6517 - dense_18_acc_14: 0.6248 - dense_18_acc_15: 0.6505 - dense_18_acc_16: 0.6878 - dense_18_acc_17: 0.7853 - dense_18_acc_18: 0.8648\n",
      "Epoch 24/30\n",
      "10887/10887 [==============================] - 14s 1ms/step - loss: 8.3487 - dense_18_loss: 0.5161 - dense_18_acc: 0.9997 - dense_18_acc_1: 0.9996 - dense_18_acc_2: 0.9992 - dense_18_acc_3: 0.9983 - dense_18_acc_4: 0.9969 - dense_18_acc_5: 0.9941 - dense_18_acc_6: 0.9894 - dense_18_acc_7: 0.9774 - dense_18_acc_8: 0.9607 - dense_18_acc_9: 0.9347 - dense_18_acc_10: 0.8840 - dense_18_acc_11: 0.8207 - dense_18_acc_12: 0.7397 - dense_18_acc_13: 0.6547 - dense_18_acc_14: 0.6225 - dense_18_acc_15: 0.6515 - dense_18_acc_16: 0.6928 - dense_18_acc_17: 0.7879 - dense_18_acc_18: 0.8653\n",
      "Epoch 25/30\n",
      "10887/10887 [==============================] - 14s 1ms/step - loss: 8.3451 - dense_18_loss: 0.5148 - dense_18_acc: 0.9997 - dense_18_acc_1: 0.9996 - dense_18_acc_2: 0.9992 - dense_18_acc_3: 0.9983 - dense_18_acc_4: 0.9969 - dense_18_acc_5: 0.9938 - dense_18_acc_6: 0.9890 - dense_18_acc_7: 0.9772 - dense_18_acc_8: 0.9608 - dense_18_acc_9: 0.9351 - dense_18_acc_10: 0.8829 - dense_18_acc_11: 0.8203 - dense_18_acc_12: 0.7392 - dense_18_acc_13: 0.6533 - dense_18_acc_14: 0.6239 - dense_18_acc_15: 0.6514 - dense_18_acc_16: 0.6894 - dense_18_acc_17: 0.7868 - dense_18_acc_18: 0.8636\n",
      "Epoch 26/30\n",
      "10887/10887 [==============================] - 14s 1ms/step - loss: 8.3306 - dense_18_loss: 0.5147 - dense_18_acc: 0.9997 - dense_18_acc_1: 0.9996 - dense_18_acc_2: 0.9992 - dense_18_acc_3: 0.9983 - dense_18_acc_4: 0.9972 - dense_18_acc_5: 0.9939 - dense_18_acc_6: 0.9895 - dense_18_acc_7: 0.9774 - dense_18_acc_8: 0.9610 - dense_18_acc_9: 0.9350 - dense_18_acc_10: 0.8844 - dense_18_acc_11: 0.8208 - dense_18_acc_12: 0.7391 - dense_18_acc_13: 0.6539 - dense_18_acc_14: 0.6223 - dense_18_acc_15: 0.6519 - dense_18_acc_16: 0.6918 - dense_18_acc_17: 0.7895 - dense_18_acc_18: 0.8653\n",
      "Epoch 27/30\n"
     ]
    },
    {
     "name": "stdout",
     "output_type": "stream",
     "text": [
      "10887/10887 [==============================] - 14s 1ms/step - loss: 8.2926 - dense_18_loss: 0.5081 - dense_18_acc: 0.9997 - dense_18_acc_1: 0.9996 - dense_18_acc_2: 0.9992 - dense_18_acc_3: 0.9983 - dense_18_acc_4: 0.9970 - dense_18_acc_5: 0.9939 - dense_18_acc_6: 0.9893 - dense_18_acc_7: 0.9779 - dense_18_acc_8: 0.9613 - dense_18_acc_9: 0.9354 - dense_18_acc_10: 0.8833 - dense_18_acc_11: 0.8219 - dense_18_acc_12: 0.7413 - dense_18_acc_13: 0.6557 - dense_18_acc_14: 0.6258 - dense_18_acc_15: 0.6546 - dense_18_acc_16: 0.6950 - dense_18_acc_17: 0.7910 - dense_18_acc_18: 0.8672\n",
      "Epoch 28/30\n",
      "10887/10887 [==============================] - 14s 1ms/step - loss: 8.2779 - dense_18_loss: 0.5086 - dense_18_acc: 0.9997 - dense_18_acc_1: 0.9996 - dense_18_acc_2: 0.9992 - dense_18_acc_3: 0.9983 - dense_18_acc_4: 0.9970 - dense_18_acc_5: 0.9939 - dense_18_acc_6: 0.9894 - dense_18_acc_7: 0.9769 - dense_18_acc_8: 0.9614 - dense_18_acc_9: 0.9340 - dense_18_acc_10: 0.8833 - dense_18_acc_11: 0.8225 - dense_18_acc_12: 0.7420 - dense_18_acc_13: 0.6556 - dense_18_acc_14: 0.6239 - dense_18_acc_15: 0.6542 - dense_18_acc_16: 0.6940 - dense_18_acc_17: 0.7882 - dense_18_acc_18: 0.8665\n",
      "Epoch 29/30\n",
      "10887/10887 [==============================] - 14s 1ms/step - loss: 8.2628 - dense_18_loss: 0.5058 - dense_18_acc: 0.9997 - dense_18_acc_1: 0.9996 - dense_18_acc_2: 0.9992 - dense_18_acc_3: 0.9983 - dense_18_acc_4: 0.9970 - dense_18_acc_5: 0.9939 - dense_18_acc_6: 0.9896 - dense_18_acc_7: 0.9779 - dense_18_acc_8: 0.9635 - dense_18_acc_9: 0.9352 - dense_18_acc_10: 0.8843 - dense_18_acc_11: 0.8222 - dense_18_acc_12: 0.7429 - dense_18_acc_13: 0.6543 - dense_18_acc_14: 0.6287 - dense_18_acc_15: 0.6550 - dense_18_acc_16: 0.6950 - dense_18_acc_17: 0.7912 - dense_18_acc_18: 0.8680\n",
      "Epoch 30/30\n",
      "10887/10887 [==============================] - 14s 1ms/step - loss: 8.2465 - dense_18_loss: 0.5052 - dense_18_acc: 0.9997 - dense_18_acc_1: 0.9996 - dense_18_acc_2: 0.9992 - dense_18_acc_3: 0.9983 - dense_18_acc_4: 0.9968 - dense_18_acc_5: 0.9937 - dense_18_acc_6: 0.9895 - dense_18_acc_7: 0.9780 - dense_18_acc_8: 0.9623 - dense_18_acc_9: 0.9345 - dense_18_acc_10: 0.8830 - dense_18_acc_11: 0.8224 - dense_18_acc_12: 0.7423 - dense_18_acc_13: 0.6551 - dense_18_acc_14: 0.6286 - dense_18_acc_15: 0.6567 - dense_18_acc_16: 0.6981 - dense_18_acc_17: 0.7917 - dense_18_acc_18: 0.8678\n"
     ]
    },
    {
     "data": {
      "text/plain": [
       "<keras.callbacks.History at 0x7f89adc3d7b8>"
      ]
     },
     "execution_count": 133,
     "metadata": {},
     "output_type": "execute_result"
    }
   ],
   "source": [
    "model.fit([X, s0, c0], outputs, epochs=30, batch_size=120)"
   ]
  },
  {
   "cell_type": "markdown",
   "metadata": {},
   "source": [
    "# Thai-Script to Roman-Script Translation\n",
    "* Task 4: Test your model on 5 examples of your choice including your name! (1 point)\n",
    "* Task 5: Show your visualization of attention scores on one of your example (1 point)"
   ]
  },
  {
   "cell_type": "code",
   "execution_count": 192,
   "metadata": {},
   "outputs": [
    {
     "name": "stdout",
     "output_type": "stream",
     "text": [
      "(10, 20, 66)\n"
     ]
    }
   ],
   "source": [
    "#task 4\n",
    "#fill your code here\n",
    "test = [\"ภาคิน\",\"ดีศรี\",\"พิสิษฐ์\",\"วจนสาระ\",\"ปวินท์\",\"เปี่ยมไทย\",\"นิธิวุฒิ\",\"วิไลนุช\",\"ชวิศ\",\"สกุลยืนยง\"]\n",
    "def prep_input(input_list):\n",
    "    X = []\n",
    "    for line in input_list:\n",
    "        temp=[]\n",
    "        for char in line:\n",
    "            temp.append(input_dict[char])\n",
    "        X.append(temp)\n",
    "    X = pad_sequences(X,maxlen=max_len)\n",
    "    X= to_categorical(X,vocab_size)\n",
    "    X=X.reshape(len(input_list),max_len ,vocab_size)\n",
    "    \n",
    "    return X\n",
    "EXAMPLES = prep_input(test)\n",
    "print(EXAMPLES.shape)\n",
    "prediction = model.predict([EXAMPLES, s0, c0])"
   ]
  },
  {
   "cell_type": "code",
   "execution_count": 193,
   "metadata": {},
   "outputs": [
    {
     "name": "stdout",
     "output_type": "stream",
     "text": [
      "0 phaikan\n",
      "1 siiii\n",
      "2 phisit\n",
      "3 attaanna\n",
      "4 pirnn\n",
      "5 phimitthi\n",
      "6 ittuuutthi\n",
      "7 iiiiwin\n",
      "8 chwwit\n",
      "9 suunaanoong\n"
     ]
    }
   ],
   "source": [
    "prediction = np.swapaxes(prediction,0,1)\n",
    "y_pred = prediction\n",
    "prediction = np.argmax(prediction, axis = -1)\n",
    "for j in range(len(prediction)):\n",
    "    output = \"\".join([rev_output[int(i)] if int(i) else '' for i in prediction[j]])\n",
    "    print(j,output)"
   ]
  },
  {
   "cell_type": "markdown",
   "metadata": {},
   "source": [
    "### Plot the attention map\n",
    "* If you need to install thai font: sudo apt install xfonts-thai\n",
    "* this is what your visualization might look like:\n",
    "<img src=\"https://raw.githubusercontent.com/ekapolc/nlp_2019/master/HW8/images/attn_viz_sample.png\"  style=\"width: 350px;\"/>"
   ]
  },
  {
   "cell_type": "code",
   "execution_count": 220,
   "metadata": {},
   "outputs": [
    {
     "data": {
      "image/png": "[encoded data removed]",
      "text/plain": [
       "<Figure size 432x288 with 2 Axes>"
      ]
     },
     "metadata": {},
     "output_type": "display_data"
    }
   ],
   "source": [
    "#task 5\n",
    "%matplotlib inline\n",
    "import seaborn as sns\n",
    "import matplotlib.pyplot as plt\n",
    "plt.rcParams['font.family']='Loma' #you can change to other font that works for you\n",
    "#fill your code here\n",
    "sns.set()\n",
    "\n",
    "ax = sns.heatmap(y_pred[2][-7:,:])"
   ]
  },
  {
   "cell_type": "code",
   "execution_count": null,
   "metadata": {},
   "outputs": [],
   "source": []
  }
 ],
 "metadata": {
  "kernelspec": {
   "display_name": "Python 3",
   "language": "python",
   "name": "python3"
  }
 },
 "nbformat": 4,
 "nbformat_minor": 1
}
