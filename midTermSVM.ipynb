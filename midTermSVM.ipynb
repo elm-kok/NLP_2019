{
 "cells": [
  {
   "cell_type": "code",
   "execution_count": 1,
   "metadata": {},
   "outputs": [],
   "source": [
    "import pandas as pd\n",
    "import numpy as np\n",
    "from pythainlp.tokenize import word_tokenize\n",
    "from sklearn.feature_extraction.text import TfidfVectorizer\n",
    "from sklearn import svm\n",
    "from sklearn.model_selection import GridSearchCV\n",
    "from sklearn.metrics import accuracy_score\n",
    "import pickle\n",
    "import csv"
   ]
  },
  {
   "cell_type": "code",
   "execution_count": 2,
   "metadata": {},
   "outputs": [
    {
     "data": {
      "text/plain": [
       "((24345,), (24345,))"
      ]
     },
     "execution_count": 2,
     "metadata": {},
     "output_type": "execute_result"
    }
   ],
   "source": [
    "f = open(\"./train.txt\", \"r\")\n",
    "x_train = np.array([word_tokenize(line.strip(),'newmm') for line in f.readlines()])\n",
    "f.close()\n",
    "f = open(\"./train_label.txt\", \"r\")\n",
    "y_train = pd.Series([line.strip() for line in f.readlines()])\n",
    "f.close()\n",
    "x_train.shape,y_train.shape"
   ]
  },
  {
   "cell_type": "code",
   "execution_count": 3,
   "metadata": {},
   "outputs": [
    {
     "name": "stdout",
     "output_type": "stream",
     "text": [
      "Index(['neu', 'neg', 'pos', 'q'], dtype='object')\n"
     ]
    }
   ],
   "source": [
    "label=pd.factorize(y_train)[1]\n",
    "print(label)"
   ]
  },
  {
   "cell_type": "code",
   "execution_count": 4,
   "metadata": {},
   "outputs": [],
   "source": [
    "parameters = [\n",
    "    #{'C': [10, 100, 1000], 'kernel': ['linear']},\n",
    "    #{'C': [100], 'gamma': [0.1,0.01], 'degree':[2,3],'kernel': ['poly'],'decision_function_shape':['ovr']},\n",
    "    {'C': [100], 'gamma': [0.01], 'degree':[2], 'kernel': ['rbf'],'decision_function_shape':['ovr']}\n",
    "             ]"
   ]
  },
  {
   "cell_type": "code",
   "execution_count": 5,
   "metadata": {},
   "outputs": [],
   "source": [
    "f = open(\"./test.txt\", \"r\")\n",
    "x_test = np.array([word_tokenize(line.strip(),'newmm') for line in f.readlines()])\n",
    "f.close()"
   ]
  },
  {
   "cell_type": "code",
   "execution_count": 6,
   "metadata": {},
   "outputs": [
    {
     "name": "stdout",
     "output_type": "stream",
     "text": [
      "0.7710823577736702 7700\n"
     ]
    }
   ],
   "source": [
    "dict_size = 7700\n",
    "vectorizer = TfidfVectorizer(max_features=dict_size,analyzer='char_wb',ngram_range=(1, 3))\n",
    "X = vectorizer.fit_transform([' '.join(i) for i in x_train])\n",
    "label=list(pd.factorize(y_train)[1])\n",
    "Y=[label.index(i) for i in y_train]\n",
    "\n",
    "svc = svm.SVC(cache_size=900)\n",
    "clf = GridSearchCV(svc, parameters, cv=10,n_jobs=-1)\n",
    "clf.fit(X, Y)\n",
    "\n",
    "y_pred = clf.predict(X)\n",
    "\n",
    "acc = accuracy_score(y_pred,Y)\n",
    "print(acc,dict_size)\n",
    "\n",
    "test_data = vectorizer.transform([' '.join(i) for i in x_test])\n",
    "output = clf.predict(test_data)\n",
    "y_pred=[]\n",
    "for i in output:\n",
    "    y_pred.append(label[i])\n",
    "\n",
    "with open('file_'+str(dict_size)+'.csv', mode='w') as file:\n",
    "    writer = csv.writer(file, delimiter=',', quotechar='\"', quoting=csv.QUOTE_MINIMAL)\n",
    "    writer.writerow(['Id','Class'])\n",
    "    [writer.writerow([i+1,j]) for i,j in enumerate(y_pred)]\n",
    "\n",
    "filename = 'SVM_'+str(dict_size)+'.sav'\n",
    "pickle.dump(clf, open(filename, 'wb'))\n",
    "#del X,Y,y_pred,output,acc,clf,svc,label,vectorizer,filename"
   ]
  },
  {
   "cell_type": "code",
   "execution_count": null,
   "metadata": {},
   "outputs": [],
   "source": []
  }
 ],
 "metadata": {
  "kernelspec": {
   "display_name": "Python 3",
   "language": "python",
   "name": "python3"
  },
  "language_info": {
   "codemirror_mode": {
    "name": "ipython",
    "version": 3
   },
   "file_extension": ".py",
   "mimetype": "text/x-python",
   "name": "python",
   "nbconvert_exporter": "python",
   "pygments_lexer": "ipython3",
   "version": "3.7.1"
  }
 },
 "nbformat": 4,
 "nbformat_minor": 2
}
