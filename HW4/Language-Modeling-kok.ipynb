{
 "cells": [
  {
   "cell_type": "markdown",
   "metadata": {
    "collapsed": true
   },
   "source": [
    "# Language Modeling using Ngram"
   ]
  },
  {
   "cell_type": "markdown",
   "metadata": {},
   "source": [
    "In this Exercise, you are going to use NLTK which is a natural language processing library for python to create a bigram language model and its variation. You will build one model for each of the following type and calculate their perplexity:\n",
    "- Unigram Model\n",
    "- Bigram Model\n",
    "- Bigram Model with Laplace smoothing\n",
    "- Bigram Model with Interpolation\n",
    "\n",
    "As a reminder,\n",
    "### Don't forget to shut down your instance on Gcloud when you are not using it ###\n"
   ]
  },
  {
   "cell_type": "code",
   "execution_count": 1,
   "metadata": {},
   "outputs": [],
   "source": [
    "#First we import necessary library such as math, nltk, bigram, and collections.\n",
    "import math\n",
    "import nltk\n",
    "import io\n",
    "import random\n",
    "from random import shuffle\n",
    "from nltk import bigrams, trigrams\n",
    "from collections import Counter, defaultdict\n",
    "random.seed(999)\n",
    "import numpy as np"
   ]
  },
  {
   "cell_type": "markdown",
   "metadata": {},
   "source": [
    "BEST2010 is a free Thai NLP dataset by NECTEC usually use as a standard benchmark for various NLP tasks includeing language modeling. BEST2010 is separated into 4 domain article, encyclopedia, news and novel. The data is already  tokenized using '|' as a separator.\n",
    "\n",
    "For example,\n",
    "\n",
    "ตาม|ที่|นางประนอม ทองจันทร์| |กับ| |ด.ช.กิตติพงษ์ แหลมผักแว่น| |และ| |ด.ญ.กาญจนา กรองแก้ว| |ป่วย|สงสัย|ติด|เชื้อ|ไข้|ขณะ|นี้|ยัง|ไม่|ดี|ขึ้น|"
   ]
  },
  {
   "cell_type": "code",
   "execution_count": 2,
   "metadata": {},
   "outputs": [],
   "source": [
    "# We choose news domain as our dataset\n",
    "best2010=[]\n",
    "fp= io.open('./BEST2010/news.txt','r',encoding='utf-8')\n",
    "for i,line in enumerate(fp):\n",
    "    best2010.append(line.strip()[:-1])\n",
    "fp.close()\n",
    "vocabuary =set()\n",
    "total_word_count =0\n",
    "for line in best2010:\n",
    "    for word in line.split('|'):        \n",
    "        vocabuary.add(word)\n",
    "        total_word_count+=1"
   ]
  },
  {
   "cell_type": "code",
   "execution_count": 3,
   "metadata": {
    "scrolled": true
   },
   "outputs": [
    {
     "name": "stdout",
     "output_type": "stream",
     "text": [
      "Total sentences in BEST2010 news dataset :\t30969\n",
      "Total word counts in BEST2010 news dataset :\t1660190\n",
      "Total vocabuary in BEST2010 news dataset :\t35488\n"
     ]
    }
   ],
   "source": [
    "#For simplicity, we assumes that each line is a sentence.\n",
    "print ('Total sentences in BEST2010 news dataset :\\t'+ str(len(best2010)))\n",
    "print ('Total word counts in BEST2010 news dataset :\\t'+ str(total_word_count))\n",
    "print ('Total vocabuary in BEST2010 news dataset :\\t'+ str(len(vocabuary)))"
   ]
  },
  {
   "cell_type": "markdown",
   "metadata": {},
   "source": [
    "We separate out input into 2 sets, train and test data with 70:30 ratio"
   ]
  },
  {
   "cell_type": "code",
   "execution_count": 4,
   "metadata": {},
   "outputs": [],
   "source": [
    "sentences = best2010\n",
    "# The data is separated to train and test set with 70:30 ratio.\n",
    "train = sentences[:int(len(sentences)*0.7)]\n",
    "test = sentences[int(len(sentences)*0.7):]\n",
    "\n",
    "# We will use 1/total word count as a default value for unknown word\n",
    "unk_value = math.pow(len(vocabuary),-1)"
   ]
  },
  {
   "cell_type": "markdown",
   "metadata": {},
   "source": [
    "# Unigram"
   ]
  },
  {
   "cell_type": "markdown",
   "metadata": {},
   "source": [
    "In this section, we will demonstrate how to build a unigram language model"
   ]
  },
  {
   "cell_type": "code",
   "execution_count": 5,
   "metadata": {},
   "outputs": [],
   "source": [
    "def getUnigramModel(data):\n",
    "    model = defaultdict(lambda: 0)\n",
    "    total_word_count =0\n",
    "    for sentence in data:\n",
    "        sentence += u'|</s>'\n",
    "        for w1 in sentence.split('|'):\n",
    "            model[w1] +=1.0\n",
    "            total_word_count+=1\n",
    "    for w1 in model:\n",
    "        model[w1] = model[w1]/(total_word_count)\n",
    "    return model"
   ]
  },
  {
   "cell_type": "code",
   "execution_count": 6,
   "metadata": {},
   "outputs": [],
   "source": [
    "model = getUnigramModel(train)"
   ]
  },
  {
   "cell_type": "code",
   "execution_count": 7,
   "metadata": {},
   "outputs": [],
   "source": [
    "def getLnValue(x):\n",
    "    if x >0.0:\n",
    "        return math.log(x)\n",
    "    else:\n",
    "        return math.log(unk_value)"
   ]
  },
  {
   "cell_type": "code",
   "execution_count": 8,
   "metadata": {},
   "outputs": [
    {
     "name": "stdout",
     "output_type": "stream",
     "text": [
      "-6.551526663995246\n",
      "-10.476949890150093\n",
      "Problability of a sentence 2.75827124812635e-16\n"
     ]
    }
   ],
   "source": [
    "#problability of 'นายก'\n",
    "print(getLnValue(model[u'นายก']))\n",
    "#for example, problability of 'นายกรัฐมนตรี' which is an unknown word is equal to\n",
    "print(getLnValue(model[u'นายกรัฐมนตรี']))\n",
    "#problability of 'นายก' 'ได้' 'ให้' 'สัมภาษณ์' 'กับ' 'สื่อ'\n",
    "prob = getLnValue(model[u'นายก'])+getLnValue(model[u'ได้'])+ getLnValue(model[u'ให้'])+getLnValue(model[u'สัมภาษณ์'])+getLnValue(model[u'กับ'])+getLnValue(model[u'สื่อ'])\n",
    "print ('Problability of a sentence', math.exp(prob))"
   ]
  },
  {
   "cell_type": "markdown",
   "metadata": {},
   "source": [
    "# Perplexity\n",
    "\n",
    "In order to compare language model we need to calculate perplexity. In this task you should write a perplexity calculation code for the unigram model. The result perplexity should be around 513.97 and\n",
    "452.66 on train and test data."
   ]
  },
  {
   "cell_type": "markdown",
   "metadata": {},
   "source": [
    "## TODO #1 Calculate perplexity"
   ]
  },
  {
   "cell_type": "code",
   "execution_count": 9,
   "metadata": {},
   "outputs": [],
   "source": [
    "def calculate_sentence_ln_prob(sentence, model):\n",
    "    s = 0.0\n",
    "    for word in sentence.split('|')[:-1]:\n",
    "        s += getLnValue(model[word])\n",
    "    return s\n",
    "\n",
    "def perplexity(test,model):\n",
    "    s = 0.0\n",
    "    count = 0\n",
    "    for ss in test:\n",
    "        ss += u'|</s>'\n",
    "        count += len(ss.split('|'))\n",
    "        s += calculate_sentence_ln_prob(ss,model)\n",
    "    return np.exp(-s/count)"
   ]
  },
  {
   "cell_type": "code",
   "execution_count": 10,
   "metadata": {},
   "outputs": [
    {
     "name": "stdout",
     "output_type": "stream",
     "text": [
      "513.9747870973313\n",
      "452.65524668351003\n"
     ]
    }
   ],
   "source": [
    "print(perplexity(train,model))\n",
    "print(perplexity(test,model))"
   ]
  },
  {
   "cell_type": "markdown",
   "metadata": {},
   "source": [
    "## TODO #2 Please explain why this model give us such a high perplexity."
   ]
  },
  {
   "cell_type": "markdown",
   "metadata": {},
   "source": [
    "**Your answer**:  .........\n",
    "Because of Unigram, it is diverse to know what the next word is. So it may guess many time to know the true word is. For example, Bigram can get closer to the true word and easier to guess from the previous word."
   ]
  },
  {
   "cell_type": "markdown",
   "metadata": {},
   "source": [
    "# Bigram"
   ]
  },
  {
   "cell_type": "markdown",
   "metadata": {},
   "source": [
    "Next, you will create a better language model than a unigram (which is not much to compare with). But first, it is very tedious to count every pair of words that occur in our corpus by ourselves. In this case, nltk provide us a simple library which will do it for us."
   ]
  },
  {
   "cell_type": "code",
   "execution_count": 11,
   "metadata": {},
   "outputs": [
    {
     "name": "stdout",
     "output_type": "stream",
     "text": [
      "This is how nltk generate bigram.\n",
      "None I\n",
      "I always\n",
      "always search\n",
      "search google\n",
      "google for\n",
      "for an\n",
      "an answer\n",
      "answer .\n",
      "\n",
      "\n",
      "None None I\n",
      "None I always\n",
      "I always search\n",
      "always search google\n",
      "search google for\n",
      "google for an\n",
      "for an answer\n",
      "an answer .\n",
      "answer . None\n",
      ". None None\n",
      "None is used as a start and end of sentence symbol.\n"
     ]
    }
   ],
   "source": [
    "#example of nltk usage for bigram\n",
    "sentence = 'I always search google for an answer .'\n",
    "\n",
    "print('This is how nltk generate bigram.')\n",
    "for w1,w2 in bigrams(sentence.split(), pad_right=False, pad_left=True):\n",
    "    print (w1,w2)\n",
    "print('\\n')\n",
    "for w1,w2,w3 in trigrams(sentence.split(), pad_right=True, pad_left=True):\n",
    "    print (w1,w2,w3)\n",
    "print('None is used as a start and end of sentence symbol.')"
   ]
  },
  {
   "cell_type": "markdown",
   "metadata": {},
   "source": [
    "Now, you should be able to implement a bigram model by yourself. Also, you must create a new perplexity calculation for bigram. The result perplexity should be around 58.54 and 153.36 on train and test data."
   ]
  },
  {
   "cell_type": "markdown",
   "metadata": {},
   "source": [
    "## TODO #3 Write Bigram Model"
   ]
  },
  {
   "cell_type": "code",
   "execution_count": 12,
   "metadata": {},
   "outputs": [],
   "source": [
    "def getBigramModel(data):\n",
    "    model = defaultdict(lambda: 0)\n",
    "    word = defaultdict(lambda: 0)\n",
    "    for ss in data:\n",
    "        for x,y in bigrams(ss.split('|'), pad_right=True, pad_left=True):\n",
    "            model[(x,y)]+=1.0\n",
    "            word[x]+=0.5\n",
    "        word[None] += 0.5\n",
    "    for i in model.keys():\n",
    "        model[i] = model[i]/word[i[0]]\n",
    "    return model\n",
    "model = getBigramModel(train)"
   ]
  },
  {
   "cell_type": "markdown",
   "metadata": {},
   "source": [
    "## TODO #4 Write Perplexity for Bigram Model\n",
    "\n",
    "Sum perplexity score at a sentence level, instead of word level"
   ]
  },
  {
   "cell_type": "code",
   "execution_count": 13,
   "metadata": {},
   "outputs": [],
   "source": [
    "def calculate_sentence_ln_prob(sentence, model):\n",
    "    s = 0.0\n",
    "    for x,y in bigrams(sentence.split('|'), pad_right=True, pad_left=True):\n",
    "        s += (getLnValue(model[(x,y)]))\n",
    "    return s\n",
    "\n",
    "def perplexity(test,model):\n",
    "    s = 0.0\n",
    "    count = 0\n",
    "    for ss in test:\n",
    "        count += len(ss.split('|'))+2 # because of None (start/end)\n",
    "        s += calculate_sentence_ln_prob(ss,model)\n",
    "    return np.exp(-s/count)"
   ]
  },
  {
   "cell_type": "code",
   "execution_count": 14,
   "metadata": {},
   "outputs": [
    {
     "name": "stdout",
     "output_type": "stream",
     "text": [
      "27.85947221029811\n",
      "81.49532683719828\n"
     ]
    }
   ],
   "source": [
    "print (perplexity(train,model))\n",
    "print (perplexity(test, model))"
   ]
  },
  {
   "cell_type": "markdown",
   "metadata": {},
   "source": [
    "# Smoothing"
   ]
  },
  {
   "cell_type": "markdown",
   "metadata": {},
   "source": [
    "Usually any ngram models have a sparsity problem, which means it does not have every possible ngram of words in the dataset. Smoothing techniques can alleviate this problem. In this section, you will implement two basic smoothing methods laplace smoothing and interpolation for bigram."
   ]
  },
  {
   "cell_type": "markdown",
   "metadata": {},
   "source": [
    "## TODO #5 write Bigram with Laplace smoothing (Add-One Smoothing)"
   ]
  },
  {
   "cell_type": "code",
   "execution_count": 15,
   "metadata": {},
   "outputs": [
    {
     "name": "stdout",
     "output_type": "stream",
     "text": [
      "856.0556842942104\n",
      "1046.2669271769487\n"
     ]
    }
   ],
   "source": [
    "#Laplace Smoothing\n",
    "def getBigramWithLaplaceSmoothing(data):\n",
    "    model = defaultdict(lambda: 0)\n",
    "    word = defaultdict(lambda: 0)\n",
    "    for ss in data:\n",
    "        for x,y in bigrams(ss.split('|'), pad_right=True, pad_left=True):\n",
    "            model[(x,y)]+=1.0\n",
    "            word[x]+=1.0\n",
    "        word[None]+=1.0\n",
    "    for i in model.keys():\n",
    "        model[i] = (model[i]+1)/(word[i[0]]+len(word))\n",
    "    return model\n",
    "\n",
    "model =getBigramWithLaplaceSmoothing(train)\n",
    "print (perplexity(train,model) )\n",
    "print (perplexity(test, model))"
   ]
  },
  {
   "cell_type": "markdown",
   "metadata": {},
   "source": [
    "## TODO #6 Write Bigram with Interpolation\n",
    "lambda value is 0.7 for bigram, 0.25 for unigram, and 0.05 for unknown word"
   ]
  },
  {
   "cell_type": "code",
   "execution_count": 16,
   "metadata": {},
   "outputs": [],
   "source": [
    "#interpolation\n",
    "def getBigramWithInterpolation(data):\n",
    "    model = getBigramModel(data)\n",
    "    word = defaultdict(lambda: 0)\n",
    "    model_unigram=getUnigramModel(data)\n",
    "    '''\n",
    "    for ss in data:\n",
    "        for x,y in bigrams(ss.split('|'), pad_right=True, pad_left=True):\n",
    "            model[(x,y)] += 1\n",
    "            word[x] += 0.5\n",
    "        word[None] += 0.5 #both 0.5 count duplicate time.\n",
    "    '''\n",
    "    for i in model.keys():\n",
    "        model[i] = 0.7*model[i]+0.25*model_unigram[i[1]]+0.05/len(vocabuary)\n",
    "    return model"
   ]
  },
  {
   "cell_type": "code",
   "execution_count": 17,
   "metadata": {},
   "outputs": [
    {
     "name": "stdout",
     "output_type": "stream",
     "text": [
      "36.80812942557492\n",
      "101.84447612371153\n"
     ]
    }
   ],
   "source": [
    "model = getBigramWithInterpolation(train)\n",
    "print (perplexity(train,model))        \n",
    "print (perplexity(test,model))"
   ]
  },
  {
   "cell_type": "markdown",
   "metadata": {},
   "source": [
    "the result perplexity on training and testing should be \n",
    "\n",
    "    1231.14, 1390.85 for Laplace smoothing\n",
    "    39.90, 107.27 for Interpolation"
   ]
  },
  {
   "cell_type": "markdown",
   "metadata": {},
   "source": [
    "# Language modeling on multiple domains\n",
    "\n",
    "Sometimes, we do not have enough data to create a language model for a new domain. In that case, we can improvised by combining several models to improve result on the new domain.\n",
    "\n",
    "In this exercise you will try to merge two language model from news and article domains to create a language model for the encyclopedia domain."
   ]
  },
  {
   "cell_type": "code",
   "execution_count": 18,
   "metadata": {},
   "outputs": [],
   "source": [
    "# create article data\n",
    "encyclo_data=[]\n",
    "fp= io.open('./BEST2010/encyclopedia.txt','r',encoding='utf-8')\n",
    "for i,line in enumerate(fp):\n",
    "    encyclo_data.append(line.strip()[:-1])\n",
    "fp.close()"
   ]
  },
  {
   "cell_type": "markdown",
   "metadata": {},
   "source": [
    "First, you should try to calculate perplexity of your bigram with interpolation on article data. The result perplexity should be around 466.17 \n",
    "\n",
    "For your information, a bigram model with interpolation using ariticle data to test on encyclopedia data has a perplexity of 281.24"
   ]
  },
  {
   "cell_type": "code",
   "execution_count": 19,
   "metadata": {},
   "outputs": [
    {
     "name": "stdout",
     "output_type": "stream",
     "text": [
      "433.0024395535003\n"
     ]
    }
   ],
   "source": [
    "#print perplexity of bigram with interpolation on article data        \n",
    "print (perplexity(encyclo_data,model))"
   ]
  },
  {
   "cell_type": "markdown",
   "metadata": {},
   "source": [
    "## TODO #7 \n",
    "Write a model that produce 260.0 or less perplexity on encyclopedia data without using data from the encyclopedia as training data. (Hint : Try to combine a model with news data and a model with article data together.)"
   ]
  },
  {
   "cell_type": "code",
   "execution_count": 20,
   "metadata": {},
   "outputs": [],
   "source": [
    "# We choose news domain as our dataset\n",
    "best2010=[]\n",
    "vocabuary =set()\n",
    "total_word_count =0\n",
    "fp= io.open('./BEST2010/news.txt','r',encoding='utf-8')\n",
    "for i,line in enumerate(fp):\n",
    "    best2010.append(line.strip()[:-1])\n",
    "fp.close()\n",
    "fp= io.open('./BEST2010/article.txt','r',encoding='utf-8')\n",
    "for i,line in enumerate(fp):\n",
    "    best2010.append(line.strip()[:-1])\n",
    "fp.close()\n",
    "for line in best2010:\n",
    "    for word in line.split('|'):        \n",
    "        vocabuary.add(word)\n",
    "        total_word_count+=1\n",
    "#article\n",
    "unk_value = math.pow(len(vocabuary),-1)"
   ]
  },
  {
   "cell_type": "code",
   "execution_count": 21,
   "metadata": {},
   "outputs": [],
   "source": [
    "model = getBigramWithInterpolation(best2010)"
   ]
  },
  {
   "cell_type": "code",
   "execution_count": 22,
   "metadata": {},
   "outputs": [
    {
     "name": "stdout",
     "output_type": "stream",
     "text": [
      "257.201964433276\n"
     ]
    }
   ],
   "source": [
    "print (perplexity(encyclo_data,model))"
   ]
  },
  {
   "cell_type": "markdown",
   "metadata": {},
   "source": [
    "# Kneser-ney Smoothing\n",
    "\n"
   ]
  },
  {
   "cell_type": "markdown",
   "metadata": {},
   "source": [
    "## TODO #8 (optional: Bonus 0.5 points) \n",
    "Implement kneser-ney smoothing with news and article data "
   ]
  },
  {
   "cell_type": "code",
   "execution_count": null,
   "metadata": {},
   "outputs": [],
   "source": []
  },
  {
   "cell_type": "code",
   "execution_count": 23,
   "metadata": {},
   "outputs": [
    {
     "name": "stdout",
     "output_type": "stream",
     "text": [
      "257.201964433276\n"
     ]
    }
   ],
   "source": [
    "print (perplexity(encyclo_data,model))"
   ]
  }
 ],
 "metadata": {
  "kernelspec": {
   "display_name": "Python 3",
   "language": "python",
   "name": "python3"
  },
  "language_info": {
   "codemirror_mode": {
    "name": "ipython",
    "version": 3
   },
   "file_extension": ".py",
   "mimetype": "text/x-python",
   "name": "python",
   "nbconvert_exporter": "python",
   "pygments_lexer": "ipython3",
   "version": "3.6.8"
  }
 },
 "nbformat": 4,
 "nbformat_minor": 2
}
