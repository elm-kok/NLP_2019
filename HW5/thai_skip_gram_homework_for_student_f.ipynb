{
 "cells": [
  {
   "cell_type": "markdown",
   "metadata": {},
   "source": [
    "# Homework 3: Word Embedding\n",
    "\n",
    "In this exercise, you will work on the skip-gram neural network architecture for Word2Vec. You will be using Keras to train your model. \n",
    "\n",
    "The sample code for skip-gram model is given. Your job is to incorporate the tokenizer model that you created in HomeWork-1 to tokenize raw text and turn it into word vectors.\n",
    "\n",
    "You must complete the following tasks:\n",
    "1. Read/clean text files\n",
    "2. Indexing (Assign a number to each word)\n",
    "3. Create skip-grams (inputs for your model)\n",
    "4. Create the skip-gram neural network model\n",
    "5. Visualization\n",
    "6. Evaluation (Using pre-trained, not using pre-trained)\n",
    "    (classify topic from 4 categories) \n",
    "    \n",
    "This notebook assumes you have already installed Tensorflow and Keras with python3 and had GPU enabled. If you run this exercise on GCloud using the provided disk image you are all set.\n",
    "\n",
    "As a reminder,\n",
    "\n",
    "### Don't forget to shut down your instance on Gcloud when you are not using it ###\n"
   ]
  },
  {
   "cell_type": "code",
   "execution_count": 1,
   "metadata": {},
   "outputs": [
    {
     "name": "stderr",
     "output_type": "stream",
     "text": [
      "Using TensorFlow backend.\n"
     ]
    }
   ],
   "source": [
    "%matplotlib inline\n",
    "import numpy as np\n",
    "import pandas as pd\n",
    "import math\n",
    "import glob\n",
    "import re\n",
    "import random\n",
    "import collections\n",
    "import os\n",
    "import sys\n",
    "from keras.preprocessing import sequence\n",
    "from keras.models import Sequential, Model\n",
    "from keras.layers import GRU, Dropout\n",
    "from keras.models import load_model\n",
    "from keras.layers import Embedding, Reshape, Activation, Input, Dense, Masking\n",
    "from keras.layers.merge import Dot\n",
    "from keras.utils import np_utils\n",
    "from keras.utils.data_utils import get_file\n",
    "from keras.utils.np_utils import to_categorical\n",
    "from keras.preprocessing.sequence import skipgrams\n",
    "from keras.preprocessing import sequence\n",
    "from keras import backend as K\n",
    "from keras.optimizers import Adam\n",
    "\n",
    "\n",
    "random.seed(42)"
   ]
  },
  {
   "cell_type": "markdown",
   "metadata": {},
   "source": [
    "## Step 1: Read/clean text files\n",
    "\n",
    "The given code can be used to processed the pre-tokenzied text file from the wikipedia corpus. In your homework, you must replace those text files with raw text files.  You must use your own tokenizer to process your text files"
   ]
  },
  {
   "cell_type": "code",
   "execution_count": 2,
   "metadata": {},
   "outputs": [],
   "source": [
    "#Step 1: read the wikipedia text file\n",
    "cwd = os.getcwd()\n",
    "with open(cwd+\"/corpora/wiki/thwiki_chk.txt\") as f:\n",
    "    raw_text = [] \n",
    "    #The text file is already tokenized BUT...\n",
    "    #we've replaced all the spaces between words, so you have to use your tokenizer.\n",
    "    raw_text.extend(re.sub(r\"\\s+\",\"\",f.read()))\n",
    "    #since the wiki file is very large, we will only use 1/20 of the whole wiki file in this homework\n",
    "    # if you have enough memeory and want to add more training data, please feel free to edit this code\n",
    "    # to include more data\n",
    "    raw_text = raw_text[:len(raw_text)//20]"
   ]
  },
  {
   "cell_type": "code",
   "execution_count": 3,
   "metadata": {},
   "outputs": [
    {
     "name": "stdout",
     "output_type": "stream",
     "text": [
      "['ห', 'น', '้', 'า', 'ห', 'ล', 'ั', 'ก', 'ว', 'ิ']\n"
     ]
    }
   ],
   "source": [
    "print(raw_text[0:10])"
   ]
  },
  {
   "cell_type": "code",
   "execution_count": 4,
   "metadata": {},
   "outputs": [],
   "source": [
    "# Create a character map\n",
    "CHARS = [\n",
    "  '\\n', ' ', '!', '\"', '#', '$', '%', '&', \"'\", '(', ')', '*', '+',\n",
    "  ',', '-', '.', '/', '0', '1', '2', '3', '4', '5', '6', '7', '8',\n",
    "  '9', ':', ';', '<', '=', '>', '?', '@', 'A', 'B', 'C', 'D', 'E',\n",
    "  'F', 'G', 'H', 'I', 'J', 'K', 'L', 'M', 'N', 'O', 'P', 'Q', 'R',\n",
    "  'S', 'T', 'U', 'V', 'W', 'X', 'Y', 'Z', '[', '\\\\', ']', '^', '_',\n",
    "  'a', 'b', 'c', 'd', 'e', 'f', 'g', 'h', 'i', 'j', 'k', 'l', 'm',\n",
    "  'n', 'o', 'other', 'p', 'q', 'r', 's', 't', 'u', 'v', 'w', 'x', 'y',\n",
    "  'z', '}', '~', 'ก', 'ข', 'ฃ', 'ค', 'ฅ', 'ฆ', 'ง', 'จ', 'ฉ', 'ช',\n",
    "  'ซ', 'ฌ', 'ญ', 'ฎ', 'ฏ', 'ฐ', 'ฑ', 'ฒ', 'ณ', 'ด', 'ต', 'ถ', 'ท',\n",
    "  'ธ', 'น', 'บ', 'ป', 'ผ', 'ฝ', 'พ', 'ฟ', 'ภ', 'ม', 'ย', 'ร', 'ฤ',\n",
    "  'ล', 'ว', 'ศ', 'ษ', 'ส', 'ห', 'ฬ', 'อ', 'ฮ', 'ฯ', 'ะ', 'ั', 'า',\n",
    "  'ำ', 'ิ', 'ี', 'ึ', 'ื', 'ุ', 'ู', 'ฺ', 'เ', 'แ', 'โ', 'ใ', 'ไ',\n",
    "  'ๅ', 'ๆ', '็', '่', '้', '๊', '๋', '์', 'ํ', '๐', '๑', '๒', '๓',\n",
    "  '๔', '๕', '๖', '๗', '๘', '๙', '‘', '’', '\\ufeff'\n",
    "]\n",
    "CHARS_MAP = {v: k for k, v in enumerate(CHARS)}\n",
    "char = np.array(CHARS)"
   ]
  },
  {
   "cell_type": "code",
   "execution_count": 5,
   "metadata": {},
   "outputs": [],
   "source": [
    "def create_n_gram_df(df, n_pad):\n",
    "  \"\"\"\n",
    "  Given an input dataframe, create a feature dataframe of shifted characters\n",
    "  Input:\n",
    "  df: timeseries of size (N)\n",
    "  n_pad: the number of context. For a given character at position [idx],\n",
    "    character at position [idx-n_pad/2 : idx+n_pad/2] will be used \n",
    "    as features for that character.\n",
    "  \n",
    "  Output:\n",
    "  dataframe of size (N * n_pad) which each row contains the character, \n",
    "    n_pad_2 characters to the left, and n_pad_2 characters to the right\n",
    "    of that character.\n",
    "  \"\"\"\n",
    "  n_pad_2 = int((n_pad - 1)/2)\n",
    "  for i in range(n_pad_2):\n",
    "      df['char-{}'.format(i+1)] = df['char'].shift(i + 1)\n",
    "      df['char{}'.format(i+1)] = df['char'].shift(-i - 1)\n",
    "  return df[n_pad_2: -n_pad_2]\n",
    "\n",
    "\n",
    "def prepare_wiki_feature(raw_text_input):\n",
    "    \"\"\"\n",
    "    Transform the path to a directory containing processed files \n",
    "    into a feature matrix and output array\n",
    "    \"\"\"\n",
    "    # we use padding equals 21 here to consider 10 characters to the left\n",
    "    # and 10 characters to the right as features for the character in the middle\n",
    "    n_pad = 21\n",
    "    n_pad_2 = int((n_pad - 1)/2)\n",
    "    pad = [{'char': ' ', 'target': True}]\n",
    "    df_pad = pd.DataFrame(pad * n_pad_2)\n",
    "\n",
    "    df = []\n",
    "\n",
    "    df.append(pd.DataFrame(  {'char': raw_text_input}))\n",
    "\n",
    "    df = pd.concat(df)\n",
    "    # pad with empty string feature\n",
    "    df = pd.concat((df_pad, df, df_pad))\n",
    "\n",
    "    # map characters to numbers, use 'other' if not in the predefined character set.\n",
    "    df['char'] = df['char'].map(lambda x: CHARS_MAP.get(x, 80))\n",
    "\n",
    "    # Use nearby characters as features\n",
    "    df_with_context = create_n_gram_df(df, n_pad=n_pad)\n",
    "\n",
    "    char_row = ['char' + str(i + 1) for i in range(n_pad_2)] + \\\n",
    "             ['char-' + str(i + 1) for i in range(n_pad_2)] + ['char']\n",
    "\n",
    "    # convert pandas dataframe to numpy array to feed to the model\n",
    "    x_char = df_with_context[char_row].as_matrix()\n",
    "\n",
    "    return x_char\n",
    "\n",
    "#A function for displaying our features in text\n",
    "def print_features(tfeature,index):\n",
    "    feature = np.array(tfeature[index],dtype=int).reshape(21,1)\n",
    "    #Convert to string\n",
    "    char_list = char[feature]\n",
    "    left = ''.join(reversed(char_list[10:20].reshape(10))).replace(\" \", \"\")\n",
    "    center = ''.join(char_list[20])\n",
    "    right =  ''.join(char_list[0:10].reshape(10)).replace(\" \", \"\")\n",
    "    word = ''.join([left,' ',center,' ',right])\n",
    "    print(center + ': ' + word )"
   ]
  },
  {
   "cell_type": "markdown",
   "metadata": {},
   "source": [
    "## <font color='blue'>Homework Question1:</font>\n",
    "<font color='blue'>Use your own tokenizer (aka word segmentation model)  to define word boundaries and split the given text file into words.  Capture the screenshot of your code segment that loads the word segmentation model and uses the model to segment the text files. </font>"
   ]
  },
  {
   "cell_type": "raw",
   "metadata": {},
   "source": [
    "# TODO#1 \n",
    "import deepcut\n",
    "tokens=deepcut.tokenize(\"\".join(raw_text))"
   ]
  },
  {
   "cell_type": "code",
   "execution_count": null,
   "metadata": {},
   "outputs": [],
   "source": []
  },
  {
   "cell_type": "code",
   "execution_count": 6,
   "metadata": {},
   "outputs": [],
   "source": [
    "# TODO#1 \n",
    "from keras.layers import Conv1D, MaxPooling1D, Embedding, TimeDistributed\n",
    "from keras.layers import Activation, Dropout, Flatten, Dense, Input,GRU, Bidirectional\n",
    "#load your word segmentation model here!\n",
    "def get_your_nn():\n",
    "    max_features = len(CHARS)+1\n",
    "    max_len=21\n",
    "    #replace \"pass\" with code for your neural net\n",
    "    input1 = Input(shape=(21,))\n",
    "    x = Embedding(max_features, 32, input_length=max_len)(input1)\n",
    "    x = Conv1D(100, 5, strides = 1, padding='same', activation='relu')(x)\n",
    "    x = TimeDistributed(Dense(5, activation='relu'))(x)\n",
    "    x = Flatten()(x)\n",
    "    x = Dense(100, activation='relu')(x)\n",
    "    out = Dense(1, activation='sigmoid')(x)\n",
    "\n",
    "    model = Model(inputs=input1, outputs=out)\n",
    "    model.compile(optimizer=Adam(),\n",
    "                loss='binary_crossentropy',\n",
    "                metrics=['acc'])\n",
    "    return model\n",
    "\n",
    "\n",
    "model = get_your_nn()\n",
    "model.load_weights(\"/media/kok/New Volume/NLP/nlp_2019/HW5/model_conv1d_nn.h5\")\n",
    "#load weights here/ or alternatively you can also load your entire model"
   ]
  },
  {
   "cell_type": "code",
   "execution_count": 7,
   "metadata": {},
   "outputs": [
    {
     "name": "stderr",
     "output_type": "stream",
     "text": [
      "/home/kok/anaconda3/envs/tf/lib/python3.6/site-packages/ipykernel_launcher.py:40: FutureWarning: Sorting because non-concatenation axis is not aligned. A future version\n",
      "of pandas will change to not sort by default.\n",
      "\n",
      "To accept the future behavior, pass 'sort=False'.\n",
      "\n",
      "To retain the current behavior and silence the warning, pass 'sort=True'.\n",
      "\n",
      "/home/kok/anaconda3/envs/tf/lib/python3.6/site-packages/ipykernel_launcher.py:52: FutureWarning: Method .as_matrix will be removed in a future version. Use .values instead.\n"
     ]
    },
    {
     "name": "stdout",
     "output_type": "stream",
     "text": [
      " data shape:  (7592023, 21)\n"
     ]
    }
   ],
   "source": [
    "x_char= prepare_wiki_feature(raw_text)\n",
    "#feel free to edit prepare_wiki_feature if your model has different input format\n",
    "# As a sanity check, we print out the size of the data.\n",
    "print(' data shape: ', x_char.shape)"
   ]
  },
  {
   "cell_type": "code",
   "execution_count": 8,
   "metadata": {},
   "outputs": [],
   "source": [
    "def char_to_word(raw_text, y_pred):\n",
    "    \"\"\" add spaces between words in the raw text based on your prediction\n",
    "    \"\"\"\n",
    "    split_text=\"\"\n",
    "    for char, y in zip(raw_text,y_pred):\n",
    "        if y == 1:\n",
    "            split_text+=\" \"\n",
    "            split_text+=char\n",
    "        else:\n",
    "            split_text+=char\n",
    "    return split_text.split(\" \")"
   ]
  },
  {
   "cell_type": "code",
   "execution_count": 9,
   "metadata": {},
   "outputs": [
    {
     "name": "stdout",
     "output_type": "stream",
     "text": [
      "[[118. 160. 142. ...   1.   1. 135.]\n",
      " [160. 142. 135. ...   1.   1. 118.]\n",
      " [142. 135. 130. ...   1.   1. 160.]\n",
      " ...\n",
      " [ 94. 130.   1. ... 131. 118. 119.]\n",
      " [130.   1.   1. ... 142. 131.  94.]\n",
      " [  1.   1.   1. ... 127. 142. 130.]]\n"
     ]
    }
   ],
   "source": [
    "print(x_char)"
   ]
  },
  {
   "cell_type": "code",
   "execution_count": 20,
   "metadata": {},
   "outputs": [],
   "source": [
    "####TOKENIZATION\n",
    "###THIS MIGHT TAKE ABOUT 10 MINS on feed forward models\n",
    "y_pred = model.predict(x_char)\n",
    "prob_to_class = lambda p: 1 if p[0]>=0.5 else 0\n",
    "y_pred = np.apply_along_axis(prob_to_class,1,y_pred)\n",
    "#del x_char #clear up some memory"
   ]
  },
  {
   "cell_type": "code",
   "execution_count": 21,
   "metadata": {},
   "outputs": [
    {
     "name": "stdout",
     "output_type": "stream",
     "text": [
      "['', 'หน้า', 'หลักวิกิพีเดีย', 'ดำเนิน', 'การ', 'โดย', 'มูลนิธิวิกิมี', 'เดีย', 'องค์กร', 'ไม่', 'แสวง', 'ผล', 'กำไร', 'ผู้', 'ดำเนิน', 'การ', 'อีก', 'หลาย', 'ได้แก่__NOED', 'ITSECTION__ดาราศาสตร์', 'ดาราศาสตร์', 'คือ', 'วิชาวิทยาศาสตร์', 'ที่', 'ศึกษา', 'วัตถุ', 'ท้อง', 'ฟ้า', '(', 'อาทิ', 'ดาวฤกษ์', 'ดาวเคราะห์', 'ดาวหาง', 'และ', 'ดาราจักร', ')', 'รวม', 'ทั้ง', 'ปรากฏการณ์', 'ทาง', 'ธรรมชาติ', 'ต่างๆ', 'ที่', 'เกิด', 'ขึ้น', 'จาก', 'นอก', 'ชั้น', 'บรรยากาศ', 'ของ', 'โลก', 'โดย', 'ศึกษา', 'เกี่ยว', 'กับ', 'วิวัฒนา', 'การ', 'ลักษณะ', 'ทาง', 'กาย', 'ภาพ', 'ทาง', 'เคมี', 'ทาง', 'อุตุนิยมวิทยา', 'และ', 'การ', 'เคลื่อน', 'ที่', 'ของ', 'วัตถุ', 'ท้อง', 'ฟ้า', 'ตลอด', 'จน', 'ถึง', 'การ', 'กำเนิด', 'และ', 'วิวัฒนาการ', 'ของ', 'เอกภพดาราศาสตร์', 'เป็น', 'หนึ่ง', 'ใน', 'สาขา', 'ของ', 'วิทยาศาสตร์', 'ที่', 'เก่า', 'แก่', 'ที่', 'สุด', 'นัก', 'ดาราศาสตร์', 'ใน', 'วัฒนธรรม', 'โบราณ', 'สังเกตการณ์', 'ดวง']\n"
     ]
    }
   ],
   "source": [
    "tokens= char_to_word(raw_text, y_pred)\n",
    "#print out first 100 words for sanity check\n",
    "print(tokens[0:100])"
   ]
  },
  {
   "cell_type": "code",
   "execution_count": 22,
   "metadata": {},
   "outputs": [
    {
     "name": "stdout",
     "output_type": "stream",
     "text": [
      "total word count: 1816353\n"
     ]
    }
   ],
   "source": [
    "print(\"total word count:\", len(tokens))"
   ]
  },
  {
   "cell_type": "markdown",
   "metadata": {},
   "source": [
    "## Step 2: Indexing (Assign a number to each word)\n",
    "\n",
    "The code below generates an indexed dataset(each word is represented by a number), a dictionary, a reversed dictionary\n",
    "\n",
    "## <font color='blue'>Homework Question 2:</font>\n",
    "<font color='blue'>“UNK” is often used to represent an unknown word (a word which does not exist in your dictionary/training set). You can also represent a rare word with this token as well.  How do you define a rare word in your program? Explain in your own words and capture the screenshot of your code segment that is a part of this process</font>\n",
    "\n",
    " + <font color='blue'>edit or replace create_index with your own code to set a threshold for rare words and replace them with \"UNK\"</font>"
   ]
  },
  {
   "cell_type": "code",
   "execution_count": 27,
   "metadata": {},
   "outputs": [
    {
     "name": "stdout",
     "output_type": "stream",
     "text": [
      "[('ที่', 48410), ('การ', 44724), ('ใน', 43794), ('เป็น', 36821), ('และ', 35591), ('ของ', 34073), ('มี', 30837), ('ได้', 25500), ('\"', 18177), (')', 17525)]\n"
     ]
    }
   ],
   "source": [
    "#step 2:Build dictionary and build a dataset(replace each word with its index)\n",
    "def create_index(words):\n",
    "    # TODO#2:edit or replace this function\n",
    "    word_count = list()\n",
    "    #use set and len to get the number of unique words\n",
    "    word_count.extend(collections.Counter(words).most_common(len(set(words))))\n",
    "    #include a token for unknown word\n",
    "    #word_count.append((\"UNK\",0))\n",
    "    #print out 10 most frequent words\n",
    "    print(word_count[:10])\n",
    "    dictionary = dict()\n",
    "    dictionary[\"for_keras_zero_padding\"] = 0\n",
    "    for word in word_count:\n",
    "        if word[1]>1:\n",
    "            dictionary[word[0]] = len(dictionary)\n",
    "    dictionary[\"UNK\"]=len(dictionary)\n",
    "    reverse_dictionary = dict(zip(dictionary.values(), dictionary.keys()))\n",
    "    data = list()\n",
    "    for word in words:\n",
    "        if word in dictionary:\n",
    "            data.append(dictionary[word])\n",
    "        else:\n",
    "            data.append(dictionary[\"UNK\"])\n",
    "    return data,dictionary, reverse_dictionary\n",
    "\n",
    "dataset,dictionary, reverse_dictionary=create_index(tokens)\n"
   ]
  },
  {
   "cell_type": "code",
   "execution_count": 28,
   "metadata": {},
   "outputs": [
    {
     "name": "stdout",
     "output_type": "stream",
     "text": [
      "output sample (dataset): [26452, 172, 26452, 276, 2, 17, 7769, 848, 552, 25]\n",
      "output sample (dictionary): {'for_keras_zero_padding': 0, 'ที่': 1, 'การ': 2, 'ใน': 3, 'เป็น': 4, 'และ': 5, 'ของ': 6, 'มี': 7, 'ได้': 8, '\"': 9}\n",
      "output sample (reverse dictionary): {0: 'for_keras_zero_padding', 1: 'ที่', 2: 'การ', 3: 'ใน', 4: 'เป็น', 5: 'และ', 6: 'ของ', 7: 'มี', 8: 'ได้', 9: '\"'}\n"
     ]
    }
   ],
   "source": [
    "print(\"output sample (dataset):\",dataset[:10])\n",
    "print(\"output sample (dictionary):\",{k: dictionary[k] for k in list(dictionary)[:10]})\n",
    "print(\"output sample (reverse dictionary):\",{k: reverse_dictionary[k] for k in list(reverse_dictionary)[:10]})"
   ]
  },
  {
   "cell_type": "code",
   "execution_count": 29,
   "metadata": {},
   "outputs": [
    {
     "data": {
      "text/plain": [
       "26453"
      ]
     },
     "execution_count": 29,
     "metadata": {},
     "output_type": "execute_result"
    }
   ],
   "source": [
    "len(dictionary)"
   ]
  },
  {
   "cell_type": "markdown",
   "metadata": {},
   "source": [
    "# Step3: Create skip-grams (inputs for your model)\n",
    "Keras has a skipgrams-generator, the cell below shows us how it generates skipgrams \n",
    "\n",
    "## <font color='blue'>Homework Question 3:</font>\n",
    "<font color='blue'>The negative samples are sampled from sampling_table.  Look through Keras source code to find out how they sample negative samples. Discuss the sampling technique taught in class and compare it to the Keras source code.</font>\n",
    "\n",
    "ANSWER:\n",
    "code from keras https://github.com/keras-team/keras-preprocessing/blob/master/keras_preprocessing/sequence.py\n",
    "def make_sampling_table(size, sampling_factor=1e-5):\n",
    "\n",
    "gamma = 0.577\n",
    "rank = np.arange(size)\n",
    "rank[0] = 1\n",
    "inv_fq = rank * (np.log(rank) + gamma) + 0.5 - 1. / (12. * rank)\n",
    "f = sampling_factor * inv_fq\n",
    "\n",
    "return np.minimum(1., f / np.sqrt(f))\n",
    "\n",
    "Compare with Euler-Mascheroni constant and 1 to make the result not less than 1."
   ]
  },
  {
   "cell_type": "code",
   "execution_count": 30,
   "metadata": {},
   "outputs": [
    {
     "name": "stdout",
     "output_type": "stream",
     "text": [
      "[[7769, 552], [7769, 12428], [26452, 276], [26452, 2], [26452, 172], [7769, 2], [26452, 6102], [7769, 15758], [7769, 848], [7769, 11468], [7769, 17], [26452, 19949], [7769, 276], [26452, 276], [26452, 26452], [7769, 18593], [26452, 14310], [26452, 324], [26452, 20433], [7769, 10962], [26452, 17], [7769, 4535], [26452, 26452], [26452, 542], [26452, 172], [26452, 22318], [7769, 25], [26452, 6588]] [1, 0, 1, 1, 1, 1, 0, 0, 1, 0, 1, 0, 1, 1, 1, 0, 0, 0, 0, 0, 1, 0, 1, 0, 1, 0, 1, 0]\n",
      "มูลนิธิวิกิมี องค์กร\n",
      "มูลนิธิวิกิมี ชื้อ\n",
      "UNK ดำเนิน\n",
      "UNK การ\n",
      "UNK หน้า\n",
      "มูลนิธิวิกิมี การ\n",
      "UNK อาเจียน\n",
      "มูลนิธิวิกิมี ราชสักการะ\n"
     ]
    }
   ],
   "source": [
    "# Step 3: Create data samples\n",
    "vocab_size = len(dictionary)\n",
    "skip_window = 3       # How many words to consider left and right.\n",
    "\n",
    "sample_set= dataset[:10]\n",
    "sampling_table = sequence.make_sampling_table(vocab_size)\n",
    "#TO DO#3 check out keras source code and find out  their sampling technique works\n",
    "couples, labels = skipgrams(sample_set, vocab_size, window_size=skip_window, sampling_table=sampling_table)\n",
    "word_target, word_context = zip(*couples)\n",
    "word_target = np.array(word_target, dtype=\"int32\")\n",
    "word_context = np.array(word_context, dtype=\"int32\")\n",
    "\n",
    "print(couples, labels)\n",
    "\n",
    "for i in range(8):\n",
    "    print(reverse_dictionary[couples[i][0]],reverse_dictionary[couples[i][1]])\n",
    "#They sample by use the words between [i-skip_window,i+1+skip_window], i is the index of the center word.\n",
    "#As the output show pair of positive(1) and negative(0) with the center word."
   ]
  },
  {
   "cell_type": "markdown",
   "metadata": {},
   "source": [
    "# Step 4: create the skip-gram model\n",
    "## <font color='blue'>Homework Question 4:</font>\n",
    " <font color='blue'>Q4:  In your own words, discuss why Sigmoid is chosen as the activation function in the  skip-gram model.</font>\n",
    " \n",
    " ANSWER::\n",
    " Because sigmoid function map output to be between [0,1] it match for positive(1) and negative(0) sampling as skip-gram wish."
   ]
  },
  {
   "cell_type": "code",
   "execution_count": 31,
   "metadata": {},
   "outputs": [
    {
     "name": "stdout",
     "output_type": "stream",
     "text": [
      "__________________________________________________________________________________________________\n",
      "Layer (type)                    Output Shape         Param #     Connected to                     \n",
      "==================================================================================================\n",
      "input_10 (InputLayer)           (None, 1)            0                                            \n",
      "__________________________________________________________________________________________________\n",
      "input_11 (InputLayer)           (None, 1)            0                                            \n",
      "__________________________________________________________________________________________________\n",
      "embedding_8 (Embedding)         (None, 1, 32)        846496      input_10[0][0]                   \n",
      "__________________________________________________________________________________________________\n",
      "embedding_9 (Embedding)         (None, 1, 32)        846496      input_11[0][0]                   \n",
      "__________________________________________________________________________________________________\n",
      "dot_1 (Dot)                     (None, 1, 1)         0           embedding_8[0][0]                \n",
      "                                                                 embedding_9[0][0]                \n",
      "__________________________________________________________________________________________________\n",
      "reshape_1 (Reshape)             (None, 1)            0           dot_1[0][0]                      \n",
      "__________________________________________________________________________________________________\n",
      "activation_1 (Activation)       (None, 1)            0           reshape_1[0][0]                  \n",
      "==================================================================================================\n",
      "Total params: 1,692,992\n",
      "Trainable params: 1,692,992\n",
      "Non-trainable params: 0\n",
      "__________________________________________________________________________________________________\n"
     ]
    }
   ],
   "source": [
    "#reference: https://github.com/nzw0301/keras-examples/blob/master/Skip-gram-with-NS.ipynb\n",
    "dim_embedddings = 32\n",
    "V= len(dictionary)\n",
    "\n",
    "#step1: select the embedding of the target word from W\n",
    "w_inputs = Input(shape=(1, ), dtype='int32')\n",
    "w = Embedding(V, dim_embedddings)(w_inputs)\n",
    "\n",
    "#step2: select the embedding of the context word from C\n",
    "c_inputs = Input(shape=(1, ), dtype='int32')\n",
    "c  = Embedding(V, dim_embedddings)(c_inputs)\n",
    "\n",
    "#step3: compute the dot product:c_k*v_j\n",
    "o = Dot(axes=2)([w, c])\n",
    "o = Reshape((1,), input_shape=(1, 1))(o)\n",
    "\n",
    "#step4: normailize dot products into probability\n",
    "o = Activation('sigmoid')(o)\n",
    "#TO DO#4 Question: Why sigmoid?\n",
    "\n",
    "SkipGram = Model(inputs=[w_inputs, c_inputs], outputs=o)\n",
    "SkipGram.summary()\n",
    "opt=Adam(lr=0.01)\n",
    "SkipGram.compile(loss='binary_crossentropy', optimizer=opt)"
   ]
  },
  {
   "cell_type": "code",
   "execution_count": 32,
   "metadata": {
    "scrolled": true
   },
   "outputs": [
    {
     "name": "stdout",
     "output_type": "stream",
     "text": [
      "0.69315255 0\n",
      "0.69311297 100000\n",
      "0.6930566 200000\n",
      "0.69296044 300000\n",
      "0.6927907 400000\n",
      "0.6925052 500000\n",
      "0.6920577 600000\n",
      "0.6913677 700000\n",
      "0.69035643 800000\n",
      "0.68893456 900000\n",
      "0.6869728 1000000\n",
      "0.68435776 1100000\n",
      "0.68096584 1200000\n",
      "0.67663103 1300000\n",
      "0.6712367 1400000\n",
      "0.6646541 1500000\n",
      "0.6567096 1600000\n",
      "0.64729506 1700000\n",
      "0.6364021 0\n",
      "0.62385374 100000\n",
      "0.6095955 200000\n",
      "0.59359974 300000\n",
      "0.5761085 400000\n",
      "0.5569161 500000\n",
      "0.5363994 600000\n",
      "0.514475 700000\n",
      "0.4917256 800000\n",
      "0.46784323 900000\n",
      "0.4437078 1000000\n",
      "0.41948053 1100000\n",
      "0.39521348 1200000\n",
      "0.37149745 1300000\n",
      "0.34832513 1400000\n",
      "0.32650286 1500000\n",
      "0.3055695 1600000\n",
      "0.2870006 1700000\n",
      "0.26924673 0\n",
      "0.25297016 100000\n",
      "0.23868898 200000\n",
      "0.22627656 300000\n",
      "0.21475299 400000\n",
      "0.20536043 500000\n",
      "0.19646282 600000\n",
      "0.18910304 700000\n",
      "0.18278968 800000\n",
      "0.17670807 900000\n",
      "0.17265832 1000000\n",
      "0.16860944 1100000\n",
      "0.16431217 1200000\n",
      "0.16097848 1300000\n",
      "0.1582198 1400000\n",
      "0.1558951 1500000\n",
      "0.15310946 1600000\n",
      "0.1510955 1700000\n",
      "0.14962852 0\n",
      "0.14826156 100000\n",
      "0.14635393 200000\n",
      "0.14501055 300000\n",
      "0.14442664 400000\n",
      "0.14295138 500000\n",
      "0.14156663 600000\n",
      "0.14052 700000\n",
      "0.14037004 800000\n",
      "0.13886926 900000\n",
      "0.13776153 1000000\n",
      "0.13738997 1100000\n",
      "0.13660383 1200000\n",
      "0.13589628 1300000\n",
      "0.13551745 1400000\n",
      "0.13509119 1500000\n",
      "0.13418381 1600000\n",
      "0.1338805 1700000\n",
      "0.13325532 0\n",
      "0.13244104 100000\n",
      "0.13241716 200000\n",
      "0.13228394 300000\n",
      "0.13176101 400000\n",
      "0.13114823 500000\n",
      "0.13114555 600000\n",
      "0.1305351 700000\n",
      "0.1299926 800000\n",
      "0.12987576 900000\n",
      "0.12958704 1000000\n",
      "0.12933841 1100000\n",
      "0.12887783 1200000\n",
      "0.12890473 1300000\n",
      "0.12829289 1400000\n",
      "0.12825729 1500000\n",
      "0.12776694 1600000\n",
      "0.12772846 1700000\n"
     ]
    }
   ],
   "source": [
    "for _ in range(5):\n",
    "    prev_i=0\n",
    "    for i in range(len(dataset)//100000):\n",
    "        data, labels = skipgrams(sequence=dataset[prev_i:i+100000], vocabulary_size=V, window_size=2, negative_samples=4.)\n",
    "        x = [np.array(x) for x in zip(*data)]\n",
    "        y = np.array(labels, dtype=np.int32)\n",
    "        if x:\n",
    "            loss = SkipGram.train_on_batch(x, y)\n",
    "        \n",
    "        print(loss,i*100000)\n"
   ]
  },
  {
   "cell_type": "code",
   "execution_count": 33,
   "metadata": {},
   "outputs": [],
   "source": [
    "SkipGram.save_weights('./my_skipgram32_weights-hw3.h5')"
   ]
  },
  {
   "cell_type": "code",
   "execution_count": 34,
   "metadata": {
    "scrolled": true
   },
   "outputs": [
    {
     "name": "stdout",
     "output_type": "stream",
     "text": [
      "[[-0.02053103  0.04455167  0.02994002 ... -0.01762766  0.00377395\n",
      "  -0.00382299]\n",
      " [-0.55300057 -0.5825061   0.83000135 ... -0.5521133   0.5719929\n",
      "  -0.56791157]\n",
      " [-0.53564644 -0.5458234  -0.67072356 ... -0.4865693   0.5039331\n",
      "  -0.5339465 ]\n",
      " ...\n",
      " [-0.04883694  0.02142172 -0.03570038 ...  0.01173158  0.04386378\n",
      "  -0.00206417]\n",
      " [-0.04115192 -0.03509936  0.03464942 ...  0.01595313 -0.04619787\n",
      "   0.01427666]\n",
      " [-0.51167446 -0.46771702  1.0060718  ... -0.46135482  0.5221472\n",
      "  -0.50881314]]\n"
     ]
    }
   ],
   "source": [
    "#Get weight of the embedding layer\n",
    "final_embeddings=SkipGram.get_weights()[0]\n",
    "print(final_embeddings)"
   ]
  },
  {
   "cell_type": "markdown",
   "metadata": {},
   "source": [
    "# Step 5: Intrinsic Evaluation: Word Vector Analogies\n",
    "## <font color='blue'>Homework Question 5: </font>\n",
    "<font color='blue'> Read section 2.1 and 2.3 in this [lecture note](http://web.stanford.edu/class/cs224n/readings/cs224n-2019-notes02-wordvecs2.pdf). Come up with 10 semantic analogy examples and report results produced by your word embeddings </font>\n"
   ]
  },
  {
   "cell_type": "code",
   "execution_count": 35,
   "metadata": {},
   "outputs": [],
   "source": [
    "# TODO#5:Come up with 10 semantic analogy examples and report results produced by your word embeddings \n",
    "#and tell us what you observe "
   ]
  },
  {
   "cell_type": "code",
   "execution_count": 36,
   "metadata": {},
   "outputs": [],
   "source": [
    "def cosine_sim(a,b):\n",
    "    return (a.dot(b))/(np.linalg.norm(a)*np.linalg.norm(b))\n",
    "\n",
    "def cal_tmp_d(xa,xb,xc,xi):\n",
    "    xa = np.array(xa)\n",
    "    xb = np.array(xb)\n",
    "    xc = np.array(xc)\n",
    "    xi = np.array(xi)\n",
    "    tmp_x = xb-xa+xc\n",
    "    return (tmp_x.dot(xi))/np.sqrt(tmp_x.dot(tmp_x))\n",
    "\n",
    "def intrincsic_evaluate(s1,s2,s3):\n",
    "    if s1 not in dictionary:\n",
    "        print(\"{} not in dictionary\".format(s1))\n",
    "        return\n",
    "    if s2 not in dictionary:\n",
    "        print(\"{} not in dictionary\".format(s2))\n",
    "        return\n",
    "    if s3 not in dictionary:\n",
    "        print(\"{} not in dictionary\".format(s3))\n",
    "        return\n",
    "    \n",
    "    s1_index = dictionary[s1]\n",
    "    s1_vector = final_embeddings[s1_index]\n",
    "    \n",
    "    s2_index = dictionary[s2]\n",
    "    s2_vector = final_embeddings[s2_index]\n",
    "    \n",
    "    s3_index = dictionary[s3]\n",
    "    s3_vector = final_embeddings[s3_index]\n",
    "    \n",
    "    maximum_d = -100000000\n",
    "    maximum_index = 0\n",
    "    \n",
    "    # 0 is padding of keras\n",
    "    # len(dictionary) is UNK\n",
    "    # start from 2\n",
    "    for i in range(2,len(dictionary)):\n",
    "        #if word i is same is a,b,c just skip it\n",
    "        if s1_index == i or s2_index == i or s3_index == i:\n",
    "            continue\n",
    "        si_vector = final_embeddings[i]\n",
    "        # start state if maximum index = 0\n",
    "        if maximum_index == 0:\n",
    "            maximum_d = cal_tmp_d(s1_vector,s2_vector,s3_vector,si_vector)\n",
    "            maximum_index = i\n",
    "            continue\n",
    "            \n",
    "        # geneal case compute each d to maximize argmax d\n",
    "        tmp_d = cal_tmp_d(s1_vector,s2_vector,s3_vector,si_vector)\n",
    "        if (maximum_d < tmp_d):\n",
    "            maximum_d = tmp_d\n",
    "            maximum_index = i\n",
    "    return reverse_dictionary[maximum_index],maximum_index\n",
    "        "
   ]
  },
  {
   "cell_type": "code",
   "execution_count": 69,
   "metadata": {},
   "outputs": [
    {
     "name": "stdout",
     "output_type": "stream",
     "text": [
      "0.9797359\n",
      "0.17842874\n",
      "0.08777123\n",
      "0.9948006\n"
     ]
    }
   ],
   "source": [
    "print(cosine_sim(final_embeddings[dictionary[\"แย่\"]], final_embeddings[dictionary[\"ดี\"]])) #4 good 2 bad 2\n",
    "print(cosine_sim(final_embeddings[dictionary[\"ผลไม้\"]], final_embeddings[dictionary[\"กล้วย\"]]))\n",
    "print(cosine_sim(final_embeddings[dictionary[\"แย่\"]], final_embeddings[dictionary[\"บ้า\"]]))\n",
    "print(cosine_sim(final_embeddings[dictionary[\"น่า\"]], final_embeddings[dictionary[\"รัก\"]]))"
   ]
  },
  {
   "cell_type": "code",
   "execution_count": 71,
   "metadata": {},
   "outputs": [
    {
     "name": "stdout",
     "output_type": "stream",
     "text": [
      "('นี้', 23)\n",
      "('การ', 2)\n",
      "('งาน', 56)\n",
      "('พ.ศ.', 42)\n",
      "('ทริค', 10544)\n",
      "('สิ่ง', 150)\n",
      "('โดรา', 1654)\n",
      "('ทริค', 10544)\n",
      "('สถานีวิทยุบีบีซี', 21555)\n",
      "('นี้', 23)\n"
     ]
    }
   ],
   "source": [
    "print(intrincsic_evaluate(\"แย่\",\"ร้าย\",\"ดี\")) #10\n",
    "print(intrincsic_evaluate(\"วัฒนธรรม\",\"สังเกต\",\"วัฒนธรรม\"))\n",
    "print(intrincsic_evaluate(\"วิทยาศาสตร์\",\"จำเป็น\",\"คณิตศาสตร์\"))\n",
    "print(intrincsic_evaluate(\"หยุด\",\"วัน\",\"โรงเรียน\"))\n",
    "print(intrincsic_evaluate(\"โง่\",\"เลว\",\"บ้า\"))\n",
    "print(intrincsic_evaluate(\"ไก่\",\"หมู\",\"วัว\"))\n",
    "print(intrincsic_evaluate(\"1\",\"3\",\"2\"))\n",
    "print(intrincsic_evaluate(\"ทะเล\",\"น้ำเค็ม\",\"แดด\"))\n",
    "print(intrincsic_evaluate(\"สัตว์\",\"หมอก\",\"ภูเขา\"))\n",
    "print(intrincsic_evaluate(\"ประถม\",\"มัธยม\",\"เด็ก\"))"
   ]
  },
  {
   "cell_type": "code",
   "execution_count": 38,
   "metadata": {},
   "outputs": [
    {
     "name": "stdout",
     "output_type": "stream",
     "text": [
      "มกราคม\n",
      "ตุลาคม\n",
      "เมษา\n",
      "พฤษภาคม\n",
      "2455\n",
      "ราชอาณาจักรไทย\n",
      "201\n",
      "มกรา\n",
      "2010\n",
      "1781\n"
     ]
    }
   ],
   "source": [
    "import scipy\n",
    "#scipy also provides you with a module that you can use to compare your target words against all the words in your corpus\n",
    "v = final_embeddings[dictionary[\"มกราคม\"]].reshape(1, -1)\n",
    "#just compare with top 10000 words....\n",
    "all_dist = scipy.spatial.distance.cdist(final_embeddings[:10000], v, 'cosine').reshape(-1)\n",
    "# get 20 nearest vector \n",
    "# argpartition can get top twenty very quickly, but they are not sorted\n",
    "idx =np.argpartition(all_dist, 10)[:10]\n",
    "#sort\n",
    "idx = idx[np.argsort(all_dist[idx[:20]])]\n",
    "for i in idx:\n",
    "    print(reverse_dictionary[i])"
   ]
  },
  {
   "cell_type": "code",
   "execution_count": 39,
   "metadata": {},
   "outputs": [],
   "source": [
    "def plot_with_labels(low_dim_embs, labels, filename=\"tsne_plot.png\"):\n",
    "    assert low_dim_embs.shape[0] >= len(labels), 'More labels than embeddings'\n",
    "    fp = mpl.font_manager.FontProperties(family='TH KoHo',size=17)\n",
    "    plt.figure(figsize=(15, 15))  # in inches\n",
    "    plt.axis('off')\n",
    "    for i, label in enumerate(labels):\n",
    "        x, y = low_dim_embs[i, :]\n",
    "        plt.scatter(x, y)\n",
    "        plt.annotate(label,\n",
    "                     xy=(x, y),\n",
    "                     xytext=(5, 2),\n",
    "                     textcoords='offset points',\n",
    "                     ha='right',\n",
    "                     va='bottom',\n",
    "                     fontproperties=fp)\n",
    "        \n",
    " \n",
    "    plt.show()\n",
    "    plt.savefig(filename)"
   ]
  },
  {
   "cell_type": "code",
   "execution_count": 40,
   "metadata": {},
   "outputs": [
    {
     "data": {
      "image/png": "[encoded data removed]",
      "text/plain": [
       "<Figure size 1080x1080 with 1 Axes>"
      ]
     },
     "metadata": {
      "needs_background": "light"
     },
     "output_type": "display_data"
    },
    {
     "data": {
      "text/plain": [
       "<Figure size 432x288 with 0 Axes>"
      ]
     },
     "metadata": {},
     "output_type": "display_data"
    }
   ],
   "source": [
    "from sklearn.manifold import TSNE\n",
    "import matplotlib.pyplot as plt\n",
    "import matplotlib as mpl\n",
    "\n",
    "tsne = TSNE(perplexity=30, n_components=2, init='pca', n_iter=2500)\n",
    "plot_only = 500 #only top 500 words\n",
    "low_dim_embs = tsne.fit_transform(final_embeddings[:plot_only, :])\n",
    "labels = [reverse_dictionary[i] for i in range(plot_only)]\n",
    "plot_with_labels(low_dim_embs, labels)"
   ]
  },
  {
   "cell_type": "markdown",
   "metadata": {},
   "source": [
    "# Step 6: Extrinsic Evaluation\n",
    "\n",
    "## <font color='blue'>Homework Question6:</font>\n",
    "<font color='blue'>\n",
    "Use the word embeddings from the skip-gram model as pre-trained weights in a classification model. Compare the result the with the same classification model that does not use the pre-trained weights. \n",
    "</font>\n"
   ]
  },
  {
   "cell_type": "code",
   "execution_count": 41,
   "metadata": {},
   "outputs": [],
   "source": [
    "all_news_filepath = glob.glob('/media/kok/New Volume/NLP/nlp_2019/HW5/corpora/BEST2010/training_set/news/*.txt')\n",
    "all_novel_filepath = glob.glob('/media/kok/New Volume/NLP/nlp_2019/HW5/corpora/BEST2010/training_set/novel/*.txt')\n",
    "all_article_filepath = glob.glob('/media/kok/New Volume/NLP/nlp_2019/HW5/corpora/BEST2010/training_set/article/*.txt')\n",
    "all_encyclopedia_filepath = glob.glob('/media/kok/New Volume/NLP/nlp_2019/HW5/corpora/BEST2010/training_set/encyclopedia/*.txt')"
   ]
  },
  {
   "cell_type": "code",
   "execution_count": 42,
   "metadata": {},
   "outputs": [],
   "source": [
    "#preparing data for the classificaiton model\n",
    "#In your homework, we will only use the first 2000 words in each text file\n",
    "#any text file that has less than 2000 words will be padded\n",
    "#reason:just to make this homework feasible under limited time and resource\n",
    "max_length = 2000\n",
    "def word_to_index(word):\n",
    "    if word in dictionary:\n",
    "        return dictionary[word]\n",
    "    else:#if unknown\n",
    "        return dictionary[\"UNK\"]\n",
    "\n",
    "\n",
    "def prep_data():\n",
    "    input_text = list()\n",
    "    for textfile_path in [all_news_filepath, all_novel_filepath, all_article_filepath, all_encyclopedia_filepath]:\n",
    "        for input_file in textfile_path:\n",
    "            f = open(input_file,\"r\") #open file with name of \"*.txt\"\n",
    "            text = re.sub(r'\\|', ' ', f.read()) # replace separation symbol with white space           \n",
    "            text = re.sub(r'<\\W?\\w+>', '', text)# remove <NE> </NE> <AB> </AB> tags\n",
    "            text = text.split() #split() method without an argument splits on whitespace \n",
    "            indexed_text = list(map(lambda x:word_to_index(x), text[:max_length])) #map raw word string to its index   \n",
    "            if 'news' in input_file:\n",
    "                input_text.append([indexed_text,0]) \n",
    "            elif 'novel' in input_file:\n",
    "                input_text.append([indexed_text,1]) \n",
    "            elif 'article' in input_file:\n",
    "                input_text.append([indexed_text,2]) \n",
    "            elif 'encyclopedia' in input_file:\n",
    "                input_text.append([indexed_text,3]) \n",
    "            \n",
    "            f.close()\n",
    "    random.shuffle(input_text)\n",
    "    return input_text\n",
    "\n",
    "input_data = prep_data()\n",
    "train_data = input_data[:int(len(input_data)*0.6)]\n",
    "val_data = input_data[int(len(input_data)*0.6):int(len(input_data)*0.8)]\n",
    "test_data = input_data[int(len(input_data)*0.8):]\n",
    "\n",
    "train_input = [data[0] for data in train_data]\n",
    "train_input = sequence.pad_sequences(train_input, maxlen=max_length) #padding\n",
    "train_target = [data[1] for data in train_data]\n",
    "train_target=to_categorical(train_target, num_classes=4)\n",
    "\n",
    "\n",
    "\n",
    "val_input = [data[0] for data in val_data]\n",
    "val_input = sequence.pad_sequences(val_input, maxlen=max_length) #padding\n",
    "val_target = [data[1] for data in val_data]\n",
    "val_target=to_categorical(val_target, num_classes=4)\n",
    "\n",
    "test_input = [data[0] for data in test_data]\n",
    "test_input = sequence.pad_sequences(test_input, maxlen=max_length) #padding\n",
    "test_target = [data[1] for data in test_data]\n",
    "test_target=to_categorical(test_target, num_classes=4)\n",
    "\n",
    "del input_data, val_data,train_data, test_data"
   ]
  },
  {
   "cell_type": "code",
   "execution_count": 46,
   "metadata": {},
   "outputs": [],
   "source": [
    "weigth_emd = SkipGram.get_weights()[0]"
   ]
  },
  {
   "cell_type": "code",
   "execution_count": 47,
   "metadata": {
    "scrolled": true
   },
   "outputs": [
    {
     "name": "stdout",
     "output_type": "stream",
     "text": [
      "_________________________________________________________________\n",
      "Layer (type)                 Output Shape              Param #   \n",
      "=================================================================\n",
      "embedding_11 (Embedding)     (None, 2000, 32)          846496    \n",
      "_________________________________________________________________\n",
      "gru_5 (GRU)                  (None, 32)                6240      \n",
      "_________________________________________________________________\n",
      "dropout_2 (Dropout)          (None, 32)                0         \n",
      "_________________________________________________________________\n",
      "dense_25 (Dense)             (None, 4)                 132       \n",
      "=================================================================\n",
      "Total params: 852,868\n",
      "Trainable params: 6,372\n",
      "Non-trainable params: 846,496\n",
      "_________________________________________________________________\n",
      "Train...\n",
      "Train on 303 samples, validate on 101 samples\n",
      "Epoch 1/20\n",
      "303/303 [==============================] - 33s 109ms/step - loss: 1.4065 - acc: 0.3267 - val_loss: 1.3507 - val_acc: 0.4059\n",
      "Epoch 2/20\n",
      "303/303 [==============================] - 37s 122ms/step - loss: 1.4170 - acc: 0.3531 - val_loss: 1.3425 - val_acc: 0.4158\n",
      "Epoch 3/20\n",
      "303/303 [==============================] - 39s 129ms/step - loss: 1.3637 - acc: 0.3663 - val_loss: 1.3460 - val_acc: 0.4059\n",
      "Epoch 4/20\n",
      "303/303 [==============================] - 34s 114ms/step - loss: 1.3637 - acc: 0.3465 - val_loss: 1.3511 - val_acc: 0.3564\n",
      "Epoch 5/20\n",
      "303/303 [==============================] - 40s 132ms/step - loss: 1.3408 - acc: 0.3663 - val_loss: 1.3392 - val_acc: 0.4059\n",
      "Epoch 6/20\n",
      "303/303 [==============================] - 37s 124ms/step - loss: 1.3378 - acc: 0.3828 - val_loss: 1.3295 - val_acc: 0.4059\n",
      "Epoch 7/20\n",
      "303/303 [==============================] - 35s 116ms/step - loss: 1.3376 - acc: 0.3828 - val_loss: 1.3195 - val_acc: 0.4059\n",
      "Epoch 8/20\n",
      "303/303 [==============================] - 35s 116ms/step - loss: 1.3416 - acc: 0.3663 - val_loss: 1.3401 - val_acc: 0.4059\n",
      "Epoch 9/20\n",
      "303/303 [==============================] - 35s 114ms/step - loss: 1.3136 - acc: 0.3993 - val_loss: 1.3156 - val_acc: 0.4257\n",
      "Epoch 10/20\n",
      "303/303 [==============================] - 36s 119ms/step - loss: 1.3140 - acc: 0.4026 - val_loss: 1.3254 - val_acc: 0.4356\n",
      "Epoch 11/20\n",
      "303/303 [==============================] - 42s 139ms/step - loss: 1.3131 - acc: 0.3960 - val_loss: 1.2865 - val_acc: 0.4257\n",
      "Epoch 12/20\n",
      "303/303 [==============================] - 38s 124ms/step - loss: 1.2466 - acc: 0.4290 - val_loss: 1.4985 - val_acc: 0.3861\n",
      "Epoch 13/20\n",
      "303/303 [==============================] - 38s 126ms/step - loss: 1.2776 - acc: 0.4587 - val_loss: 1.4027 - val_acc: 0.4059\n",
      "Epoch 14/20\n",
      "303/303 [==============================] - 33s 110ms/step - loss: 1.3193 - acc: 0.4059 - val_loss: 1.3207 - val_acc: 0.4554\n",
      "Epoch 15/20\n",
      "303/303 [==============================] - 34s 111ms/step - loss: 1.2690 - acc: 0.4026 - val_loss: 1.2752 - val_acc: 0.4257\n",
      "Epoch 16/20\n",
      "303/303 [==============================] - 33s 110ms/step - loss: 1.2125 - acc: 0.4455 - val_loss: 1.3105 - val_acc: 0.4455\n",
      "Epoch 17/20\n",
      "303/303 [==============================] - 33s 110ms/step - loss: 1.1902 - acc: 0.4587 - val_loss: 1.1877 - val_acc: 0.5149\n",
      "Epoch 18/20\n",
      "303/303 [==============================] - 35s 117ms/step - loss: 1.1553 - acc: 0.5182 - val_loss: 1.3768 - val_acc: 0.4059\n",
      "Epoch 19/20\n",
      "303/303 [==============================] - 36s 120ms/step - loss: 1.2407 - acc: 0.4158 - val_loss: 1.3003 - val_acc: 0.4455\n",
      "Epoch 20/20\n",
      "303/303 [==============================] - 35s 116ms/step - loss: 1.2339 - acc: 0.4719 - val_loss: 1.2676 - val_acc: 0.4059\n"
     ]
    },
    {
     "data": {
      "text/plain": [
       "<keras.callbacks.History at 0x7f2cb721b748>"
      ]
     },
     "execution_count": 47,
     "metadata": {},
     "output_type": "execute_result"
    }
   ],
   "source": [
    "#the classification model\n",
    "#TO DO#6 find out how to initialize your embedding layer with pre-trained weights, evaluate and observe\n",
    "#don't forget to compare it with the same model that does not use pre-trained weights\n",
    "#you can use your own model too! and feel free to customize this model as you wish\n",
    "cls_model = Sequential()\n",
    "cls_model.add(Embedding(len(dictionary), 32,weights=[weigth_emd], input_length=max_length,mask_zero=True,trainable=False))\n",
    "cls_model.add(GRU(32))\n",
    "cls_model.add(Dropout(0.5))\n",
    "cls_model.add(Dense(4, activation='softmax'))\n",
    "opt=Adam(lr=0.01)\n",
    "cls_model.compile(loss='categorical_crossentropy', optimizer=opt, metrics=['accuracy'])\n",
    "cls_model.summary()\n",
    "print('Train...')\n",
    "cls_model.fit(train_input, train_target,\n",
    "          epochs=20,\n",
    "          validation_data=[val_input, val_target])"
   ]
  },
  {
   "cell_type": "code",
   "execution_count": 52,
   "metadata": {},
   "outputs": [
    {
     "name": "stdout",
     "output_type": "stream",
     "text": [
      "0.38676916833166836\n",
      "0.46078431372549017\n",
      "0.5814393939393939\n",
      "0.3887397294655359\n"
     ]
    }
   ],
   "source": [
    "from sklearn.metrics import f1_score,accuracy_score,precision_score,recall_score\n",
    "y_pred = cls_model.predict(test_input)\n",
    "y_pred = np.argmax(y_pred,axis=1)\n",
    "y_real = np.argmax(test_target,axis=1)\n",
    "\n",
    "print(f1_score(y_real,y_pred,average=\"macro\"))\n",
    "print(accuracy_score(y_real,y_pred))\n",
    "print(precision_score(y_real,y_pred,average=\"macro\"))\n",
    "print(recall_score(y_real,y_pred,average=\"macro\"))"
   ]
  },
  {
   "cell_type": "code",
   "execution_count": 53,
   "metadata": {},
   "outputs": [
    {
     "name": "stdout",
     "output_type": "stream",
     "text": [
      "_________________________________________________________________\n",
      "Layer (type)                 Output Shape              Param #   \n",
      "=================================================================\n",
      "embedding_12 (Embedding)     (None, 2000, 32)          846496    \n",
      "_________________________________________________________________\n",
      "gru_6 (GRU)                  (None, 32)                6240      \n",
      "_________________________________________________________________\n",
      "dropout_3 (Dropout)          (None, 32)                0         \n",
      "_________________________________________________________________\n",
      "dense_26 (Dense)             (None, 4)                 132       \n",
      "=================================================================\n",
      "Total params: 852,868\n",
      "Trainable params: 852,868\n",
      "Non-trainable params: 0\n",
      "_________________________________________________________________\n",
      "Train...\n",
      "Train on 303 samples, validate on 101 samples\n",
      "Epoch 1/20\n",
      "303/303 [==============================] - 36s 120ms/step - loss: 1.4256 - acc: 0.3399 - val_loss: 1.3061 - val_acc: 0.4059\n",
      "Epoch 2/20\n",
      "303/303 [==============================] - 43s 142ms/step - loss: 1.3694 - acc: 0.3927 - val_loss: 1.3371 - val_acc: 0.3960\n",
      "Epoch 3/20\n",
      "303/303 [==============================] - 40s 133ms/step - loss: 1.2248 - acc: 0.4389 - val_loss: 1.2679 - val_acc: 0.4554\n",
      "Epoch 4/20\n",
      "303/303 [==============================] - 43s 143ms/step - loss: 0.9497 - acc: 0.6898 - val_loss: 1.1408 - val_acc: 0.5446\n",
      "Epoch 5/20\n",
      "303/303 [==============================] - 38s 124ms/step - loss: 0.5346 - acc: 0.7987 - val_loss: 1.0026 - val_acc: 0.5644\n",
      "Epoch 6/20\n",
      "303/303 [==============================] - 36s 118ms/step - loss: 0.2343 - acc: 0.9505 - val_loss: 0.9319 - val_acc: 0.6832\n",
      "Epoch 7/20\n",
      "303/303 [==============================] - 35s 116ms/step - loss: 0.0682 - acc: 0.9934 - val_loss: 1.7775 - val_acc: 0.5545\n",
      "Epoch 8/20\n",
      "303/303 [==============================] - 35s 117ms/step - loss: 0.0607 - acc: 0.9835 - val_loss: 1.3536 - val_acc: 0.5347\n",
      "Epoch 9/20\n",
      "303/303 [==============================] - 36s 117ms/step - loss: 0.0500 - acc: 0.9901 - val_loss: 0.9608 - val_acc: 0.6535\n",
      "Epoch 10/20\n",
      "303/303 [==============================] - 36s 118ms/step - loss: 0.0169 - acc: 1.0000 - val_loss: 1.1186 - val_acc: 0.6238\n",
      "Epoch 11/20\n",
      "303/303 [==============================] - 38s 124ms/step - loss: 0.0117 - acc: 1.0000 - val_loss: 1.0323 - val_acc: 0.6832\n",
      "Epoch 12/20\n",
      "303/303 [==============================] - 37s 122ms/step - loss: 0.0058 - acc: 1.0000 - val_loss: 1.0019 - val_acc: 0.6535\n",
      "Epoch 13/20\n",
      "303/303 [==============================] - 41s 134ms/step - loss: 0.0049 - acc: 1.0000 - val_loss: 1.0223 - val_acc: 0.6733\n",
      "Epoch 14/20\n",
      "303/303 [==============================] - 42s 139ms/step - loss: 0.0036 - acc: 1.0000 - val_loss: 1.0427 - val_acc: 0.6931\n",
      "Epoch 15/20\n",
      "303/303 [==============================] - 35s 115ms/step - loss: 0.0059 - acc: 1.0000 - val_loss: 1.0664 - val_acc: 0.6832\n",
      "Epoch 16/20\n",
      "303/303 [==============================] - 35s 116ms/step - loss: 0.0032 - acc: 1.0000 - val_loss: 1.0779 - val_acc: 0.6931\n",
      "Epoch 17/20\n",
      "303/303 [==============================] - 35s 115ms/step - loss: 0.0020 - acc: 1.0000 - val_loss: 1.0828 - val_acc: 0.7129\n",
      "Epoch 18/20\n",
      "303/303 [==============================] - 36s 118ms/step - loss: 0.0016 - acc: 1.0000 - val_loss: 1.0933 - val_acc: 0.7129\n",
      "Epoch 19/20\n",
      "303/303 [==============================] - 37s 122ms/step - loss: 0.0020 - acc: 1.0000 - val_loss: 1.0995 - val_acc: 0.7228\n",
      "Epoch 20/20\n",
      "303/303 [==============================] - 36s 117ms/step - loss: 0.0012 - acc: 1.0000 - val_loss: 1.1088 - val_acc: 0.7327\n"
     ]
    },
    {
     "data": {
      "text/plain": [
       "<keras.callbacks.History at 0x7f2c2caf15f8>"
      ]
     },
     "execution_count": 53,
     "metadata": {},
     "output_type": "execute_result"
    }
   ],
   "source": [
    "#the classification model\n",
    "#TO DO#6 find out how to initialize your embedding layer with pre-trained weights, evaluate and observe\n",
    "#don't forget to compare it with the same model that does not use pre-trained weights\n",
    "#you can use your own model too! and feel free to customize this model as you wish\n",
    "cls_model = Sequential()\n",
    "cls_model.add(Embedding(len(dictionary), 32,weights=[weigth_emd], input_length=max_length,mask_zero=True,trainable=True))\n",
    "cls_model.add(GRU(32))\n",
    "cls_model.add(Dropout(0.5))\n",
    "cls_model.add(Dense(4, activation='softmax'))\n",
    "opt=Adam(lr=0.01)\n",
    "cls_model.compile(loss='categorical_crossentropy', optimizer=opt, metrics=['accuracy'])\n",
    "cls_model.summary()\n",
    "print('Train...')\n",
    "cls_model.fit(train_input, train_target,\n",
    "          epochs=20,\n",
    "          validation_data=[val_input, val_target])"
   ]
  },
  {
   "cell_type": "code",
   "execution_count": 54,
   "metadata": {},
   "outputs": [
    {
     "name": "stdout",
     "output_type": "stream",
     "text": [
      "0.6950967322942302\n",
      "0.7254901960784313\n",
      "0.7093836396161978\n",
      "0.6968376000634066\n"
     ]
    }
   ],
   "source": [
    "y_pred = cls_model.predict(test_input)\n",
    "y_pred = np.argmax(y_pred,axis=1)\n",
    "y_real = np.argmax(test_target,axis=1)\n",
    "\n",
    "print(f1_score(y_real,y_pred,average=\"macro\"))\n",
    "print(accuracy_score(y_real,y_pred))\n",
    "print(precision_score(y_real,y_pred,average=\"macro\"))\n",
    "print(recall_score(y_real,y_pred,average=\"macro\"))"
   ]
  },
  {
   "cell_type": "raw",
   "metadata": {},
   "source": [
    "The trainable+pre-train weight model is the best model because val_acc increasing every time. But others are not."
   ]
  },
  {
   "cell_type": "code",
   "execution_count": null,
   "metadata": {},
   "outputs": [],
   "source": []
  }
 ],
 "metadata": {
  "anaconda-cloud": {},
  "kernelspec": {
   "display_name": "Python 3",
   "language": "python",
   "name": "python3"
  },
  "language_info": {
   "codemirror_mode": {
    "name": "ipython",
    "version": 3
   },
   "file_extension": ".py",
   "mimetype": "text/x-python",
   "name": "python",
   "nbconvert_exporter": "python",
   "pygments_lexer": "ipython3",
   "version": "3.6.8"
  }
 },
 "nbformat": 4,
 "nbformat_minor": 2
}
