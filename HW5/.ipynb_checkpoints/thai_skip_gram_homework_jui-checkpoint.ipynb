{
 "cells": [
  {
   "cell_type": "markdown",
   "metadata": {},
   "source": [
    "# Homework 3: Word Embedding\n",
    "\n",
    "In this exercise, you will work on the skip-gram neural network architecture for Word2Vec. You will be using Keras to train your model. \n",
    "\n",
    "The sample code for skip-gram model is given. Your job is to incorporate the tokenizer model that you created in HomeWork-1 to tokenize raw text and turn it into word vectors.\n",
    "\n",
    "You must complete the following tasks:\n",
    "1. Read/clean text files\n",
    "2. Indexing (Assign a number to each word)\n",
    "3. Create skip-grams (inputs for your model)\n",
    "4. Create the skip-gram neural network model\n",
    "5. Visualization\n",
    "6. Evaluation (Using pre-trained, not using pre-trained)\n",
    "    (classify topic from 4 categories) \n",
    "    \n",
    "This notebook assumes you have already installed Tensorflow and Keras with python3 and had GPU enabled. If you run this exercise on GCloud using the provided disk image you are all set.\n",
    "\n",
    "As a reminder,\n",
    "\n",
    "### Don't forget to shut down your instance on Gcloud when you are not using it ###\n"
   ]
  },
  {
   "cell_type": "code",
   "execution_count": 1,
   "metadata": {},
   "outputs": [
    {
     "name": "stderr",
     "output_type": "stream",
     "text": [
      "Using TensorFlow backend.\n"
     ]
    }
   ],
   "source": [
    "%matplotlib inline\n",
    "import numpy as np\n",
    "import pandas as pd\n",
    "import math\n",
    "import glob\n",
    "import re\n",
    "import random\n",
    "import collections\n",
    "import os\n",
    "import sys\n",
    "from keras.preprocessing import sequence\n",
    "from keras.models import Sequential, Model\n",
    "from keras.layers import GRU, Dropout\n",
    "from keras.models import load_model\n",
    "from keras.layers import Embedding, Reshape, Activation, Input, Dense, Masking, Bidirectional\n",
    "from keras.layers.merge import Dot\n",
    "from keras.utils import np_utils\n",
    "from keras.utils.data_utils import get_file\n",
    "from keras.utils.np_utils import to_categorical\n",
    "from keras.preprocessing.sequence import skipgrams\n",
    "from keras.preprocessing import sequence\n",
    "from keras import backend as K\n",
    "from keras.optimizers import Adam\n",
    "\n",
    "\n",
    "random.seed(42)"
   ]
  },
  {
   "cell_type": "markdown",
   "metadata": {},
   "source": [
    "## Step 1: Read/clean text files\n",
    "\n",
    "The given code can be used to processed the pre-tokenzied text file from the wikipedia corpus. In your homework, you must replace those text files with raw text files.  You must use your own tokenizer to process your text files"
   ]
  },
  {
   "cell_type": "code",
   "execution_count": 2,
   "metadata": {},
   "outputs": [],
   "source": [
    "#Step 1: read the wikipedia text file\n",
    "cwd = \"/home/burin\"\n",
    "with open(cwd+\"/corpora/wiki/thwiki_chk.txt\") as f:\n",
    "    raw_text = [] \n",
    "    #The text file is already tokenized BUT...\n",
    "    #we've replaced all the spaces between words, so you have to use your tokenizer.\n",
    "    raw_text.extend(re.sub(r\"\\s+\",\"\",f.read()))\n",
    "    #since the wiki file is very large, we will only use 1/20 of the whole wiki file in this homework\n",
    "    # if you have enough memeory and want to add more training data, please feel free to edit this code\n",
    "    # to include more data\n",
    "    raw_text = raw_text[:len(raw_text)//20]\n"
   ]
  },
  {
   "cell_type": "code",
   "execution_count": 3,
   "metadata": {},
   "outputs": [],
   "source": [
    "# Create a character map\n",
    "CHARS = [\n",
    "  '\\n', ' ', '!', '\"', '#', '$', '%', '&', \"'\", '(', ')', '*', '+',\n",
    "  ',', '-', '.', '/', '0', '1', '2', '3', '4', '5', '6', '7', '8',\n",
    "  '9', ':', ';', '<', '=', '>', '?', '@', 'A', 'B', 'C', 'D', 'E',\n",
    "  'F', 'G', 'H', 'I', 'J', 'K', 'L', 'M', 'N', 'O', 'P', 'Q', 'R',\n",
    "  'S', 'T', 'U', 'V', 'W', 'X', 'Y', 'Z', '[', '\\\\', ']', '^', '_',\n",
    "  'a', 'b', 'c', 'd', 'e', 'f', 'g', 'h', 'i', 'j', 'k', 'l', 'm',\n",
    "  'n', 'o', 'other', 'p', 'q', 'r', 's', 't', 'u', 'v', 'w', 'x', 'y',\n",
    "  'z', '}', '~', 'ก', 'ข', 'ฃ', 'ค', 'ฅ', 'ฆ', 'ง', 'จ', 'ฉ', 'ช',\n",
    "  'ซ', 'ฌ', 'ญ', 'ฎ', 'ฏ', 'ฐ', 'ฑ', 'ฒ', 'ณ', 'ด', 'ต', 'ถ', 'ท',\n",
    "  'ธ', 'น', 'บ', 'ป', 'ผ', 'ฝ', 'พ', 'ฟ', 'ภ', 'ม', 'ย', 'ร', 'ฤ',\n",
    "  'ล', 'ว', 'ศ', 'ษ', 'ส', 'ห', 'ฬ', 'อ', 'ฮ', 'ฯ', 'ะ', 'ั', 'า',\n",
    "  'ำ', 'ิ', 'ี', 'ึ', 'ื', 'ุ', 'ู', 'ฺ', 'เ', 'แ', 'โ', 'ใ', 'ไ',\n",
    "  'ๅ', 'ๆ', '็', '่', '้', '๊', '๋', '์', 'ํ', '๐', '๑', '๒', '๓',\n",
    "  '๔', '๕', '๖', '๗', '๘', '๙', '‘', '’', '\\ufeff'\n",
    "]\n",
    "CHARS_MAP = {v: k for k, v in enumerate(CHARS)}\n",
    "char = np.array(CHARS)"
   ]
  },
  {
   "cell_type": "code",
   "execution_count": 4,
   "metadata": {},
   "outputs": [],
   "source": [
    "def create_n_gram_df(df, n_pad):\n",
    "  \"\"\"\n",
    "  Given an input dataframe, create a feature dataframe of shifted characters\n",
    "  Input:\n",
    "  df: timeseries of size (N)\n",
    "  n_pad: the number of context. For a given character at position [idx],\n",
    "    character at position [idx-n_pad/2 : idx+n_pad/2] will be used \n",
    "    as features for that character.\n",
    "  \n",
    "  Output:\n",
    "  dataframe of size (N * n_pad) which each row contains the character, \n",
    "    n_pad_2 characters to the left, and n_pad_2 characters to the right\n",
    "    of that character.\n",
    "  \"\"\"\n",
    "  n_pad_2 = int((n_pad - 1)/2)\n",
    "  for i in range(n_pad_2):\n",
    "      df['char-{}'.format(i+1)] = df['char'].shift(i + 1)\n",
    "      df['char{}'.format(i+1)] = df['char'].shift(-i - 1)\n",
    "  return df[n_pad_2: -n_pad_2]\n",
    "\n",
    "\n",
    "def prepare_wiki_feature(raw_text_input):\n",
    "    \"\"\"\n",
    "    Transform the path to a directory containing processed files \n",
    "    into a feature matrix and output array\n",
    "    \"\"\"\n",
    "    # we use padding equals 21 here to consider 10 characters to the left\n",
    "    # and 10 characters to the right as features for the character in the middle\n",
    "    n_pad = 21\n",
    "    n_pad_2 = int((n_pad - 1)/2)\n",
    "    pad = [{'char': ' ', 'target': True}]\n",
    "    df_pad = pd.DataFrame(pad * n_pad_2)\n",
    "\n",
    "    df = []\n",
    "\n",
    "    df.append(pd.DataFrame(  {'char': raw_text_input}))\n",
    "\n",
    "    df = pd.concat(df)\n",
    "    # pad with empty string feature\n",
    "    df = pd.concat((df_pad, df, df_pad))\n",
    "\n",
    "    # map characters to numbers, use 'other' if not in the predefined character set.\n",
    "    df['char'] = df['char'].map(lambda x: CHARS_MAP.get(x, 80))\n",
    "\n",
    "    # Use nearby characters as features\n",
    "    df_with_context = create_n_gram_df(df, n_pad=n_pad)\n",
    "\n",
    "    char_row = ['char' + str(i + 1) for i in range(n_pad_2)] + \\\n",
    "             ['char-' + str(i + 1) for i in range(n_pad_2)] + ['char']\n",
    "\n",
    "    # convert pandas dataframe to numpy array to feed to the model\n",
    "    x_char = df_with_context[char_row].as_matrix()\n",
    "\n",
    "    return x_char\n",
    "\n",
    "#A function for displaying our features in text\n",
    "def print_features(tfeature,index):\n",
    "    feature = np.array(tfeature[index],dtype=int).reshape(21,1)\n",
    "    #Convert to string\n",
    "    char_list = char[feature]\n",
    "    left = ''.join(reversed(char_list[10:20].reshape(10))).replace(\" \", \"\")\n",
    "    center = ''.join(char_list[20])\n",
    "    right =  ''.join(char_list[0:10].reshape(10)).replace(\" \", \"\")\n",
    "    word = ''.join([left,' ',center,' ',right])\n",
    "    print(center + ': ' + word )"
   ]
  },
  {
   "cell_type": "markdown",
   "metadata": {},
   "source": [
    "## <font color='blue'>Homework Question1:</font>\n",
    "<font color='blue'>Use your own tokenizer (aka word segmentation model)  to define word boundaries and split the given text file into words.  Capture the screenshot of your code segment that loads the word segmentation model and uses the model to segment the text files. </font>"
   ]
  },
  {
   "cell_type": "code",
   "execution_count": 5,
   "metadata": {},
   "outputs": [
    {
     "name": "stdout",
     "output_type": "stream",
     "text": [
      "_________________________________________________________________\n",
      "Layer (type)                 Output Shape              Param #   \n",
      "=================================================================\n",
      "input_1 (InputLayer)         (None, 21)                0         \n",
      "_________________________________________________________________\n",
      "embedding_1 (Embedding)      (None, 21, 32)            32000     \n",
      "_________________________________________________________________\n",
      "bidirectional_1 (Bidirection (None, 64)                12480     \n",
      "_________________________________________________________________\n",
      "dense_1 (Dense)              (None, 100)               6500      \n",
      "_________________________________________________________________\n",
      "dense_2 (Dense)              (None, 100)               10100     \n",
      "_________________________________________________________________\n",
      "dense_3 (Dense)              (None, 1)                 101       \n",
      "=================================================================\n",
      "Total params: 61,181\n",
      "Trainable params: 61,181\n",
      "Non-trainable params: 0\n",
      "_________________________________________________________________\n",
      "None\n"
     ]
    }
   ],
   "source": [
    "# TODO#1 \n",
    "#load your word segmentation model here!\n",
    "def get_your_nn():\n",
    "    inp = Input(shape=(21,))\n",
    "    x = Embedding(1000,32,input_length=(21))(inp)\n",
    "    x = Bidirectional(GRU(32, activation='relu', return_sequences=False, return_state=False))(x)\n",
    "    x = Dense(100,activation = 'relu')(x)\n",
    "    x = Dense(100,activation = 'relu')(x)\n",
    "    x = Dense(1 , activation = 'sigmoid')(x)\n",
    "    model = Model(inputs = inp , outputs = x)\n",
    "    model.compile(Adam(), loss='binary_crossentropy', metrics=['acc'])\n",
    "    return model\n",
    "\n",
    "model = get_your_nn()\n",
    "\n",
    "#load weights here/ or alternatively you can also load your entire model\n",
    "model.load_weights(\"/data/hw02/hw02_best_BiGRU.h5\")\n",
    "print(model.summary())"
   ]
  },
  {
   "cell_type": "code",
   "execution_count": 6,
   "metadata": {},
   "outputs": [
    {
     "name": "stderr",
     "output_type": "stream",
     "text": [
      "/home/burin/.env/lib/python3.5/site-packages/ipykernel_launcher.py:40: FutureWarning: Sorting because non-concatenation axis is not aligned. A future version\n",
      "of pandas will change to not sort by default.\n",
      "\n",
      "To accept the future behavior, pass 'sort=False'.\n",
      "\n",
      "To retain the current behavior and silence the warning, pass 'sort=True'.\n",
      "\n",
      "/home/burin/.env/lib/python3.5/site-packages/ipykernel_launcher.py:52: FutureWarning: Method .as_matrix will be removed in a future version. Use .values instead.\n"
     ]
    },
    {
     "name": "stdout",
     "output_type": "stream",
     "text": [
      " data shape:  (7592023, 21)\n"
     ]
    }
   ],
   "source": [
    "x_char= prepare_wiki_feature(raw_text)\n",
    "#feel free to edit prepare_wiki_feature if your model has different input format\n",
    "# As a sanity check, we print out the size of the data.\n",
    "print(' data shape: ', x_char.shape)\n"
   ]
  },
  {
   "cell_type": "code",
   "execution_count": 7,
   "metadata": {},
   "outputs": [],
   "source": [
    "def char_to_word(raw_text, y_pred):\n",
    "    \"\"\" add spaces between words in the raw text based on your prediction\n",
    "    \"\"\"\n",
    "    split_text=\"\"\n",
    "    for char, y in zip(raw_text,y_pred):\n",
    "        if y == 1:\n",
    "            split_text+=\" \"\n",
    "            split_text+=char\n",
    "        else:\n",
    "            split_text+=char\n",
    "    return split_text.split(\" \")"
   ]
  },
  {
   "cell_type": "code",
   "execution_count": 8,
   "metadata": {},
   "outputs": [],
   "source": [
    "####TOKENIZATION\n",
    "###THIS MIGHT TAKE ABOUT 10 MINS on feed forward models\n",
    "y_pred = model.predict(x_char)\n",
    "prob_to_class = lambda p: 1 if p[0]>=0.5 else 0\n",
    "y_pred = np.apply_along_axis(prob_to_class,1,y_pred)\n",
    "del x_char #clear up some memory"
   ]
  },
  {
   "cell_type": "code",
   "execution_count": 9,
   "metadata": {},
   "outputs": [
    {
     "name": "stdout",
     "output_type": "stream",
     "text": [
      "['', 'หน้าหลัก', 'วิกิพีเดีย', 'ดำเนิน', 'การ', 'โดย', 'มูลนิธิ', 'วิกิมี', 'เดีย', 'องค์กร', 'ไม่', 'แสวง', 'ผล', 'กำไร', 'ผู้', 'ดำเนิน', 'การ', 'อีก', 'หลาย', 'ได้แก่__NOEDITSECTION__ดาราศาสตร์', 'ดาราศาสตร์', 'คือ', 'วิชาวิทยาศาสตร์', 'ที่', 'ศึกษา', 'วัตถุ', 'ท้อง', 'ฟ้า', '(', 'อาทิดาวฤกษ์', 'ดาวเคราะห์', 'ดาวหาง', 'และ', 'ดาราจักร', ')', 'รวม', 'ทั้ง', 'ปรากฏการณ์', 'ทาง', 'ธรรมชาติ', 'ต่างๆ', 'ที่', 'เกิด', 'ขึ้น', 'จาก', 'นอก', 'ชั้น', 'บรรยากาศ', 'ของ', 'โลก', 'โดย', 'ศึกษา', 'เกี่ยว', 'กับ', 'วิวัฒนาการ', 'ลักษณะ', 'ทาง', 'กาย', 'ภาพ', 'ทาง', 'เคมี', 'ทาง', 'อุตุนิยมวิทยา', 'และ', 'การ', 'เคลื่อน', 'ที่', 'ของ', 'วัตถุ', 'ท้อง', 'ฟ้า', 'ตลอด', 'จน', 'ถึง', 'การ', 'กำเนิด', 'และ', 'วิวัฒนาการ', 'ของ', 'เอกภพดาราศาสตร์', 'เป็น', 'หนึ่ง', 'ใน', 'สาขา', 'ของ', 'วิทยาศาสตร์', 'ที่', 'เก่าแก่', 'ที่สุด', 'นัก', 'ดาราศาสตร์', 'ใน', 'วัฒนธรรม', 'โบราณสังเกตการณ์', 'ดวง', 'ดาว', 'บน', 'ท้อง', 'ฟ้า', 'ใน']\n"
     ]
    }
   ],
   "source": [
    "tokens= char_to_word(raw_text, y_pred)\n",
    "#print out first 100 words for sanity check\n",
    "print(tokens[0:100])"
   ]
  },
  {
   "cell_type": "code",
   "execution_count": 10,
   "metadata": {
    "scrolled": true
   },
   "outputs": [
    {
     "name": "stdout",
     "output_type": "stream",
     "text": [
      "total word count: 1779644\n"
     ]
    }
   ],
   "source": [
    "print(\"total word count:\", len(tokens))"
   ]
  },
  {
   "cell_type": "code",
   "execution_count": 11,
   "metadata": {},
   "outputs": [
    {
     "data": {
      "text/plain": [
       "True"
      ]
     },
     "execution_count": 11,
     "metadata": {},
     "output_type": "execute_result"
    }
   ],
   "source": [
    "\"\" in tokens"
   ]
  },
  {
   "cell_type": "code",
   "execution_count": 12,
   "metadata": {},
   "outputs": [],
   "source": [
    "#tokens.remove(\"\")"
   ]
  },
  {
   "cell_type": "code",
   "execution_count": 13,
   "metadata": {},
   "outputs": [],
   "source": [
    "#\"\" in tokens"
   ]
  },
  {
   "cell_type": "markdown",
   "metadata": {},
   "source": [
    "## Step 2: Indexing (Assign a number to each word)\n",
    "\n",
    "The code below generates an indexed dataset(each word is represented by a number), a dictionary, a reversed dictionary\n",
    "\n",
    "## <font color='blue'>Homework Question 2:</font>\n",
    "<font color='blue'>“UNK” is often used to represent an unknown word (a word which does not exist in your dictionary/training set). You can also represent a rare word with this token as well.  How do you define a rare word in your program? Explain in your own words and capture the screenshot of your code segment that is a part of this process</font>\n",
    "\n",
    " + <font color='blue'>edit or replace create_index with your own code to set a threshold for rare words and replace them with \"UNK\"</font>"
   ]
  },
  {
   "cell_type": "code",
   "execution_count": 14,
   "metadata": {},
   "outputs": [
    {
     "name": "stdout",
     "output_type": "stream",
     "text": [
      "[('ที่', 48137), ('ใน', 44075), ('การ', 43188), ('เป็น', 36068), ('และ', 35673), ('ของ', 34113), ('มี', 30399), ('ได้', 24727), ('\"', 18172), (')', 17609)]\n"
     ]
    }
   ],
   "source": [
    "#step 2:Build dictionary and build a dataset(replace each word with its index)\n",
    "def create_index(input_text):\n",
    "    # TODO#2:edit or replace this function\n",
    "    words = [word for word in input_text ]\n",
    "    word_count = list()\n",
    "    #use set and len to get the number of unique words\n",
    "    word_count.extend(collections.Counter(words).most_common(len(set(words))))\n",
    "    #include a token for unknown word\n",
    "    word_count.append((\"UNK\",0))\n",
    "    #print out 10 most frequent words\n",
    "    print(word_count[:10])\n",
    "    \n",
    "    ## TODO2 I create filter word to filter just word which have count more than 3 \n",
    "    ## (before select 3, I print the value of word_count to see and found that it have have word which have count 1)\n",
    "    filter_word = list()\n",
    "    filter_word.append(\"UNK\")\n",
    "    for w,c in word_count:\n",
    "        if c > 3:\n",
    "            filter_word.append(w)\n",
    "    ###############################################################################\n",
    "    \n",
    "    dictionary = dict()\n",
    "    dictionary[\"for_keras_zero_padding\"] = 0\n",
    "    for word in filter_word:\n",
    "        dictionary[word] = len(dictionary)\n",
    "    reverse_dictionary = dict(zip(dictionary.values(), dictionary.keys()))\n",
    "    data = list()\n",
    "    for word in input_text:\n",
    "        # check if word in input_text if not use UNK index\n",
    "        if word not in dictionary:\n",
    "            data.append(dictionary[\"UNK\"])\n",
    "        else:\n",
    "            data.append(dictionary[word])\n",
    "\n",
    "    return data,dictionary, reverse_dictionary\n",
    "\n",
    "dataset,dictionary, reverse_dictionary=create_index(tokens)\n"
   ]
  },
  {
   "cell_type": "code",
   "execution_count": 15,
   "metadata": {},
   "outputs": [
    {
     "name": "stdout",
     "output_type": "stream",
     "text": [
      "output sample (dataset): [1, 1, 844, 265, 4, 18, 3538, 6003, 3914, 600]\n",
      "output sample (dictionary): {'ตัก': 5747, 'สนาม': 1121, 'เส้นทาง': 687, '622': 11214, 'เวียดกง': 11756, 'พระหทัย': 7744, 'สะกด': 1565, 'ทรุด': 3683, 'บะโช': 6692, 'แคลอรี': 9648}\n",
      "output sample (reverse dictionary): {0: 'for_keras_zero_padding', 1: 'UNK', 2: 'ที่', 3: 'ใน', 4: 'การ', 5: 'เป็น', 6: 'และ', 7: 'ของ', 8: 'มี', 9: 'ได้'}\n"
     ]
    }
   ],
   "source": [
    "print(\"output sample (dataset):\",dataset[:10])\n",
    "print(\"output sample (dictionary):\",{k: dictionary[k] for k in list(dictionary)[:10]})\n",
    "print(\"output sample (reverse dictionary):\",{k: reverse_dictionary[k] for k in list(reverse_dictionary)[:10]})"
   ]
  },
  {
   "cell_type": "code",
   "execution_count": 16,
   "metadata": {},
   "outputs": [
    {
     "data": {
      "text/plain": [
       "12908"
      ]
     },
     "execution_count": 16,
     "metadata": {},
     "output_type": "execute_result"
    }
   ],
   "source": [
    "len(dictionary)"
   ]
  },
  {
   "cell_type": "code",
   "execution_count": 17,
   "metadata": {},
   "outputs": [
    {
     "data": {
      "text/plain": [
       "1"
      ]
     },
     "execution_count": 17,
     "metadata": {},
     "output_type": "execute_result"
    }
   ],
   "source": [
    "dictionary[\"UNK\"]"
   ]
  },
  {
   "cell_type": "markdown",
   "metadata": {},
   "source": [
    "# Step3: Create skip-grams (inputs for your model)\n",
    "Keras has a skipgrams-generator, the cell below shows us how it generates skipgrams \n",
    "\n",
    "## <font color='blue'>Homework Question 3:</font>\n",
    "<font color='blue'>The negative samples are sampled from sampling_table.  Look through Keras source code to find out how they sample negative samples. Discuss the sampling technique taught in class and compare it to the Keras source code.</font>\n",
    "\n"
   ]
  },
  {
   "cell_type": "code",
   "execution_count": 21,
   "metadata": {},
   "outputs": [
    {
     "name": "stdout",
     "output_type": "stream",
     "text": [
      "[[3538, 11328], [6003, 3935], [3538, 4374], [6003, 10097], [3538, 18], [6003, 3538], [3538, 6003], [6003, 3914]] [0, 0, 0, 0, 1, 1, 1, 1]\n",
      "มูลนิธิ กรมธนารักษ์\n",
      "วิกิมี ประเทศชาติ\n",
      "มูลนิธิ ปริมณฑล\n",
      "วิกิมี พุทธมี\n",
      "มูลนิธิ โดย\n",
      "วิกิมี มูลนิธิ\n",
      "มูลนิธิ วิกิมี\n",
      "วิกิมี เดีย\n"
     ]
    }
   ],
   "source": [
    "# Step 3: Create data samples\n",
    "vocab_size = len(dictionary)\n",
    "skip_window = 1       # How many words to consider left and right.\n",
    "\n",
    "sample_set= dataset[:10]\n",
    "sampling_table = sequence.make_sampling_table(vocab_size)\n",
    "#TO DO#3 check out keras source code and find out  their sampling technique works\n",
    "couples, labels = skipgrams(sample_set, vocab_size, window_size=skip_window, sampling_table=sampling_table)\n",
    "word_target, word_context = zip(*couples)\n",
    "word_target = np.array(word_target, dtype=\"int32\")\n",
    "word_context = np.array(word_context, dtype=\"int32\")\n",
    "\n",
    "print(couples, labels)\n",
    "\n",
    "for i in range(8):\n",
    "    print(reverse_dictionary[couples[i][0]],reverse_dictionary[couples[i][1]])\n",
    "\n"
   ]
  },
  {
   "cell_type": "markdown",
   "metadata": {},
   "source": [
    "### TODO3\n",
    "\n",
    "- code from keras https://github.com/keras-team/keras-preprocessing/blob/master/keras_preprocessing/sequence.py\n",
    "\n",
    "\n",
    "def make_sampling_table(size, sampling_factor=1e-5):\n",
    "\n",
    "    gamma = 0.577\n",
    "    rank = np.arange(size)\n",
    "    rank[0] = 1\n",
    "    inv_fq = rank * (np.log(rank) + gamma) + 0.5 - 1. / (12. * rank)\n",
    "    f = sampling_factor * inv_fq\n",
    "\n",
    "    return np.minimum(1., f / np.sqrt(f))\n",
    "\n",
    "โดย code จะทำการเทียบค่าที่ได้จากสูตรของ Euler-Mascheroni constant เพื่อมาเทียบกับ 1 เพื่อให้ ค่า ไม่ต่ำกว่า 1\n"
   ]
  },
  {
   "cell_type": "markdown",
   "metadata": {},
   "source": [
    "# Step 4: create the skip-gram model\n",
    "## <font color='blue'>Homework Question 4:</font>\n",
    " <font color='blue'>Q4:  In your own words, discuss why Sigmoid is chosen as the activation function in the  skip-gram model.</font>"
   ]
  },
  {
   "cell_type": "code",
   "execution_count": 22,
   "metadata": {},
   "outputs": [
    {
     "name": "stdout",
     "output_type": "stream",
     "text": [
      "__________________________________________________________________________________________________\n",
      "Layer (type)                    Output Shape         Param #     Connected to                     \n",
      "==================================================================================================\n",
      "input_2 (InputLayer)            (None, 1)            0                                            \n",
      "__________________________________________________________________________________________________\n",
      "input_3 (InputLayer)            (None, 1)            0                                            \n",
      "__________________________________________________________________________________________________\n",
      "embedding_2 (Embedding)         (None, 1, 32)        413056      input_2[0][0]                    \n",
      "__________________________________________________________________________________________________\n",
      "embedding_3 (Embedding)         (None, 1, 32)        413056      input_3[0][0]                    \n",
      "__________________________________________________________________________________________________\n",
      "dot_1 (Dot)                     (None, 1, 1)         0           embedding_2[0][0]                \n",
      "                                                                 embedding_3[0][0]                \n",
      "__________________________________________________________________________________________________\n",
      "reshape_1 (Reshape)             (None, 1)            0           dot_1[0][0]                      \n",
      "__________________________________________________________________________________________________\n",
      "activation_1 (Activation)       (None, 1)            0           reshape_1[0][0]                  \n",
      "==================================================================================================\n",
      "Total params: 826,112\n",
      "Trainable params: 826,112\n",
      "Non-trainable params: 0\n",
      "__________________________________________________________________________________________________\n"
     ]
    }
   ],
   "source": [
    "#reference: https://github.com/nzw0301/keras-examples/blob/master/Skip-gram-with-NS.ipynb\n",
    "dim_embedddings = 32\n",
    "V= len(dictionary)\n",
    "\n",
    "#step1: select the embedding of the target word from W\n",
    "w_inputs = Input(shape=(1, ), dtype='int32')\n",
    "w = Embedding(V, dim_embedddings)(w_inputs)\n",
    "\n",
    "#step2: select the embedding of the context word from C\n",
    "c_inputs = Input(shape=(1, ), dtype='int32')\n",
    "c  = Embedding(V, dim_embedddings)(c_inputs)\n",
    "\n",
    "#step3: compute the dot product:c_k*v_j\n",
    "o = Dot(axes=2)([w, c])\n",
    "o = Reshape((1,), input_shape=(1, 1))(o)\n",
    "\n",
    "#step4: normailize dot products into probability\n",
    "o = Activation('sigmoid')(o)\n",
    "#TO DO#4 Question: Why sigmoid?\n",
    "\n",
    "SkipGram = Model(inputs=[w_inputs, c_inputs], outputs=o)\n",
    "SkipGram.summary()\n",
    "opt=Adam(lr=0.01)\n",
    "SkipGram.compile(loss='binary_crossentropy', optimizer=opt)"
   ]
  },
  {
   "cell_type": "markdown",
   "metadata": {},
   "source": [
    "## TODO4\n",
    "ที่ใช้ sigmoid เพราะเรามอง target word เป็น input แล้วให้ content word เป็น output\n",
    "ซึ่งเราอาจมองอีกมุมได้ว่า output ที่ออกมามีแค่สองคลาส positive กับ negative\n",
    "คือบอกว่า คำนั้นเป็น content word จริงๆหรือเปล่า ถ้าจริงให้เป็น 1 (positive)\n",
    "โดยอาจจะกำหนดว่านับ n คำรอบข้างเป็น content word (ในที่นี้ skip windows = 1)"
   ]
  },
  {
   "cell_type": "code",
   "execution_count": 23,
   "metadata": {},
   "outputs": [
    {
     "name": "stdout",
     "output_type": "stream",
     "text": [
      "0.69314957 0\n",
      "0.6930973 100000\n",
      "0.69300973 200000\n",
      "0.69283605 300000\n",
      "0.6925089 400000\n",
      "0.691949 500000\n",
      "0.69102824 600000\n",
      "0.6896222 700000\n",
      "0.6875671 800000\n",
      "0.6847007 900000\n",
      "0.6808471 1000000\n",
      "0.67581296 1100000\n",
      "0.66942954 1200000\n",
      "0.66154355 1300000\n",
      "0.651993 1400000\n",
      "0.6407051 1500000\n",
      "0.6275127 1600000\n",
      "0.6124611 0\n",
      "0.59556586 100000\n",
      "0.5768438 200000\n",
      "0.55638826 300000\n",
      "0.5344516 400000\n",
      "0.5112528 500000\n",
      "0.4871404 600000\n",
      "0.4621769 700000\n",
      "0.43717784 800000\n",
      "0.41194844 900000\n",
      "0.3875823 1000000\n",
      "0.36407548 1100000\n",
      "0.34194064 1200000\n",
      "0.3210935 1300000\n",
      "0.3017513 1400000\n",
      "0.28490785 1500000\n",
      "0.2692344 1600000\n",
      "0.2559464 0\n",
      "0.24433362 100000\n",
      "0.23423819 200000\n",
      "0.22544746 300000\n",
      "0.21801165 400000\n",
      "0.211457 500000\n",
      "0.2066754 600000\n",
      "0.20216574 700000\n",
      "0.19836064 800000\n",
      "0.19506636 900000\n",
      "0.19218183 1000000\n",
      "0.19028223 1100000\n",
      "0.18789089 1200000\n",
      "0.18542248 1300000\n",
      "0.18414962 1400000\n",
      "0.18248372 1500000\n",
      "0.18179815 1600000\n",
      "0.18026426 0\n",
      "0.17874257 100000\n",
      "0.17841022 200000\n",
      "0.17751966 300000\n",
      "0.17637491 400000\n",
      "0.17531544 500000\n",
      "0.17493995 600000\n",
      "0.17408922 700000\n",
      "0.17340833 800000\n",
      "0.1727976 900000\n",
      "0.1723458 1000000\n",
      "0.17201391 1100000\n",
      "0.17161007 1200000\n",
      "0.17109549 1300000\n",
      "0.17078616 1400000\n",
      "0.17026627 1500000\n",
      "0.16977467 1600000\n",
      "0.16931216 0\n",
      "0.16943808 100000\n",
      "0.16882367 200000\n",
      "0.16843103 300000\n",
      "0.16824539 400000\n",
      "0.16773842 500000\n",
      "0.16748112 600000\n",
      "0.16734818 700000\n",
      "0.1672582 800000\n",
      "0.16714714 900000\n",
      "0.16692878 1000000\n",
      "0.16668919 1100000\n",
      "0.16671048 1200000\n",
      "0.1667386 1300000\n",
      "0.16617464 1400000\n",
      "0.16621007 1500000\n",
      "0.16614063 1600000\n",
      "0.16562292 0\n",
      "0.16554287 100000\n",
      "0.16555053 200000\n",
      "0.16537602 300000\n",
      "0.16525039 400000\n",
      "0.16493359 500000\n",
      "0.16484395 600000\n",
      "0.16486812 700000\n",
      "0.16465883 800000\n",
      "0.16419399 900000\n",
      "0.16404828 1000000\n",
      "0.16406575 1100000\n",
      "0.16434541 1200000\n",
      "0.16356471 1300000\n",
      "0.16398518 1400000\n",
      "0.16335383 1500000\n",
      "0.16342828 1600000\n",
      "0.16357996 0\n",
      "0.16313806 100000\n",
      "0.16299234 200000\n",
      "0.16246769 300000\n",
      "0.16255096 400000\n",
      "0.16263916 500000\n",
      "0.16217685 600000\n",
      "0.16198277 700000\n",
      "0.162024 800000\n",
      "0.1618356 900000\n",
      "0.16155446 1000000\n",
      "0.1615147 1100000\n",
      "0.1612217 1200000\n",
      "0.16132858 1300000\n",
      "0.16069946 1400000\n",
      "0.16069181 1500000\n",
      "0.16033854 1600000\n"
     ]
    }
   ],
   "source": [
    "for _ in range(7):\n",
    "    prev_i=0\n",
    "    for i in range(len(dataset)//100000):\n",
    "        data, labels = skipgrams(sequence=dataset[prev_i:i+100000], vocabulary_size=V, window_size=2, negative_samples=4.)\n",
    "        x = [np.array(x) for x in zip(*data)]\n",
    "        y = np.array(labels, dtype=np.int32)\n",
    "        if x:\n",
    "            loss = SkipGram.train_on_batch(x, y)\n",
    "        \n",
    "        print(loss,i*100000)\n"
   ]
  },
  {
   "cell_type": "code",
   "execution_count": 24,
   "metadata": {},
   "outputs": [],
   "source": [
    "SkipGram.save_weights('/data/hw05/my_skipgram32_weights-hw.h5')"
   ]
  },
  {
   "cell_type": "code",
   "execution_count": 25,
   "metadata": {
    "scrolled": true
   },
   "outputs": [
    {
     "name": "stdout",
     "output_type": "stream",
     "text": [
      "[[ 5.8591366e-05 -1.6447198e-02  4.8187826e-02 ... -2.3230636e-02\n",
      "   4.1143369e-02 -3.6969770e-02]\n",
      " [ 4.1308513e-01 -4.5252541e-01  4.4255382e-01 ... -4.2174384e-01\n",
      "  -4.5447698e-01  4.4123194e-01]\n",
      " [ 4.9859220e-01 -4.2630905e-01  3.9422598e-01 ... -4.8702997e-01\n",
      "  -4.4401658e-01  4.6962205e-01]\n",
      " ...\n",
      " [-1.6169347e-02 -4.0473640e-02 -3.6823831e-02 ... -2.4983883e-02\n",
      "   1.1228383e-02  4.6239384e-03]\n",
      " [ 4.6967354e-02  7.5398199e-03 -4.6363845e-03 ... -3.7272144e-02\n",
      "  -4.2194139e-02  2.0060252e-02]\n",
      " [ 4.0330913e-02 -2.9586876e-02  4.3005142e-02 ...  3.8204025e-02\n",
      "   2.8524254e-02 -1.5451394e-02]]\n"
     ]
    }
   ],
   "source": [
    "#Get weight of the embedding layer\n",
    "final_embeddings=SkipGram.get_weights()[0]\n",
    "print(final_embeddings)"
   ]
  },
  {
   "cell_type": "code",
   "execution_count": 26,
   "metadata": {},
   "outputs": [
    {
     "data": {
      "text/plain": [
       "12908"
      ]
     },
     "execution_count": 26,
     "metadata": {},
     "output_type": "execute_result"
    }
   ],
   "source": [
    "len(dictionary)"
   ]
  },
  {
   "cell_type": "code",
   "execution_count": 27,
   "metadata": {},
   "outputs": [
    {
     "data": {
      "text/plain": [
       "12908"
      ]
     },
     "execution_count": 27,
     "metadata": {},
     "output_type": "execute_result"
    }
   ],
   "source": [
    "len(final_embeddings)"
   ]
  },
  {
   "cell_type": "markdown",
   "metadata": {},
   "source": [
    "# Step 5: Intrinsic Evaluation: Word Vector Analogies\n",
    "## <font color='blue'>Homework Question 5: </font>\n",
    "<font color='blue'> Read section 2.1 and 2.3 in this [lecture note](http://web.stanford.edu/class/cs224n/readings/cs224n-2019-notes02-wordvecs2.pdf). Come up with 10 semantic analogy examples and report results produced by your word embeddings </font>\n"
   ]
  },
  {
   "cell_type": "code",
   "execution_count": 28,
   "metadata": {},
   "outputs": [],
   "source": [
    "def cosine_sim(a,b):\n",
    "    return (a.dot(b))/(np.linalg.norm(a)*np.linalg.norm(b))\n",
    "\n",
    "def cal_tmp_d(xa,xb,xc,xi):\n",
    "    xa = np.array(xa)\n",
    "    xb = np.array(xb)\n",
    "    xc = np.array(xc)\n",
    "    xi = np.array(xi)\n",
    "    tmp_x = xb-xa+xc\n",
    "    return (tmp_x.dot(xi))/np.sqrt(tmp_x.dot(tmp_x))\n",
    "\n",
    "def intrincsic_evaluate(s1,s2,s3):\n",
    "    if s1 not in dictionary:\n",
    "        print(\"{} not in dictionary\".format(s1))\n",
    "        return\n",
    "    if s2 not in dictionary:\n",
    "        print(\"{} not in dictionary\".format(s2))\n",
    "        return\n",
    "    if s3 not in dictionary:\n",
    "        print(\"{} not in dictionary\".format(s3))\n",
    "        return\n",
    "    \n",
    "    s1_index = dictionary[s1]\n",
    "    s1_vector = final_embeddings[s1_index]\n",
    "    \n",
    "    s2_index = dictionary[s2]\n",
    "    s2_vector = final_embeddings[s2_index]\n",
    "    \n",
    "    s3_index = dictionary[s3]\n",
    "    s3_vector = final_embeddings[s3_index]\n",
    "    \n",
    "    maximum_d = -100000000\n",
    "    maximum_index = 0\n",
    "    \n",
    "    # 0 is padding of keras\n",
    "    # 1 is UNK\n",
    "    # start from 2\n",
    "    for i in range(2,len(dictionary)):\n",
    "        #if word i is same is a,b,c just skip it\n",
    "        if s1_index == i or s2_index == i or s3_index == i:\n",
    "            continue\n",
    "        si_vector = final_embeddings[i]\n",
    "        # start state if maximum index = 0\n",
    "        if maximum_index == 0:\n",
    "            maximum_d = cal_tmp_d(s1_vector,s2_vector,s3_vector,si_vector)\n",
    "            maximum_index = i\n",
    "            continue\n",
    "            \n",
    "        # geneal case compute each d to maximize argmax d\n",
    "        tmp_d = cal_tmp_d(s1_vector,s2_vector,s3_vector,si_vector)\n",
    "        if (maximum_d < tmp_d):\n",
    "            maximum_d = tmp_d\n",
    "            maximum_index = i\n",
    "    return reverse_dictionary[maximum_index],maximum_index\n",
    "        "
   ]
  },
  {
   "cell_type": "code",
   "execution_count": 29,
   "metadata": {},
   "outputs": [
    {
     "name": "stdout",
     "output_type": "stream",
     "text": [
      "('เรื่อย', 798)\n"
     ]
    }
   ],
   "source": [
    "print(intrincsic_evaluate(\"แย่\",\"ร้าย\",\"ดี\"))"
   ]
  },
  {
   "cell_type": "code",
   "execution_count": 30,
   "metadata": {},
   "outputs": [
    {
     "data": {
      "text/plain": [
       "0.058742594"
      ]
     },
     "execution_count": 30,
     "metadata": {},
     "output_type": "execute_result"
    }
   ],
   "source": [
    "cosine_sim(final_embeddings[dictionary[\"แย่\"]], final_embeddings[dictionary[\"ดี\"]])"
   ]
  },
  {
   "cell_type": "code",
   "execution_count": 31,
   "metadata": {},
   "outputs": [
    {
     "data": {
      "text/plain": [
       "0.067643635"
      ]
     },
     "execution_count": 31,
     "metadata": {},
     "output_type": "execute_result"
    }
   ],
   "source": [
    "cosine_sim(final_embeddings[dictionary[\"แย่\"]], final_embeddings[dictionary[\"ไทย\"]])"
   ]
  },
  {
   "cell_type": "code",
   "execution_count": 32,
   "metadata": {},
   "outputs": [
    {
     "data": {
      "text/plain": [
       "0.9890215"
      ]
     },
     "execution_count": 32,
     "metadata": {},
     "output_type": "execute_result"
    }
   ],
   "source": [
    "cosine_sim(final_embeddings[dictionary[\"ไทย\"]], final_embeddings[dictionary[\"ดี\"]])"
   ]
  },
  {
   "cell_type": "code",
   "execution_count": 33,
   "metadata": {},
   "outputs": [
    {
     "data": {
      "text/plain": [
       "0.98898983"
      ]
     },
     "execution_count": 33,
     "metadata": {},
     "output_type": "execute_result"
    }
   ],
   "source": [
    "cosine_sim(final_embeddings[dictionary[\"ไทย\"]], final_embeddings[dictionary[\"วิชา\"]])"
   ]
  },
  {
   "cell_type": "code",
   "execution_count": 34,
   "metadata": {},
   "outputs": [
    {
     "name": "stdout",
     "output_type": "stream",
     "text": [
      "('จำเป็น', 481)\n"
     ]
    }
   ],
   "source": [
    "print(intrincsic_evaluate(\"ไทย\",\"ลพบุรี\",\"อังกฤษ\"))"
   ]
  },
  {
   "cell_type": "code",
   "execution_count": 35,
   "metadata": {},
   "outputs": [
    {
     "name": "stdout",
     "output_type": "stream",
     "text": [
      "('จำเป็น', 481)\n"
     ]
    }
   ],
   "source": [
    "print(intrincsic_evaluate(\"1\",\"2\",\"3\"))"
   ]
  },
  {
   "cell_type": "code",
   "execution_count": 36,
   "metadata": {},
   "outputs": [
    {
     "name": "stdout",
     "output_type": "stream",
     "text": [
      "('เรื่อย', 798)\n"
     ]
    }
   ],
   "source": [
    "print(intrincsic_evaluate(\"ค.ศ.\",\"พ.ศ.\",\"วัฒนธรรม\"))"
   ]
  },
  {
   "cell_type": "code",
   "execution_count": 37,
   "metadata": {},
   "outputs": [
    {
     "name": "stdout",
     "output_type": "stream",
     "text": [
      "('19', 538)\n"
     ]
    }
   ],
   "source": [
    "print(intrincsic_evaluate(\"มกราคม\",\"กุมภาพันธ์\",\"ตุลาคม\"))"
   ]
  },
  {
   "cell_type": "code",
   "execution_count": 38,
   "metadata": {},
   "outputs": [
    {
     "name": "stdout",
     "output_type": "stream",
     "text": [
      "('7', 284)\n"
     ]
    }
   ],
   "source": [
    "print(intrincsic_evaluate(\"ป่า\",\"ไม้\",\"คอนกรีต\"))"
   ]
  },
  {
   "cell_type": "code",
   "execution_count": 39,
   "metadata": {},
   "outputs": [
    {
     "name": "stdout",
     "output_type": "stream",
     "text": [
      "('จำเป็น', 481)\n"
     ]
    }
   ],
   "source": [
    "print(intrincsic_evaluate(\"ขนาด\",\"เล็ก\",\"ใหญ่\"))"
   ]
  },
  {
   "cell_type": "code",
   "execution_count": 40,
   "metadata": {},
   "outputs": [
    {
     "name": "stdout",
     "output_type": "stream",
     "text": [
      "('จำเป็น', 481)\n"
     ]
    }
   ],
   "source": [
    "print(intrincsic_evaluate(\"วิชา\",\"คณิต\",\"วิทยาศาสตร์\"))"
   ]
  },
  {
   "cell_type": "code",
   "execution_count": 41,
   "metadata": {},
   "outputs": [
    {
     "name": "stdout",
     "output_type": "stream",
     "text": [
      "('เรื่อย', 798)\n"
     ]
    }
   ],
   "source": [
    "print(intrincsic_evaluate(\"นอน\",\"หลับ\",\"ตื่น\"))"
   ]
  },
  {
   "cell_type": "code",
   "execution_count": 42,
   "metadata": {},
   "outputs": [
    {
     "name": "stdout",
     "output_type": "stream",
     "text": [
      "('จำเป็น', 481)\n"
     ]
    }
   ],
   "source": [
    "print(intrincsic_evaluate(\"ภาษา\",\"อักษร\",\"ศิลปะ\"))"
   ]
  },
  {
   "cell_type": "code",
   "execution_count": 43,
   "metadata": {},
   "outputs": [
    {
     "name": "stdout",
     "output_type": "stream",
     "text": [
      "('เรื่อย', 798)\n"
     ]
    }
   ],
   "source": [
    "print(intrincsic_evaluate(\"ดวง\",\"ดาว\",\"ฟ้า\"))"
   ]
  },
  {
   "cell_type": "code",
   "execution_count": 47,
   "metadata": {},
   "outputs": [
    {
     "name": "stdout",
     "output_type": "stream",
     "text": [
      "มกราคม\n",
      "มีนาคม\n",
      "ตุลาคม\n",
      "พฤศจิกายน\n",
      "พฤษภาคม\n",
      "ปี\n",
      "กรกฎาคม\n",
      "29\n",
      "กันยายน\n",
      "18\n"
     ]
    }
   ],
   "source": [
    "import scipy\n",
    "#scipy also provides you with a module that you can use to compare your target words against all the words in your corpus\n",
    "v = final_embeddings[dictionary[\"มกราคม\"]].reshape(1, -1)\n",
    "#just compare with top 10000 words....\n",
    "all_dist = scipy.spatial.distance.cdist(final_embeddings[:10000], v, 'cosine').reshape(-1)\n",
    "# get 20 nearest vector \n",
    "# argpartition can get top twenty very quickly, but they are not sorted\n",
    "idx =np.argpartition(all_dist, 10)[:10]\n",
    "#sort\n",
    "idx = idx[np.argsort(all_dist[idx[:20]])]\n",
    "for i in idx:\n",
    "    print(reverse_dictionary[i])"
   ]
  },
  {
   "cell_type": "code",
   "execution_count": 46,
   "metadata": {},
   "outputs": [
    {
     "data": {
      "text/plain": [
       "True"
      ]
     },
     "execution_count": 46,
     "metadata": {},
     "output_type": "execute_result"
    }
   ],
   "source": [
    "# TODO#5:Come up with 10 semantic analogy examples and report results produced by your word embeddings \n",
    "#and tell us what you observe \n",
    "\"ค.ศ.\" in dictionary"
   ]
  },
  {
   "cell_type": "code",
   "execution_count": 48,
   "metadata": {},
   "outputs": [],
   "source": [
    "def plot_with_labels(low_dim_embs, labels, filename=\"tsne_plot.png\"):\n",
    "    assert low_dim_embs.shape[0] >= len(labels), 'More labels than embeddings'\n",
    "    fp = mpl.font_manager.FontProperties(family='TH KoHo',size=17)\n",
    "    plt.figure(figsize=(15, 15))  # in inches\n",
    "    plt.axis('off')\n",
    "    for i, label in enumerate(labels):\n",
    "        x, y = low_dim_embs[i, :]\n",
    "        plt.scatter(x, y)\n",
    "        plt.annotate(label,\n",
    "                     xy=(x, y),\n",
    "                     xytext=(5, 2),\n",
    "                     textcoords='offset points',\n",
    "                     ha='right',\n",
    "                     va='bottom',\n",
    "                     fontproperties=fp)\n",
    "        \n",
    " \n",
    "    plt.show()\n",
    "    plt.savefig(filename)"
   ]
  },
  {
   "cell_type": "code",
   "execution_count": 49,
   "metadata": {},
   "outputs": [
    {
     "data": {
      "image/png": "[encoded data removed]",
      "text/plain": [
       "<Figure size 1080x1080 with 1 Axes>"
      ]
     },
     "metadata": {
      "needs_background": "light"
     },
     "output_type": "display_data"
    },
    {
     "data": {
      "text/plain": [
       "<Figure size 432x288 with 0 Axes>"
      ]
     },
     "metadata": {},
     "output_type": "display_data"
    }
   ],
   "source": [
    "from sklearn.manifold import TSNE\n",
    "import matplotlib.pyplot as plt\n",
    "import matplotlib as mpl\n",
    "\n",
    "tsne = TSNE(perplexity=30, n_components=2, init='pca', n_iter=2500)\n",
    "plot_only = 500 #only top 500 words\n",
    "low_dim_embs = tsne.fit_transform(final_embeddings[:plot_only, :])\n",
    "labels = [reverse_dictionary[i] for i in range(plot_only)]\n",
    "plot_with_labels(low_dim_embs, labels)"
   ]
  },
  {
   "cell_type": "markdown",
   "metadata": {},
   "source": [
    "# Step 6: Extrinsic Evaluation\n",
    "\n",
    "## <font color='blue'>Homework Question6:</font>\n",
    "<font color='blue'>\n",
    "Use the word embeddings from the skip-gram model as pre-trained weights in a classification model. Compare the result the with the same classification model that does not use the pre-trained weights. \n",
    "</font>\n"
   ]
  },
  {
   "cell_type": "code",
   "execution_count": 50,
   "metadata": {},
   "outputs": [],
   "source": [
    "all_news_filepath = glob.glob('/home/burin/corpora/BEST2010_RAW/training_set/news/*.txt')\n",
    "all_novel_filepath = glob.glob('/home/burin/corpora/BEST2010_RAW/training_set/novel/*.txt')\n",
    "all_article_filepath = glob.glob('/home/burin/corpora/BEST2010_RAW/training_set/article/*.txt')\n",
    "all_encyclopedia_filepath = glob.glob('/home/burin/corpora/BEST2010_RAW/training_set/encyclopedia/*.txt')"
   ]
  },
  {
   "cell_type": "code",
   "execution_count": 51,
   "metadata": {},
   "outputs": [],
   "source": [
    "#preparing data for the classificaiton model\n",
    "#In your homework, we will only use the first 2000 words in each text file\n",
    "#any text file that has less than 2000 words will be padded\n",
    "#reason:just to make this homework feasible under limited time and resource\n",
    "max_length = 2000\n",
    "def word_to_index(word):\n",
    "    if word in dictionary:\n",
    "        return dictionary[word]\n",
    "    else:#if unknown\n",
    "        return dictionary[\"UNK\"]\n",
    "\n",
    "\n",
    "def prep_data():\n",
    "    input_text = list()\n",
    "    for textfile_path in [all_news_filepath, all_novel_filepath, all_article_filepath, all_encyclopedia_filepath]:\n",
    "        for input_file in textfile_path:\n",
    "            f = open(input_file,\"r\") #open file with name of \"*.txt\"\n",
    "            text = re.sub(r'\\|', ' ', f.read()) # replace separation symbol with white space           \n",
    "            text = re.sub(r'<\\W?\\w+>', '', text)# remove <NE> </NE> <AB> </AB> tags\n",
    "            text = text.split() #split() method without an argument splits on whitespace \n",
    "            indexed_text = list(map(lambda x:word_to_index(x), text[:max_length])) #map raw word string to its index   \n",
    "            if 'news' in input_file:\n",
    "                input_text.append([indexed_text,0]) \n",
    "            elif 'novel' in input_file:\n",
    "                input_text.append([indexed_text,1]) \n",
    "            elif 'article' in input_file:\n",
    "                input_text.append([indexed_text,2]) \n",
    "            elif 'encyclopedia' in input_file:\n",
    "                input_text.append([indexed_text,3]) \n",
    "            \n",
    "            f.close()\n",
    "    random.shuffle(input_text)\n",
    "    return input_text\n",
    "\n",
    "input_data = prep_data()\n",
    "train_data = input_data[:int(len(input_data)*0.6)]\n",
    "val_data = input_data[int(len(input_data)*0.6):int(len(input_data)*0.8)]\n",
    "test_data = input_data[int(len(input_data)*0.8):]\n",
    "\n",
    "train_input = [data[0] for data in train_data]\n",
    "train_input = sequence.pad_sequences(train_input, maxlen=max_length) #padding\n",
    "train_target = [data[1] for data in train_data]\n",
    "train_target=to_categorical(train_target, num_classes=4)\n",
    "\n",
    "\n",
    "\n",
    "val_input = [data[0] for data in val_data]\n",
    "val_input = sequence.pad_sequences(val_input, maxlen=max_length) #padding\n",
    "val_target = [data[1] for data in val_data]\n",
    "val_target=to_categorical(val_target, num_classes=4)\n",
    "\n",
    "test_input = [data[0] for data in test_data]\n",
    "test_input = sequence.pad_sequences(test_input, maxlen=max_length) #padding\n",
    "test_target = [data[1] for data in test_data]\n",
    "test_target=to_categorical(test_target, num_classes=4)\n",
    "\n",
    "del input_data, val_data,train_data, test_data"
   ]
  },
  {
   "cell_type": "code",
   "execution_count": 52,
   "metadata": {},
   "outputs": [],
   "source": [
    "weigth_emd = SkipGram.get_weights()[0]"
   ]
  },
  {
   "cell_type": "markdown",
   "metadata": {},
   "source": [
    "## TODO6 model with pretrained weigth but not trainable (20 epoch)"
   ]
  },
  {
   "cell_type": "code",
   "execution_count": 53,
   "metadata": {},
   "outputs": [
    {
     "name": "stdout",
     "output_type": "stream",
     "text": [
      "_________________________________________________________________\n",
      "Layer (type)                 Output Shape              Param #   \n",
      "=================================================================\n",
      "embedding_6 (Embedding)      (None, 2000, 32)          413056    \n",
      "_________________________________________________________________\n",
      "gru_4 (GRU)                  (None, 32)                6240      \n",
      "_________________________________________________________________\n",
      "dropout_1 (Dropout)          (None, 32)                0         \n",
      "_________________________________________________________________\n",
      "dense_10 (Dense)             (None, 4)                 132       \n",
      "=================================================================\n",
      "Total params: 419,428\n",
      "Trainable params: 6,372\n",
      "Non-trainable params: 413,056\n",
      "_________________________________________________________________\n",
      "Train...\n",
      "Train on 303 samples, validate on 101 samples\n",
      "Epoch 1/10\n",
      "303/303 [==============================] - 43s 141ms/step - loss: 1.4670 - acc: 0.3267 - val_loss: 1.3298 - val_acc: 0.4257\n",
      "Epoch 2/10\n",
      "303/303 [==============================] - 42s 137ms/step - loss: 1.3550 - acc: 0.3795 - val_loss: 1.3233 - val_acc: 0.4356\n",
      "Epoch 3/10\n",
      "303/303 [==============================] - 42s 137ms/step - loss: 1.3668 - acc: 0.3729 - val_loss: 1.3090 - val_acc: 0.4356\n",
      "Epoch 4/10\n",
      "303/303 [==============================] - 42s 138ms/step - loss: 1.3578 - acc: 0.3663 - val_loss: 1.3037 - val_acc: 0.4356\n",
      "Epoch 5/10\n",
      "303/303 [==============================] - 42s 138ms/step - loss: 1.3361 - acc: 0.3696 - val_loss: 1.3285 - val_acc: 0.4554\n",
      "Epoch 6/10\n",
      "303/303 [==============================] - 42s 139ms/step - loss: 1.3258 - acc: 0.3861 - val_loss: 1.3087 - val_acc: 0.4257\n",
      "Epoch 7/10\n",
      "303/303 [==============================] - 42s 140ms/step - loss: 1.3591 - acc: 0.3729 - val_loss: 1.2963 - val_acc: 0.4554\n",
      "Epoch 8/10\n",
      "303/303 [==============================] - 43s 141ms/step - loss: 1.3552 - acc: 0.3696 - val_loss: 1.3263 - val_acc: 0.4356\n",
      "Epoch 9/10\n",
      "303/303 [==============================] - 42s 139ms/step - loss: 1.3265 - acc: 0.3894 - val_loss: 1.2884 - val_acc: 0.4257\n",
      "Epoch 10/10\n",
      "303/303 [==============================] - 42s 139ms/step - loss: 1.3440 - acc: 0.3696 - val_loss: 1.2973 - val_acc: 0.4356\n"
     ]
    },
    {
     "data": {
      "text/plain": [
       "<keras.callbacks.History at 0x7f77c8f6d5c0>"
      ]
     },
     "execution_count": 53,
     "metadata": {},
     "output_type": "execute_result"
    }
   ],
   "source": [
    "#the classification model\n",
    "#TO DO#6 find out how to initialize your embedding layer with pre-trained weights, evaluate and observe\n",
    "#don't forget to compare it with the same model that does not use pre-trained weights\n",
    "#you can use your own model too! and feel free to customize this model as you wish\n",
    "cls_model = Sequential()\n",
    "cls_model.add(Embedding(len(dictionary), 32, input_length=max_length,mask_zero=True,weights=[weigth_emd],trainable=False))\n",
    "cls_model.add(GRU(32))\n",
    "cls_model.add(Dropout(0.5))\n",
    "cls_model.add(Dense(4, activation='softmax'))\n",
    "opt=Adam(lr=0.01)\n",
    "cls_model.compile(loss='categorical_crossentropy', optimizer=opt, metrics=['accuracy'])\n",
    "cls_model.summary()\n",
    "print('Train...')\n",
    "cls_model.fit(train_input, train_target,\n",
    "          epochs=10,\n",
    "          validation_data=[val_input, val_target])"
   ]
  },
  {
   "cell_type": "code",
   "execution_count": 75,
   "metadata": {},
   "outputs": [
    {
     "name": "stdout",
     "output_type": "stream",
     "text": [
      "Train on 303 samples, validate on 101 samples\n",
      "Epoch 1/5\n",
      "303/303 [==============================] - 42s 139ms/step - loss: 1.3043 - acc: 0.3993 - val_loss: 1.3472 - val_acc: 0.3762\n",
      "Epoch 2/5\n",
      "303/303 [==============================] - 42s 138ms/step - loss: 1.3318 - acc: 0.4125 - val_loss: 1.2878 - val_acc: 0.4455\n",
      "Epoch 3/5\n",
      "303/303 [==============================] - 42s 140ms/step - loss: 1.2944 - acc: 0.4191 - val_loss: 1.3107 - val_acc: 0.4554\n",
      "Epoch 4/5\n",
      "303/303 [==============================] - 42s 140ms/step - loss: 1.2833 - acc: 0.4092 - val_loss: 1.3360 - val_acc: 0.2871\n",
      "Epoch 5/5\n",
      "303/303 [==============================] - 43s 142ms/step - loss: 1.3105 - acc: 0.3663 - val_loss: 1.2943 - val_acc: 0.4455\n"
     ]
    },
    {
     "data": {
      "text/plain": [
       "<keras.callbacks.History at 0x7f77c5dd32b0>"
      ]
     },
     "execution_count": 75,
     "metadata": {},
     "output_type": "execute_result"
    }
   ],
   "source": [
    "cls_model.fit(train_input, train_target,\n",
    "          epochs=5,\n",
    "          validation_data=[val_input, val_target])"
   ]
  },
  {
   "cell_type": "code",
   "execution_count": 83,
   "metadata": {},
   "outputs": [
    {
     "name": "stdout",
     "output_type": "stream",
     "text": [
      "Train on 303 samples, validate on 101 samples\n",
      "Epoch 1/5\n",
      "303/303 [==============================] - 42s 139ms/step - loss: 1.3311 - acc: 0.3894 - val_loss: 1.2926 - val_acc: 0.4356\n",
      "Epoch 2/5\n",
      "303/303 [==============================] - 42s 139ms/step - loss: 1.3282 - acc: 0.3861 - val_loss: 1.2933 - val_acc: 0.4455\n",
      "Epoch 3/5\n",
      "303/303 [==============================] - 42s 139ms/step - loss: 1.2923 - acc: 0.4125 - val_loss: 1.2666 - val_acc: 0.4653\n",
      "Epoch 4/5\n",
      "303/303 [==============================] - 42s 139ms/step - loss: 1.2671 - acc: 0.4389 - val_loss: 1.2295 - val_acc: 0.4752\n",
      "Epoch 5/5\n",
      "303/303 [==============================] - 43s 140ms/step - loss: 1.3191 - acc: 0.3927 - val_loss: 1.2476 - val_acc: 0.4455\n"
     ]
    },
    {
     "data": {
      "text/plain": [
       "<keras.callbacks.History at 0x7f77c546eeb8>"
      ]
     },
     "execution_count": 83,
     "metadata": {},
     "output_type": "execute_result"
    }
   ],
   "source": [
    "cls_model.fit(train_input, train_target,\n",
    "          epochs=5,\n",
    "          validation_data=[val_input, val_target])"
   ]
  },
  {
   "cell_type": "code",
   "execution_count": 84,
   "metadata": {},
   "outputs": [
    {
     "name": "stdout",
     "output_type": "stream",
     "text": [
      "0.2857282913165266\n",
      "0.4019607843137255\n",
      "0.2732089552238806\n",
      "0.33880952380952384\n"
     ]
    }
   ],
   "source": [
    "y_pred = cls_model.predict(test_input)\n",
    "y_pred = np.argmax(y_pred,axis=1)\n",
    "y_real = np.argmax(test_target,axis=1)\n",
    "\n",
    "print(f1_score(y_real,y_pred,average=\"macro\"))\n",
    "print(accuracy_score(y_real,y_pred))\n",
    "print(precision_score(y_real,y_pred,average=\"macro\"))\n",
    "print(recall_score(y_real,y_pred,average=\"macro\"))"
   ]
  },
  {
   "cell_type": "markdown",
   "metadata": {},
   "source": [
    "## model with pretrained and trainable weigth (20 epoch)"
   ]
  },
  {
   "cell_type": "code",
   "execution_count": 71,
   "metadata": {},
   "outputs": [
    {
     "name": "stdout",
     "output_type": "stream",
     "text": [
      "_________________________________________________________________\n",
      "Layer (type)                 Output Shape              Param #   \n",
      "=================================================================\n",
      "embedding_7 (Embedding)      (None, 2000, 32)          413056    \n",
      "_________________________________________________________________\n",
      "gru_5 (GRU)                  (None, 32)                6240      \n",
      "_________________________________________________________________\n",
      "dropout_2 (Dropout)          (None, 32)                0         \n",
      "_________________________________________________________________\n",
      "dense_11 (Dense)             (None, 4)                 132       \n",
      "=================================================================\n",
      "Total params: 419,428\n",
      "Trainable params: 419,428\n",
      "Non-trainable params: 0\n",
      "_________________________________________________________________\n",
      "Train...\n",
      "Train on 303 samples, validate on 101 samples\n",
      "Epoch 1/10\n",
      "303/303 [==============================] - 45s 148ms/step - loss: 1.4539 - acc: 0.2805 - val_loss: 1.3057 - val_acc: 0.4257\n",
      "Epoch 2/10\n",
      "303/303 [==============================] - 44s 144ms/step - loss: 1.3257 - acc: 0.3894 - val_loss: 1.3087 - val_acc: 0.4257\n",
      "Epoch 3/10\n",
      "303/303 [==============================] - 44s 144ms/step - loss: 1.2382 - acc: 0.4290 - val_loss: 1.3014 - val_acc: 0.4554\n",
      "Epoch 4/10\n",
      "303/303 [==============================] - 44s 144ms/step - loss: 1.1267 - acc: 0.5611 - val_loss: 1.2817 - val_acc: 0.4851\n",
      "Epoch 5/10\n",
      "303/303 [==============================] - 44s 144ms/step - loss: 0.7989 - acc: 0.8185 - val_loss: 1.0655 - val_acc: 0.5149\n",
      "Epoch 6/10\n",
      "303/303 [==============================] - 43s 144ms/step - loss: 0.2912 - acc: 0.9208 - val_loss: 1.1724 - val_acc: 0.5446\n",
      "Epoch 7/10\n",
      "303/303 [==============================] - 44s 145ms/step - loss: 0.1085 - acc: 0.9835 - val_loss: 1.1910 - val_acc: 0.6238\n",
      "Epoch 8/10\n",
      "303/303 [==============================] - 44s 145ms/step - loss: 0.0320 - acc: 0.9967 - val_loss: 1.2151 - val_acc: 0.6535\n",
      "Epoch 9/10\n",
      "303/303 [==============================] - 43s 143ms/step - loss: 0.0324 - acc: 0.9967 - val_loss: 1.2967 - val_acc: 0.6238\n",
      "Epoch 10/10\n",
      "303/303 [==============================] - 43s 143ms/step - loss: 0.0221 - acc: 1.0000 - val_loss: 1.3457 - val_acc: 0.6139\n"
     ]
    },
    {
     "data": {
      "text/plain": [
       "<keras.callbacks.History at 0x7f77c5afcba8>"
      ]
     },
     "execution_count": 71,
     "metadata": {},
     "output_type": "execute_result"
    }
   ],
   "source": [
    "tmodel = Sequential()\n",
    "tmodel.add(Embedding(len(dictionary), 32, input_length=max_length,mask_zero=True,weights=[weigth_emd],trainable=True))\n",
    "tmodel.add(GRU(32))\n",
    "tmodel.add(Dropout(0.5))\n",
    "tmodel.add(Dense(4, activation='softmax'))\n",
    "opt=Adam(lr=0.01)\n",
    "tmodel.compile(loss='categorical_crossentropy', optimizer=opt, metrics=['accuracy'])\n",
    "tmodel.summary()\n",
    "print('Train...')\n",
    "tmodel.fit(train_input, train_target,\n",
    "          epochs=10,\n",
    "          validation_data=[val_input, val_target])"
   ]
  },
  {
   "cell_type": "code",
   "execution_count": 77,
   "metadata": {},
   "outputs": [
    {
     "name": "stdout",
     "output_type": "stream",
     "text": [
      "Train on 303 samples, validate on 101 samples\n",
      "Epoch 1/5\n",
      "303/303 [==============================] - 42s 139ms/step - loss: 0.0160 - acc: 1.0000 - val_loss: 1.2633 - val_acc: 0.6436\n",
      "Epoch 2/5\n",
      "303/303 [==============================] - 42s 139ms/step - loss: 0.0081 - acc: 1.0000 - val_loss: 1.3097 - val_acc: 0.6535\n",
      "Epoch 3/5\n",
      "303/303 [==============================] - 44s 144ms/step - loss: 0.0049 - acc: 1.0000 - val_loss: 1.3208 - val_acc: 0.6733\n",
      "Epoch 4/5\n",
      "303/303 [==============================] - 43s 143ms/step - loss: 0.0044 - acc: 1.0000 - val_loss: 1.3108 - val_acc: 0.6634\n",
      "Epoch 5/5\n",
      "303/303 [==============================] - 43s 143ms/step - loss: 0.0022 - acc: 1.0000 - val_loss: 1.3152 - val_acc: 0.7030\n"
     ]
    },
    {
     "data": {
      "text/plain": [
       "<keras.callbacks.History at 0x7f77c54614e0>"
      ]
     },
     "execution_count": 77,
     "metadata": {},
     "output_type": "execute_result"
    }
   ],
   "source": [
    "tmodel.fit(train_input, train_target,\n",
    "          epochs=5,\n",
    "          validation_data=[val_input, val_target])"
   ]
  },
  {
   "cell_type": "code",
   "execution_count": 81,
   "metadata": {},
   "outputs": [
    {
     "name": "stdout",
     "output_type": "stream",
     "text": [
      "Train on 303 samples, validate on 101 samples\n",
      "Epoch 1/5\n",
      "303/303 [==============================] - 43s 143ms/step - loss: 0.0031 - acc: 1.0000 - val_loss: 1.3551 - val_acc: 0.6832\n",
      "Epoch 2/5\n",
      "303/303 [==============================] - 44s 144ms/step - loss: 0.0025 - acc: 1.0000 - val_loss: 1.3963 - val_acc: 0.6931\n",
      "Epoch 3/5\n",
      "303/303 [==============================] - 44s 144ms/step - loss: 0.0022 - acc: 1.0000 - val_loss: 1.4339 - val_acc: 0.7129\n",
      "Epoch 4/5\n",
      "303/303 [==============================] - 44s 144ms/step - loss: 0.0017 - acc: 1.0000 - val_loss: 1.4604 - val_acc: 0.7228\n",
      "Epoch 5/5\n",
      "303/303 [==============================] - 43s 141ms/step - loss: 0.0020 - acc: 1.0000 - val_loss: 1.4845 - val_acc: 0.7129\n"
     ]
    },
    {
     "data": {
      "text/plain": [
       "<keras.callbacks.History at 0x7f77c546cef0>"
      ]
     },
     "execution_count": 81,
     "metadata": {},
     "output_type": "execute_result"
    }
   ],
   "source": [
    "tmodel.fit(train_input, train_target,\n",
    "          epochs=5,\n",
    "          validation_data=[val_input, val_target])"
   ]
  },
  {
   "cell_type": "code",
   "execution_count": 82,
   "metadata": {},
   "outputs": [
    {
     "name": "stdout",
     "output_type": "stream",
     "text": [
      "0.6587341388711252\n",
      "0.6764705882352942\n",
      "0.7042320344129555\n",
      "0.6725\n"
     ]
    }
   ],
   "source": [
    "y_pred = tmodel.predict(test_input)\n",
    "y_pred = np.argmax(y_pred,axis=1)\n",
    "y_real = np.argmax(test_target,axis=1)\n",
    "\n",
    "print(f1_score(y_real,y_pred,average=\"macro\"))\n",
    "print(accuracy_score(y_real,y_pred))\n",
    "print(precision_score(y_real,y_pred,average=\"macro\"))\n",
    "print(recall_score(y_real,y_pred,average=\"macro\"))"
   ]
  },
  {
   "cell_type": "markdown",
   "metadata": {},
   "source": [
    "## normal model without pretrained weigth (20 epoch)"
   ]
  },
  {
   "cell_type": "code",
   "execution_count": 73,
   "metadata": {},
   "outputs": [
    {
     "name": "stdout",
     "output_type": "stream",
     "text": [
      "_________________________________________________________________\n",
      "Layer (type)                 Output Shape              Param #   \n",
      "=================================================================\n",
      "embedding_8 (Embedding)      (None, 2000, 32)          413056    \n",
      "_________________________________________________________________\n",
      "gru_6 (GRU)                  (None, 32)                6240      \n",
      "_________________________________________________________________\n",
      "dropout_3 (Dropout)          (None, 32)                0         \n",
      "_________________________________________________________________\n",
      "dense_12 (Dense)             (None, 4)                 132       \n",
      "=================================================================\n",
      "Total params: 419,428\n",
      "Trainable params: 419,428\n",
      "Non-trainable params: 0\n",
      "_________________________________________________________________\n",
      "Train...\n",
      "Train on 303 samples, validate on 101 samples\n",
      "Epoch 1/10\n",
      "303/303 [==============================] - 45s 148ms/step - loss: 1.3608 - acc: 0.3399 - val_loss: 1.3057 - val_acc: 0.4257\n",
      "Epoch 2/10\n",
      "303/303 [==============================] - 43s 143ms/step - loss: 1.1056 - acc: 0.4785 - val_loss: 2.6497 - val_acc: 0.4554\n",
      "Epoch 3/10\n",
      "303/303 [==============================] - 44s 144ms/step - loss: 1.1162 - acc: 0.6370 - val_loss: 1.2557 - val_acc: 0.4356\n",
      "Epoch 4/10\n",
      "303/303 [==============================] - 44s 144ms/step - loss: 0.5575 - acc: 0.8944 - val_loss: 1.3340 - val_acc: 0.4455\n",
      "Epoch 5/10\n",
      "303/303 [==============================] - 44s 144ms/step - loss: 0.2903 - acc: 0.9274 - val_loss: 1.5517 - val_acc: 0.4752\n",
      "Epoch 6/10\n",
      "303/303 [==============================] - 43s 143ms/step - loss: 0.1173 - acc: 0.9835 - val_loss: 1.7227 - val_acc: 0.4554\n",
      "Epoch 7/10\n",
      "303/303 [==============================] - 43s 143ms/step - loss: 0.0551 - acc: 0.9934 - val_loss: 1.9540 - val_acc: 0.4356\n",
      "Epoch 8/10\n",
      "303/303 [==============================] - 43s 143ms/step - loss: 0.0230 - acc: 1.0000 - val_loss: 2.1035 - val_acc: 0.5149\n",
      "Epoch 9/10\n",
      "303/303 [==============================] - 43s 143ms/step - loss: 0.0074 - acc: 1.0000 - val_loss: 2.2223 - val_acc: 0.5347\n",
      "Epoch 10/10\n",
      "303/303 [==============================] - 44s 144ms/step - loss: 0.0083 - acc: 1.0000 - val_loss: 2.1836 - val_acc: 0.5842\n"
     ]
    },
    {
     "data": {
      "text/plain": [
       "<keras.callbacks.History at 0x7f784451ef98>"
      ]
     },
     "execution_count": 73,
     "metadata": {},
     "output_type": "execute_result"
    }
   ],
   "source": [
    "## normal model without pretrained weigth\n",
    "nmodel = Sequential()\n",
    "nmodel.add(Embedding(len(dictionary), 32, input_length=max_length,mask_zero=True))\n",
    "nmodel.add(GRU(32))\n",
    "nmodel.add(Dropout(0.5))\n",
    "nmodel.add(Dense(4, activation='softmax'))\n",
    "opt=Adam(lr=0.01)\n",
    "nmodel.compile(loss='categorical_crossentropy', optimizer=opt, metrics=['accuracy'])\n",
    "nmodel.summary()\n",
    "print('Train...')\n",
    "nmodel.fit(train_input, train_target,epochs=10,validation_data=[val_input, val_target])"
   ]
  },
  {
   "cell_type": "code",
   "execution_count": 79,
   "metadata": {},
   "outputs": [
    {
     "name": "stdout",
     "output_type": "stream",
     "text": [
      "Train on 303 samples, validate on 101 samples\n",
      "Epoch 1/10\n",
      "303/303 [==============================] - 44s 144ms/step - loss: 0.0069 - acc: 1.0000 - val_loss: 2.2366 - val_acc: 0.5842\n",
      "Epoch 2/10\n",
      "303/303 [==============================] - 43s 143ms/step - loss: 0.0051 - acc: 1.0000 - val_loss: 2.2894 - val_acc: 0.5644\n",
      "Epoch 3/10\n",
      "303/303 [==============================] - 43s 143ms/step - loss: 0.0054 - acc: 1.0000 - val_loss: 2.3486 - val_acc: 0.5644\n",
      "Epoch 4/10\n",
      "303/303 [==============================] - 43s 143ms/step - loss: 0.0032 - acc: 1.0000 - val_loss: 2.4179 - val_acc: 0.5446\n",
      "Epoch 5/10\n",
      "303/303 [==============================] - 43s 143ms/step - loss: 0.0038 - acc: 1.0000 - val_loss: 2.4986 - val_acc: 0.5545\n",
      "Epoch 6/10\n",
      "303/303 [==============================] - 43s 143ms/step - loss: 0.0030 - acc: 1.0000 - val_loss: 2.5912 - val_acc: 0.5347\n",
      "Epoch 7/10\n",
      "303/303 [==============================] - 44s 145ms/step - loss: 0.0025 - acc: 1.0000 - val_loss: 2.6180 - val_acc: 0.5446\n",
      "Epoch 8/10\n",
      "303/303 [==============================] - 44s 144ms/step - loss: 0.0030 - acc: 1.0000 - val_loss: 2.6405 - val_acc: 0.5545\n",
      "Epoch 9/10\n",
      "303/303 [==============================] - 43s 143ms/step - loss: 0.0029 - acc: 1.0000 - val_loss: 2.6974 - val_acc: 0.5446\n",
      "Epoch 10/10\n",
      "303/303 [==============================] - 44s 144ms/step - loss: 0.0029 - acc: 1.0000 - val_loss: 2.7618 - val_acc: 0.5248\n"
     ]
    },
    {
     "data": {
      "text/plain": [
       "<keras.callbacks.History at 0x7f77c545e2b0>"
      ]
     },
     "execution_count": 79,
     "metadata": {},
     "output_type": "execute_result"
    }
   ],
   "source": [
    "nmodel.fit(train_input, train_target,epochs=10,validation_data=[val_input, val_target])"
   ]
  },
  {
   "cell_type": "code",
   "execution_count": 80,
   "metadata": {},
   "outputs": [
    {
     "name": "stdout",
     "output_type": "stream",
     "text": [
      "0.594167310451385\n",
      "0.6176470588235294\n",
      "0.6039507260864989\n",
      "0.5950793650793651\n"
     ]
    }
   ],
   "source": [
    "y_pred = nmodel.predict(test_input)\n",
    "y_pred = np.argmax(y_pred,axis=1)\n",
    "y_real = np.argmax(test_target,axis=1)\n",
    "\n",
    "print(f1_score(y_real,y_pred,average=\"macro\"))\n",
    "print(accuracy_score(y_real,y_pred))\n",
    "print(precision_score(y_real,y_pred,average=\"macro\"))\n",
    "print(recall_score(y_real,y_pred,average=\"macro\"))"
   ]
  },
  {
   "cell_type": "markdown",
   "metadata": {},
   "source": [
    "ถ้าเทียบทั้งสามโมเดล\n",
    "- แบบใช้ pretrained weigth แต่ train ต่อไม่ได้ fixed weitgh ไว้\n",
    "- แบบใช้ pretrained weigth trainable\n",
    "- normal model without any pretrained word\n",
    "\n",
    "\n",
    "ผลพบว่าแบบสองดีที่สุด และเมื่อ train ไปเรื่อยๆผลดีขึ้น ขณะที่โมเดลอื่น val_accuracy จะค่อนข้างคงที่"
   ]
  },
  {
   "cell_type": "code",
   "execution_count": null,
   "metadata": {},
   "outputs": [],
   "source": []
  }
 ],
 "metadata": {
  "anaconda-cloud": {},
  "kernelspec": {
   "display_name": "Python 3",
   "language": "python",
   "name": "python3"
  },
  "language_info": {
   "codemirror_mode": {
    "name": "ipython",
    "version": 3
   },
   "file_extension": ".py",
   "mimetype": "text/x-python",
   "name": "python",
   "nbconvert_exporter": "python",
   "pygments_lexer": "ipython3",
   "version": "3.5.2"
  }
 },
 "nbformat": 4,
 "nbformat_minor": 1
}
